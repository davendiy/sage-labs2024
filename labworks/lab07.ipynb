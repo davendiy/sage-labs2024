{
 "cells": [
  {
   "cell_type": "markdown",
   "id": "05f2e276-a41e-47eb-ae44-c9a086f1ee2f",
   "metadata": {},
   "source": [
    "# Лабораторна робота 7\n",
    "\n",
    "## Завдання 1\n",
    "\n",
    "Діедральна група $D_{20}$ має ряд нормальних підгруп: "
   ]
  },
  {
   "cell_type": "code",
   "execution_count": 1,
   "id": "ef40bea7-c681-40f5-a993-37d69d1d80e9",
   "metadata": {},
   "outputs": [
    {
     "data": {
      "text/plain": [
       "[40, 20, 20, 20, 10, 4, 2, 5, 1]"
      ]
     },
     "execution_count": 1,
     "metadata": {},
     "output_type": "execute_result"
    }
   ],
   "source": [
    "G = DihedralGroup(20)\n",
    "[N.order() for N in G.normal_subgroups()]"
   ]
  },
  {
   "cell_type": "markdown",
   "id": "da1335fa-baf4-424d-9239-5101687ac19a",
   "metadata": {},
   "source": [
    "Для кожної нормальної підгрупи $N$ побудуйте ендоморфізм $\\phi : D_{20} \\rightarrow D_{20}$ такий, що $Ker \\phi = N$. Задайте його через `PermutationGroupMorphism` і використайте метод `.kernel` як підтвердження. \n",
    "\n",
    "___Зауваження___: ядро має бути не __ізоморфне__ підгрупі, а __рівне__ їй."
   ]
  },
  {
   "cell_type": "markdown",
   "id": "71c90252-f03f-460b-a980-7769d6c006fd",
   "metadata": {},
   "source": [
    "## Завдання 2"
   ]
  },
  {
   "cell_type": "markdown",
   "id": "495700c5-fe4d-4491-9bf0-b2954472b682",
   "metadata": {},
   "source": [
    "Знайдіть центр та представників класів спряженості для груп $C_{11}, D_{13}, Q_{8}, SL(3, \\mathbb{Z}_7)$. Виведіть кількість елементів в кожній групі, кількість класів спряженості та запишіть формулу для них. "
   ]
  },
  {
   "cell_type": "markdown",
   "id": "347fcf55-3191-4b0d-b1ea-107aaa9ced49",
   "metadata": {},
   "source": [
    "## Завдання 3\n",
    "\n",
    "1. Побудуйте граф гіперкуба $C_4$ і знайдіть його групу автоморфізмів. Розгляньте цю групу і її дію на граф. Покажіть орбіти цієї групової дії та зробіть висновки. \n",
    "2. Знайдіть стабілізатор довільної вершини та розгляньте його як групу з дією на весь граф. Знайдіть орбіти цієї нової групової дії. Зробіть висновки в термінах гіперкуба."
   ]
  },
  {
   "cell_type": "code",
   "execution_count": null,
   "id": "c885637e-3dea-4def-888b-04d7f6793ae4",
   "metadata": {},
   "outputs": [],
   "source": [
    "G = graphs.CubeGraph(4)\n",
    "G"
   ]
  },
  {
   "cell_type": "markdown",
   "id": "1a1397af-ac06-453c-9d89-87394f62ecbb",
   "metadata": {},
   "source": [
    "## Завдання 4\n",
    "\n",
    "1. Знайдіть прості графи з найменшою к-тю вершин, в яких групи автоморфізмів ізоморфні $A_2$ і $A_3$ відповідно. \n",
    "2. (додаткова) Зробіть те саме для $A_4$ i $A_5$. "
   ]
  },
  {
   "cell_type": "markdown",
   "id": "fb875714-0bd6-415d-be3e-bf77eb05541f",
   "metadata": {},
   "source": [
    "## Завдання 5\n",
    "\n",
    "Побудуйте простий граф, в якого група автоморфізмів тривіальна. "
   ]
  },
  {
   "cell_type": "markdown",
   "id": "6ceca097-39c6-4eaf-8fba-2d951f9a53c5",
   "metadata": {},
   "source": [
    "## Завдання 6\n",
    "\n",
    "1. Побудуйте граф, як показано в коді нижче, і знайдіть його групу автоморфізмів. Розгляньте цю групу і її дію на граф. Покажіть орбіти цієї групової дії та зробіть висновки. \n",
    "2. Знайдіть стабілізатор довільної вершини та розгляньте його як групу з дією на весь граф. Знайдіть орбіти цієї нової групової дії. Зробіть висновки в термінах графа.\n",
    "\n",
    "_Підказка_: намалюйте граф як планарний за допомогою `.plot(layout='planar')` для кращої наочності."
   ]
  },
  {
   "cell_type": "code",
   "execution_count": null,
   "id": "2bb521fd-8570-41ec-ad71-07bddd38b02b",
   "metadata": {},
   "outputs": [],
   "source": [
    "G = graphs.CycleGraph(8)\n",
    "G.add_edges([(0, 2), (1, 3), (4, 6), (5, 7)])\n",
    "G"
   ]
  }
 ],
 "metadata": {
  "kernelspec": {
   "display_name": "SageMath 10.3",
   "language": "sage",
   "name": "sagemath-10.3"
  },
  "language_info": {
   "codemirror_mode": {
    "name": "ipython",
    "version": 3
   },
   "file_extension": ".py",
   "mimetype": "text/x-python",
   "name": "python",
   "nbconvert_exporter": "python",
   "pygments_lexer": "ipython3",
   "version": "3.11.8"
  }
 },
 "nbformat": 4,
 "nbformat_minor": 5
}
