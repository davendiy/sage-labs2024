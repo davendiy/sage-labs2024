{
 "cells": [
  {
   "cell_type": "code",
   "execution_count": 21,
   "id": "264a9010-f9d7-4c03-96f1-1611f0f9e2e8",
   "metadata": {},
   "outputs": [],
   "source": [
    "from tqdm.notebook import tqdm \n",
    "from itertools import combinations\n",
    "import os "
   ]
  },
  {
   "cell_type": "markdown",
   "id": "240177b2-c857-437b-9695-b2f6cdb7de5d",
   "metadata": {},
   "source": [
    "# Лабораторна робота 4. Підгрупи, системи твірних\n",
    "\n",
    "\n",
    "_Примітка_: наведений код є лише одним з можливих шаблонів виконання. Можете писати по-своєму, але розділяйте свій код на функції, щоб їх можна було простіше перевіряти.\n",
    "\n",
    "## Завдання 1. \n",
    "\n",
    "__Знайдіть усі незвідні системи твірних групи $S_4$.__"
   ]
  },
  {
   "cell_type": "code",
   "execution_count": 31,
   "id": "48c12298-55e9-4d0f-89c5-bdd276410db8",
   "metadata": {},
   "outputs": [],
   "source": [
    "# ваш код тут \n",
    "\n",
    "def check_irreducible(elements, group): \n",
    "    \"\"\"Перевіряє чи послідовність елементів є незвідною системою твірних.\"\"\"\n",
    "    if group.subgroup(elements) != group: \n",
    "        return False, 'not generate'\n",
    "\n",
    "    # виключаємо кожен елемент і перевіряємо чи залишається система твірною\n",
    "    new_gens = []\n",
    "    for i in range(len(elements)): \n",
    "        new_gens = elements[:i] + elements[i+1:]\n",
    "        if group.subgroup(new_gens) == group: \n",
    "            return False, 'not irreducible'\n",
    "    return True, ''"
   ]
  },
  {
   "cell_type": "code",
   "execution_count": 58,
   "id": "1c118e71-47a6-4f5d-8429-62a9a194cb16",
   "metadata": {},
   "outputs": [],
   "source": [
    "def check_irr_iterative(elements, checked, group): \n",
    "    \"\"\"Перевіряє чи послідовність елементів є незвідною системою твірних, \n",
    "    використовуючи вже перевірені послідовності меншої довжини. Використання \n",
    "    сейджових структур Subsets ришвидшує перебір.\"\"\"\n",
    "    if group.subgroup(elements) != group: \n",
    "        return False, 'not generate'\n",
    "\n",
    "    for el in checked: \n",
    "        if el.issubset(elements): \n",
    "            return False, 'not irreducible'\n",
    "\n",
    "    return True, ''"
   ]
  },
  {
   "cell_type": "code",
   "execution_count": 60,
   "id": "365e3121-37f4-4b75-ab11-5b3b400a6767",
   "metadata": {},
   "outputs": [
    {
     "data": {
      "application/vnd.jupyter.widget-view+json": {
       "model_id": "7ae2cbfceae940818143323cc2a491b7",
       "version_major": 2,
       "version_minor": 0
      },
      "text/plain": [
       "  0%|          | 0/1 [00:00<?, ?it/s]"
      ]
     },
     "metadata": {},
     "output_type": "display_data"
    },
    {
     "name": "stdout",
     "output_type": "stream",
     "text": [
      "irreducible generator sets of size 0: 0\n"
     ]
    },
    {
     "data": {
      "application/vnd.jupyter.widget-view+json": {
       "model_id": "0ae0e9511e7f4c2da558a2abf93abade",
       "version_major": 2,
       "version_minor": 0
      },
      "text/plain": [
       "  0%|          | 0/24 [00:00<?, ?it/s]"
      ]
     },
     "metadata": {},
     "output_type": "display_data"
    },
    {
     "name": "stdout",
     "output_type": "stream",
     "text": [
      "irreducible generator sets of size 1: 0\n"
     ]
    },
    {
     "data": {
      "application/vnd.jupyter.widget-view+json": {
       "model_id": "a8fce0614a184e9e83edf5bdaf812576",
       "version_major": 2,
       "version_minor": 0
      },
      "text/plain": [
       "  0%|          | 0/276 [00:00<?, ?it/s]"
      ]
     },
     "metadata": {},
     "output_type": "display_data"
    },
    {
     "name": "stdout",
     "output_type": "stream",
     "text": [
      "irreducible generator sets of size 2: 108\n"
     ]
    },
    {
     "data": {
      "application/vnd.jupyter.widget-view+json": {
       "model_id": "5024fa7cd5de4239bdef2982f1a5feaf",
       "version_major": 2,
       "version_minor": 0
      },
      "text/plain": [
       "  0%|          | 0/2024 [00:00<?, ?it/s]"
      ]
     },
     "metadata": {},
     "output_type": "display_data"
    },
    {
     "name": "stdout",
     "output_type": "stream",
     "text": [
      "irreducible generator sets of size 3: 148\n"
     ]
    },
    {
     "data": {
      "application/vnd.jupyter.widget-view+json": {
       "model_id": "e1dd32fa5cb5463eb5435d5773044b63",
       "version_major": 2,
       "version_minor": 0
      },
      "text/plain": [
       "  0%|          | 0/10626 [00:00<?, ?it/s]"
      ]
     },
     "metadata": {},
     "output_type": "display_data"
    },
    {
     "name": "stdout",
     "output_type": "stream",
     "text": [
      "irreducible generator sets of size 4: 0\n"
     ]
    },
    {
     "data": {
      "application/vnd.jupyter.widget-view+json": {
       "model_id": "a94ece89d87e4efab8faed510dcee4ca",
       "version_major": 2,
       "version_minor": 0
      },
      "text/plain": [
       "  0%|          | 0/42504 [00:00<?, ?it/s]"
      ]
     },
     "metadata": {},
     "output_type": "display_data"
    },
    {
     "name": "stdout",
     "output_type": "stream",
     "text": [
      "irreducible generator sets of size 5: 0\n"
     ]
    },
    {
     "data": {
      "application/vnd.jupyter.widget-view+json": {
       "model_id": "45ff884d41024995be12054a6b688962",
       "version_major": 2,
       "version_minor": 0
      },
      "text/plain": [
       "  0%|          | 0/134596 [00:00<?, ?it/s]"
      ]
     },
     "metadata": {},
     "output_type": "display_data"
    },
    {
     "name": "stderr",
     "output_type": "stream",
     "text": [
      "Exception ignored in: <function tqdm.__del__ at 0x111be36a0>\n",
      "Traceback (most recent call last):\n",
      "  File \"/Users/davendiy/.sage/local/lib/python3.11/site-packages/tqdm/std.py\", line 1148, in __del__\n",
      "    self.close()\n",
      "  File \"/Users/davendiy/.sage/local/lib/python3.11/site-packages/tqdm/notebook.py\", line 279, in close\n",
      "    self.disp(bar_style='danger', check_delay=False)\n",
      "  File \"/Users/davendiy/.sage/local/lib/python3.11/site-packages/tqdm/notebook.py\", line 154, in display\n",
      "    msg = self.format_meter(**d)\n",
      "          ^^^^^^^^^^^^^^^^^^^^^^\n",
      "  File \"/Users/davendiy/.sage/local/lib/python3.11/site-packages/tqdm/std.py\", line 615, in format_meter\n",
      "    l_bar += f'{percentage:3.0f}%|'\n",
      "             ^^^^^^^^^^^^^^^^^^^^^^\n",
      "TypeError: unsupported format string passed to sage.rings.rational.Rational.__format__\n"
     ]
    },
    {
     "name": "stdout",
     "output_type": "stream",
     "text": [
      "irreducible generator sets of size 6: 0\n"
     ]
    },
    {
     "data": {
      "application/vnd.jupyter.widget-view+json": {
       "model_id": "cfbb6377e9364c7aaaec46902ceb7612",
       "version_major": 2,
       "version_minor": 0
      },
      "text/plain": [
       "  0%|          | 0/346104 [00:00<?, ?it/s]"
      ]
     },
     "metadata": {},
     "output_type": "display_data"
    },
    {
     "name": "stdout",
     "output_type": "stream",
     "text": [
      "irreducible generator sets of size 7: 0\n"
     ]
    },
    {
     "data": {
      "application/vnd.jupyter.widget-view+json": {
       "model_id": "94608e9a41a44191ae64c03abd943522",
       "version_major": 2,
       "version_minor": 0
      },
      "text/plain": [
       "  0%|          | 0/735471 [00:00<?, ?it/s]"
      ]
     },
     "metadata": {},
     "output_type": "display_data"
    },
    {
     "name": "stdout",
     "output_type": "stream",
     "text": [
      "irreducible generator sets of size 8: 0\n"
     ]
    },
    {
     "data": {
      "application/vnd.jupyter.widget-view+json": {
       "model_id": "2992c95158bd4105a7d14ec43251be8d",
       "version_major": 2,
       "version_minor": 0
      },
      "text/plain": [
       "  0%|          | 0/1307504 [00:00<?, ?it/s]"
      ]
     },
     "metadata": {},
     "output_type": "display_data"
    },
    {
     "name": "stdout",
     "output_type": "stream",
     "text": [
      "irreducible generator sets of size 9: 0\n"
     ]
    },
    {
     "data": {
      "application/vnd.jupyter.widget-view+json": {
       "model_id": "c0aae265ddf24d29abfb7bad2d15d6e9",
       "version_major": 2,
       "version_minor": 0
      },
      "text/plain": [
       "  0%|          | 0/1961256 [00:00<?, ?it/s]"
      ]
     },
     "metadata": {},
     "output_type": "display_data"
    },
    {
     "name": "stdout",
     "output_type": "stream",
     "text": [
      "irreducible generator sets of size 10: 0\n"
     ]
    },
    {
     "data": {
      "application/vnd.jupyter.widget-view+json": {
       "model_id": "9c65dc956e69410dbbd809807a48bbe3",
       "version_major": 2,
       "version_minor": 0
      },
      "text/plain": [
       "  0%|          | 0/2496144 [00:00<?, ?it/s]"
      ]
     },
     "metadata": {},
     "output_type": "display_data"
    },
    {
     "ename": "KeyboardInterrupt",
     "evalue": "",
     "output_type": "error",
     "traceback": [
      "\u001b[0;31m---------------------------------------------------------------------------\u001b[0m",
      "\u001b[0;31mKeyboardInterrupt\u001b[0m                         Traceback (most recent call last)",
      "Cell \u001b[0;32mIn[60], line 13\u001b[0m\n\u001b[1;32m     11\u001b[0m \u001b[38;5;28;01mwith\u001b[39;00m \u001b[38;5;28mopen\u001b[39m(\u001b[38;5;124mf\u001b[39m\u001b[38;5;124m'\u001b[39m\u001b[38;5;124mtask1_irreducible_\u001b[39m\u001b[38;5;132;01m{\u001b[39;00mi\u001b[38;5;132;01m}\u001b[39;00m\u001b[38;5;124m.txt\u001b[39m\u001b[38;5;124m'\u001b[39m, \u001b[38;5;124m'\u001b[39m\u001b[38;5;124mw\u001b[39m\u001b[38;5;124m'\u001b[39m) \u001b[38;5;28;01mas\u001b[39;00m file: \n\u001b[1;32m     12\u001b[0m     \u001b[38;5;28;01mfor\u001b[39;00m gens \u001b[38;5;129;01min\u001b[39;00m tqdm(Subsets(G, i)): \n\u001b[0;32m---> 13\u001b[0m         ans, reason \u001b[38;5;241m=\u001b[39m \u001b[43mcheck_irr_iterative\u001b[49m\u001b[43m(\u001b[49m\u001b[43mgens\u001b[49m\u001b[43m,\u001b[49m\u001b[43m \u001b[49m\u001b[43mchecked\u001b[49m\u001b[43m,\u001b[49m\u001b[43m \u001b[49m\u001b[43mG\u001b[49m\u001b[43m)\u001b[49m \n\u001b[1;32m     14\u001b[0m         \u001b[38;5;28;01mif\u001b[39;00m ans: \n\u001b[1;32m     15\u001b[0m             checked\u001b[38;5;241m.\u001b[39mappend(gens)\n",
      "Cell \u001b[0;32mIn[58], line 2\u001b[0m, in \u001b[0;36mcheck_irr_iterative\u001b[0;34m(elements, checked, group)\u001b[0m\n\u001b[1;32m      1\u001b[0m \u001b[38;5;28;01mdef\u001b[39;00m \u001b[38;5;21mcheck_irr_iterative\u001b[39m(elements, checked, group): \n\u001b[0;32m----> 2\u001b[0m     \u001b[38;5;28;01mif\u001b[39;00m \u001b[43mgroup\u001b[49m\u001b[38;5;241;43m.\u001b[39;49m\u001b[43msubgroup\u001b[49m\u001b[43m(\u001b[49m\u001b[43melements\u001b[49m\u001b[43m)\u001b[49m\u001b[43m \u001b[49m\u001b[38;5;241;43m!=\u001b[39;49m\u001b[43m \u001b[49m\u001b[43mgroup\u001b[49m: \n\u001b[1;32m      3\u001b[0m         \u001b[38;5;28;01mreturn\u001b[39;00m \u001b[38;5;28;01mFalse\u001b[39;00m, \u001b[38;5;124m'\u001b[39m\u001b[38;5;124mnot generate\u001b[39m\u001b[38;5;124m'\u001b[39m\n\u001b[1;32m      5\u001b[0m     \u001b[38;5;28;01mfor\u001b[39;00m el \u001b[38;5;129;01min\u001b[39;00m checked: \n",
      "File \u001b[0;32m/private/var/tmp/sage-10.3-current/local/var/lib/sage/venv-python3.11.8/lib/python3.11/site-packages/sage/structure/richcmp.pyx:273\u001b[0m, in \u001b[0;36msage.structure.richcmp.slot_tp_richcompare (build/cythonized/sage/structure/richcmp.c:4281)\u001b[0;34m()\u001b[0m\n\u001b[1;32m    271\u001b[0m Function to put in the ``tp_richcompare`` slot.\n\u001b[1;32m    272\u001b[0m \"\"\"\n\u001b[0;32m--> 273\u001b[0m return self.__richcmp__(other, op)\n\u001b[1;32m    274\u001b[0m \n\u001b[1;32m    275\u001b[0m \n",
      "File \u001b[0;32m/private/var/tmp/sage-10.3-current/local/var/lib/sage/venv-python3.11.8/lib/python3.11/site-packages/sage/groups/perm_gps/permgroup.py:5149\u001b[0m, in \u001b[0;36mPermutationGroup_subgroup.__richcmp__\u001b[0;34m(self, other, op)\u001b[0m\n\u001b[1;32m   5146\u001b[0m \u001b[38;5;28;01mif\u001b[39;00m \u001b[38;5;129;01mnot\u001b[39;00m \u001b[38;5;28misinstance\u001b[39m(other, PermutationGroup_generic):\n\u001b[1;32m   5147\u001b[0m     \u001b[38;5;28;01mreturn\u001b[39;00m \u001b[38;5;28mNotImplemented\u001b[39m\n\u001b[0;32m-> 5149\u001b[0m c \u001b[38;5;241m=\u001b[39m \u001b[43mPermutationGroup_generic\u001b[49m\u001b[38;5;241;43m.\u001b[39;49m\u001b[43m__richcmp__\u001b[49m\u001b[43m(\u001b[49m\u001b[38;5;28;43mself\u001b[39;49m\u001b[43m,\u001b[49m\u001b[43m \u001b[49m\u001b[43mother\u001b[49m\u001b[43m,\u001b[49m\u001b[43m \u001b[49m\u001b[43mop_EQ\u001b[49m\u001b[43m)\u001b[49m\n\u001b[1;32m   5150\u001b[0m \u001b[38;5;28;01mif\u001b[39;00m \u001b[38;5;129;01mnot\u001b[39;00m c:\n\u001b[1;32m   5151\u001b[0m     \u001b[38;5;28;01mreturn\u001b[39;00m PermutationGroup_generic\u001b[38;5;241m.\u001b[39m__richcmp__(\u001b[38;5;28mself\u001b[39m, other, op)\n",
      "File \u001b[0;32m/private/var/tmp/sage-10.3-current/local/var/lib/sage/venv-python3.11.8/lib/python3.11/site-packages/sage/groups/perm_gps/permgroup.py:806\u001b[0m, in \u001b[0;36mPermutationGroup_generic.__richcmp__\u001b[0;34m(self, right, op)\u001b[0m\n\u001b[1;32m    804\u001b[0m gRight \u001b[38;5;241m=\u001b[39m right\u001b[38;5;241m.\u001b[39m_libgap_()\n\u001b[1;32m    805\u001b[0m \u001b[38;5;28;01mif\u001b[39;00m op \u001b[38;5;129;01min\u001b[39;00m [op_EQ,op_NE]:\n\u001b[0;32m--> 806\u001b[0m     \u001b[38;5;28;01mreturn\u001b[39;00m gSelf\u001b[38;5;241m.\u001b[39m_richcmp_(gRight, op)\n\u001b[1;32m    808\u001b[0m \u001b[38;5;28;01mif\u001b[39;00m gSelf\u001b[38;5;241m.\u001b[39mIsSubgroup(gRight):\n\u001b[1;32m    809\u001b[0m     \u001b[38;5;28;01mreturn\u001b[39;00m rich_to_bool(op, \u001b[38;5;241m1\u001b[39m)\n",
      "File \u001b[0;32m/private/var/tmp/sage-10.3-current/local/var/lib/sage/venv-python3.11.8/lib/python3.11/site-packages/sage/libs/gap/element.pyx:854\u001b[0m, in \u001b[0;36msage.libs.gap.element.GapElement._richcmp_ (build/cythonized/sage/libs/gap/element.c:13897)\u001b[0;34m()\u001b[0m\n\u001b[1;32m    852\u001b[0m     return hash(str(self))\n\u001b[1;32m    853\u001b[0m \n\u001b[0;32m--> 854\u001b[0m cpdef _richcmp_(self, other, int op) noexcept:\n\u001b[1;32m    855\u001b[0m     \"\"\"\n\u001b[1;32m    856\u001b[0m     Compare ``self`` with ``other``.\n",
      "File \u001b[0;32m/private/var/tmp/sage-10.3-current/local/var/lib/sage/venv-python3.11.8/lib/python3.11/site-packages/sage/libs/gap/element.pyx:922\u001b[0m, in \u001b[0;36msage.libs.gap.element.GapElement._richcmp_ (build/cythonized/sage/libs/gap/element.c:13596)\u001b[0;34m()\u001b[0m\n\u001b[1;32m    920\u001b[0m     return self._compare_equal(other) or self._compare_less(other)\n\u001b[1;32m    921\u001b[0m elif op == Py_EQ:\n\u001b[0;32m--> 922\u001b[0m     return self._compare_equal(other)\n\u001b[1;32m    923\u001b[0m elif op == Py_GT:\n\u001b[1;32m    924\u001b[0m     return not self._compare_less(other) and not self._compare_equal(other)\n",
      "File \u001b[0;32m/private/var/tmp/sage-10.3-current/local/var/lib/sage/venv-python3.11.8/lib/python3.11/site-packages/sage/libs/gap/element.pyx:946\u001b[0m, in \u001b[0;36msage.libs.gap.element.GapElement._compare_equal (build/cythonized/sage/libs/gap/element.c:14000)\u001b[0;34m()\u001b[0m\n\u001b[1;32m    944\u001b[0m     return id(self) == id(other)\n\u001b[1;32m    945\u001b[0m cdef GapElement c_other = <GapElement>other\n\u001b[0;32m--> 946\u001b[0m sig_on()\n\u001b[1;32m    947\u001b[0m try:\n\u001b[1;32m    948\u001b[0m     GAP_Enter()\n",
      "\u001b[0;31mKeyboardInterrupt\u001b[0m: "
     ]
    }
   ],
   "source": [
    "folder = './lab04_assets/'\n",
    "os.makedirs(folder, exist_ok=True)\n",
    "\n",
    "n = 4\n",
    "G = SymmetricGroup(n)\n",
    "\n",
    "checked = []\n",
    "\n",
    "for i in range(G.cardinality()): \n",
    "    res = 0\n",
    "    with open(folder + bf'task1_irreducible_{i}.txt', 'w') as file: \n",
    "        for gens in tqdm(Subsets(G, i)): \n",
    "            ans, reason = check_irr_iterative(gens, checked, G) \n",
    "            if ans: \n",
    "                checked.append(gens)\n",
    "                print(gens, file=file)\n",
    "                res += 1 \n",
    "    print(f'irreducible generator sets of size {i}:', res)"
   ]
  },
  {
   "cell_type": "code",
   "execution_count": 75,
   "id": "e1304d3d-65d1-40ce-90fb-fa89338fa435",
   "metadata": {},
   "outputs": [
    {
     "name": "stdout",
     "output_type": "stream",
     "text": [
      "[(3,4), (2,3,4), (1,3)(2,4)]\n",
      "[(2,3), (2,3,4), (1,3)(2,4)]\n",
      "[(2,4), (2,3,4), (1,3)(2,4)]\n",
      "[(1,2), (1,3,2), (1,3)(2,4)]\n",
      "[(2,3), (1,3,2), (1,3)(2,4)]\n",
      "[(1,3), (1,3,2), (1,3)(2,4)]\n",
      "[(3,4), (1,4,3), (1,3)(2,4)]\n",
      "[(1,4), (1,4,3), (1,3)(2,4)]\n",
      "[(1,3), (1,4,3), (1,3)(2,4)]\n",
      "[(1,2), (1,2,4), (1,3)(2,4)]\n",
      "...\n",
      "[(1,3)(2,4), (1,4), (1,3)]\n",
      "[(1,4)(2,3), (1,4), (1,3)]\n",
      "[(1,2)(3,4), (1,4), (1,3)]\n",
      "[(1,2), (1,4), (1,3)]\n",
      "[(2,3), (1,4), (1,3)]\n",
      "[(2,4), (1,4), (1,3)]\n",
      "[(3,4), (2,4), (1,3)]\n",
      "[(1,2), (2,4), (1,3)]\n",
      "[(2,3), (2,4), (1,3)]\n",
      "[(1,4), (2,4), (1,3)]\n"
     ]
    }
   ],
   "source": [
    "!head lab04_assets/task1_irreducible_3.txt\n",
    "!echo \"...\"\n",
    "!tail lab04_assets/task1_irreducible_3.txt"
   ]
  },
  {
   "cell_type": "markdown",
   "id": "bb9f5726-dd3b-48e0-85be-d725af835ce2",
   "metadata": {},
   "source": [
    "## Завдання 2. \n",
    "\n",
    "__Знайдіть усі підгрупи груп $S_4, A_4, S_5, A_5$.__"
   ]
  },
  {
   "cell_type": "code",
   "execution_count": 61,
   "id": "600b817c-bfd5-449c-8c18-67848ccb4403",
   "metadata": {},
   "outputs": [],
   "source": [
    "# ваш код тут \n",
    "\n",
    "groups = {\n",
    "    \"S4\": SymmetricGroup(4), \n",
    "    \"A4\": AlternatingGroup(4), \n",
    "    \"S5\": SymmetricGroup(5), \n",
    "    \"A5\": AlternatingGroup(5),\n",
    "}\n",
    "\n",
    "\n",
    "for name, group in groups.items(): \n",
    "    with open(folder + f'subgroups_{name}.txt', 'w') as file: \n",
    "        for sub in group.subgroups(): \n",
    "            print(sub, file=file)"
   ]
  },
  {
   "cell_type": "code",
   "execution_count": 64,
   "id": "a7d6a0ba-7b43-4a37-8b4b-9c2d500d47c4",
   "metadata": {},
   "outputs": [
    {
     "name": "stdout",
     "output_type": "stream",
     "text": [
      "Subgroup generated by [()] of (Symmetric group of order 4! as a permutation group)\n",
      "Subgroup generated by [(1,2)(3,4)] of (Symmetric group of order 4! as a permutation group)\n",
      "Subgroup generated by [(1,3)(2,4)] of (Symmetric group of order 4! as a permutation group)\n",
      "Subgroup generated by [(1,4)(2,3)] of (Symmetric group of order 4! as a permutation group)\n",
      "Subgroup generated by [(3,4)] of (Symmetric group of order 4! as a permutation group)\n",
      "Subgroup generated by [(2,3)] of (Symmetric group of order 4! as a permutation group)\n",
      "Subgroup generated by [(2,4)] of (Symmetric group of order 4! as a permutation group)\n",
      "Subgroup generated by [(1,2)] of (Symmetric group of order 4! as a permutation group)\n",
      "Subgroup generated by [(1,3)] of (Symmetric group of order 4! as a permutation group)\n",
      "Subgroup generated by [(1,4)] of (Symmetric group of order 4! as a permutation group)\n",
      "Subgroup generated by [(2,4,3)] of (Symmetric group of order 4! as a permutation group)\n",
      "Subgroup generated by [(1,3,2)] of (Symmetric group of order 4! as a permutation group)\n",
      "Subgroup generated by [(1,4,2)] of (Symmetric group of order 4! as a permutation group)\n",
      "Subgroup generated by [(1,4,3)] of (Symmetric group of order 4! as a permutation group)\n",
      "Subgroup generated by [(1,3)(2,4), (1,4)(2,3)] of (Symmetric group of order 4! as a permutation group)\n",
      "Subgroup generated by [(3,4), (1,2)(3,4)] of (Symmetric group of order 4! as a permutation group)\n",
      "Subgroup generated by [(1,4), (1,4)(2,3)] of (Symmetric group of order 4! as a permutation group)\n",
      "Subgroup generated by [(2,4), (1,3)(2,4)] of (Symmetric group of order 4! as a permutation group)\n",
      "Subgroup generated by [(1,2)(3,4), (1,3,2,4)] of (Symmetric group of order 4! as a permutation group)\n",
      "Subgroup generated by [(1,3)(2,4), (1,4,3,2)] of (Symmetric group of order 4! as a permutation group)\n",
      "Subgroup generated by [(1,2,4,3), (1,4)(2,3)] of (Symmetric group of order 4! as a permutation group)\n",
      "Subgroup generated by [(3,4), (2,4,3)] of (Symmetric group of order 4! as a permutation group)\n",
      "Subgroup generated by [(1,4,3), (1,4)] of (Symmetric group of order 4! as a permutation group)\n",
      "Subgroup generated by [(2,3), (1,3,2)] of (Symmetric group of order 4! as a permutation group)\n",
      "Subgroup generated by [(1,2), (1,4,2)] of (Symmetric group of order 4! as a permutation group)\n",
      "Subgroup generated by [(3,4), (1,3)(2,4), (1,4)(2,3)] of (Symmetric group of order 4! as a permutation group)\n",
      "Subgroup generated by [(1,2)(3,4), (1,3)(2,4), (1,4)] of (Symmetric group of order 4! as a permutation group)\n",
      "Subgroup generated by [(2,4), (1,2)(3,4), (1,4)(2,3)] of (Symmetric group of order 4! as a permutation group)\n",
      "Subgroup generated by [(2,4,3), (1,3)(2,4), (1,4)(2,3)] of (Symmetric group of order 4! as a permutation group)\n",
      "Subgroup generated by [(3,4), (2,4,3), (1,3)(2,4), (1,4)(2,3)] of (Symmetric group of order 4! as a permutation group)\n"
     ]
    }
   ],
   "source": [
    "!cat lab04_assets/subgroups_S4.txt"
   ]
  },
  {
   "cell_type": "code",
   "execution_count": 66,
   "id": "5ff57fe2-b57f-4de2-aab8-7f31e9014ea1",
   "metadata": {},
   "outputs": [
    {
     "name": "stdout",
     "output_type": "stream",
     "text": [
      "Subgroup generated by [()] of (Symmetric group of order 5! as a permutation group)\n",
      "Subgroup generated by [(4,5)] of (Symmetric group of order 5! as a permutation group)\n",
      "Subgroup generated by [(3,4)] of (Symmetric group of order 5! as a permutation group)\n",
      "Subgroup generated by [(3,5)] of (Symmetric group of order 5! as a permutation group)\n",
      "Subgroup generated by [(2,3)] of (Symmetric group of order 5! as a permutation group)\n",
      "Subgroup generated by [(2,4)] of (Symmetric group of order 5! as a permutation group)\n",
      "Subgroup generated by [(2,5)] of (Symmetric group of order 5! as a permutation group)\n",
      "Subgroup generated by [(1,2)] of (Symmetric group of order 5! as a permutation group)\n",
      "Subgroup generated by [(1,3)] of (Symmetric group of order 5! as a permutation group)\n",
      "Subgroup generated by [(1,4)] of (Symmetric group of order 5! as a permutation group)\n",
      "...\n",
      "Subgroup generated by [(1,5,4,2), (1,5)(2,3)] of (Symmetric group of order 5! as a permutation group)\n",
      "Subgroup generated by [(1,2)(4,5), (1,5,4,3)] of (Symmetric group of order 5! as a permutation group)\n",
      "Subgroup generated by [(1,2,4,3), (1,3)(4,5)] of (Symmetric group of order 5! as a permutation group)\n",
      "Subgroup generated by [(2,3,5,4), (2,4,3)] of (Symmetric group of order 5! as a permutation group)\n",
      "Subgroup generated by [(3,5,4), (1,5,3,4)] of (Symmetric group of order 5! as a permutation group)\n",
      "Subgroup generated by [(1,4,5,2), (1,5,4)] of (Symmetric group of order 5! as a permutation group)\n",
      "Subgroup generated by [(1,2,4,3), (1,3,2)] of (Symmetric group of order 5! as a permutation group)\n",
      "Subgroup generated by [(1,3,2,5), (1,5,2)] of (Symmetric group of order 5! as a permutation group)\n",
      "Subgroup generated by [(2,5,4), (1,4)(2,3)] of (Symmetric group of order 5! as a permutation group)\n",
      "Subgroup generated by [(4,5), (1,2,4,3)] of (Symmetric group of order 5! as a permutation group)\n"
     ]
    }
   ],
   "source": [
    "!head lab04_assets/subgroups_S5.txt\n",
    "!echo '...'\n",
    "!tail lab04_assets/subgroups_S5.txt"
   ]
  },
  {
   "cell_type": "markdown",
   "id": "653a9629-e757-442f-af0b-bd53b4694cff",
   "metadata": {},
   "source": [
    "## Завдання 3. \n",
    "\n",
    "__Задайте дві випадкові підстановки з групи $S_n, \\, (1 \\le n \\le 100)$. Перевірте чи є вони парними. Знайдіть порядок групи, ними породженої. Чи буде ця група дорівнювати $A_n$? $S_n$?__"
   ]
  },
  {
   "cell_type": "code",
   "execution_count": 69,
   "id": "ee732968-a661-4c26-b729-6b17b1e0a3e3",
   "metadata": {},
   "outputs": [
    {
     "data": {
      "text/plain": [
       "Subgroup generated by [(1,29,59,24,80,3,22,63,87,12,16,31,35,88,11,76,55,89,53,37,25,77,97,42,17,7,74,45,47,23,99,91,75,30,50,73,70,71,2,6,27,32,41,8,54,52,90,51,82,13,78,94,20,67,83,57,68,86,92,14,36,93,95,58,18,64,15,40,10)(4,72,61,84,28,26,5,79,48,21,56,98,33,19,9,46)(34,100,66,43,60,49,65,81,44,85,96)(38,39,62,69), (1,77,23,83,92,55,89,91,74,61,80,35,17,94,34,51,54,18,100,30,44,32,25,73,43,90,88,71,59,85,79,95,21,38,81,86,62,36,41,52,72,63,26,6,93,42,15,57,19,82,76,8,24,16,37,53,68,12,56,22,33,47,7,2,14,13,40,99,10,69,84,49,66,46,9,78,70,96,29,58,48)(3,67,45,65,4,27,50,39,5,20,11,75,98,64)(28,31,87,60)] of (Symmetric group of order 100! as a permutation group)"
      ]
     },
     "execution_count": 69,
     "metadata": {},
     "output_type": "execute_result"
    }
   ],
   "source": [
    "# ваш код тут\n",
    "\n",
    "n = 100\n",
    "\n",
    "G = SymmetricGroup(n)\n",
    "a = G.random_element()\n",
    "b = G.random_element()\n",
    "\n",
    "H = G.subgroup([a, b])\n",
    "H"
   ]
  },
  {
   "cell_type": "code",
   "execution_count": 70,
   "id": "e189f3f2-e06d-4ee7-9489-76b6078721e2",
   "metadata": {},
   "outputs": [
    {
     "data": {
      "text/plain": [
       "'A100'"
      ]
     },
     "execution_count": 70,
     "metadata": {},
     "output_type": "execute_result"
    }
   ],
   "source": [
    "H.structure_description()"
   ]
  },
  {
   "cell_type": "markdown",
   "id": "32485aa0-d40f-4b33-a030-7d3bd7722d70",
   "metadata": {},
   "source": [
    "## Завдання 4. \n",
    "\n",
    "__Покажіть, що теорема Лагранжа працює тільки в одну сторону: знайдіть приклад групи $G$ і дільник порядку цієї групи $d$ такі, що не існує підгрупи $H < G$ порядку $d$.__\n",
    "\n",
    "___Зауваження:___ група $A_4$ не приймається"
   ]
  },
  {
   "cell_type": "code",
   "execution_count": 72,
   "id": "1391015a-a20e-41d5-b631-6251d1e69316",
   "metadata": {},
   "outputs": [
    {
     "name": "stdout",
     "output_type": "stream",
     "text": [
      "40 divides order of G, but there is no subgroup of such order\n",
      "30 divides order of G, but there is no subgroup of such order\n",
      "15 divides order of G, but there is no subgroup of such order\n"
     ]
    }
   ],
   "source": [
    "# ваш код тут \n",
    "\n",
    "G = SymmetricGroup(5)\n",
    "orders = [el.order() for el in G.subgroups()]\n",
    "divs = divisors(G.order())\n",
    "\n",
    "res = set(divs) - set(orders)\n",
    "for div in res:\n",
    "    print(f\"{div} divides order of G, but there is no subgroup of such order\")"
   ]
  }
 ],
 "metadata": {
  "kernelspec": {
   "display_name": "SageMath 10.3",
   "language": "sage",
   "name": "sagemath-10.3"
  },
  "language_info": {
   "codemirror_mode": {
    "name": "ipython",
    "version": 3
   },
   "file_extension": ".py",
   "mimetype": "text/x-python",
   "name": "python",
   "nbconvert_exporter": "python",
   "pygments_lexer": "ipython3",
   "version": "3.11.8"
  }
 },
 "nbformat": 4,
 "nbformat_minor": 5
}
