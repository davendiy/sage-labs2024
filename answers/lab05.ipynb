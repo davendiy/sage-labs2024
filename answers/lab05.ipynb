{
 "cells": [
  {
   "cell_type": "markdown",
   "id": "853ce637-8316-439f-8787-5f6f25de4267",
   "metadata": {},
   "source": [
    "# Лабораторна робота 5 \n",
    "\n",
    "## Завдання 1\n",
    "\n",
    "Розгляньте групу матриць за множенням  \n",
    "\n",
    "$$G = \\left\\langle \\left(\\begin{array}{rrr}\n",
    "1 & 0 & 1 \\\\\n",
    "0 & 1 & 0 \\\\\n",
    "0 & 0 & 1\n",
    "\\end{array}\\right),  \\left(\\begin{array}{rrr}\n",
    "1 & 0 & 0 \\\\\n",
    "0 & 1 & 1 \\\\\n",
    "0 & 0 & 1\n",
    "\\end{array}\\right)\\right\\rangle$$\n",
    "\n",
    "Дайте відповідь на наступні питання: \n",
    "\n",
    "1. _Чи є група G скінченною?_\n",
    "2. _Чи є група G комутативною?_\n",
    "3. _Який вигляд мають елементи групи G?_\n",
    "4. _Які порядки мають елементи групи G?_ \n",
    "5. _Чому ізоморфна група G?_\n",
    "\n",
    "\n",
    "__Відповіді__: \n",
    "1. ___ніт___\n",
    "2. ___так___ \n",
    "3. $$G = \\left\\{ \\left(\\begin{array}{rrr}\n",
    "1 & 0 & n \\\\\n",
    "0 & 1 & m \\\\\n",
    "0 & 0 & 1\n",
    "\\end{array}\\right) \\, : \\, n,m \\in \\mathbb{Z}\\right\\}$$ \n",
    "4. $\\infty$\n",
    "5. $\\mathbb{Z}^2$ "
   ]
  },
  {
   "cell_type": "code",
   "execution_count": 10,
   "id": "be9b2439-0658-4e0a-93c6-0850a2e200fe",
   "metadata": {},
   "outputs": [],
   "source": [
    "# Ваш код з поясненнями тут. \n",
    "\n",
    "\n",
    "a = matrix(QQ, [[1, 0, 1], [0, 1, 0], [0, 0, 1]])\n",
    "b = matrix(QQ, [[1, 0, 0], [0, 1, 1], [0, 0, 1]])"
   ]
  },
  {
   "cell_type": "markdown",
   "id": "2189e7cd-08b8-427a-9917-40a4ce99cae3",
   "metadata": {},
   "source": [
    "__Генератори комутують, тому вся група комутативна.__"
   ]
  },
  {
   "cell_type": "code",
   "execution_count": 7,
   "id": "4c11373f-ffcb-493b-a24e-ed7f0b18b6af",
   "metadata": {},
   "outputs": [
    {
     "data": {
      "text/plain": [
       "[1 0 1]\n",
       "[0 1 1]\n",
       "[0 0 1]"
      ]
     },
     "execution_count": 7,
     "metadata": {},
     "output_type": "execute_result"
    }
   ],
   "source": [
    "a * b "
   ]
  },
  {
   "cell_type": "code",
   "execution_count": 8,
   "id": "97d15dc9-274b-4da5-9a2c-5743b1e792e5",
   "metadata": {},
   "outputs": [
    {
     "data": {
      "text/plain": [
       "[1 0 1]\n",
       "[0 1 1]\n",
       "[0 0 1]"
      ]
     },
     "execution_count": 8,
     "metadata": {},
     "output_type": "execute_result"
    }
   ],
   "source": [
    "b * a"
   ]
  },
  {
   "cell_type": "markdown",
   "id": "3d756437-dd48-4e91-a410-fb4ffa956967",
   "metadata": {},
   "source": [
    "__Явний вигляд елементів легко отримується з комутативності $a, b$__"
   ]
  },
  {
   "cell_type": "code",
   "execution_count": 11,
   "id": "2da395b7-fe60-4d7d-8034-8c8ceb322566",
   "metadata": {},
   "outputs": [
    {
     "data": {
      "text/plain": [
       "[1 0 n]\n",
       "[0 1 0]\n",
       "[0 0 1]"
      ]
     },
     "execution_count": 11,
     "metadata": {},
     "output_type": "execute_result"
    }
   ],
   "source": [
    "n = var('n')   \n",
    "m = var('m')\n",
    "a^n     # піднесемо в степінь символьно "
   ]
  },
  {
   "cell_type": "code",
   "execution_count": 4,
   "id": "cb44b74e-d16b-4e0e-8d67-9e59548e07b6",
   "metadata": {},
   "outputs": [
    {
     "data": {
      "text/plain": [
       "[1 0 0]\n",
       "[0 1 m]\n",
       "[0 0 1]"
      ]
     },
     "execution_count": 4,
     "metadata": {},
     "output_type": "execute_result"
    }
   ],
   "source": [
    "b^m"
   ]
  },
  {
   "cell_type": "code",
   "execution_count": 6,
   "id": "54a2fdde-b93b-455f-97ae-b1943837444b",
   "metadata": {},
   "outputs": [
    {
     "data": {
      "text/plain": [
       "[1 0 n]\n",
       "[0 1 m]\n",
       "[0 0 1]"
      ]
     },
     "execution_count": 6,
     "metadata": {},
     "output_type": "execute_result"
    }
   ],
   "source": [
    "a^n * b^m"
   ]
  },
  {
   "cell_type": "markdown",
   "id": "0152ff38-e2b2-4fbd-99a1-56d83dab02f1",
   "metadata": {},
   "source": [
    "__Порядки, очевидно, нескінченні.__"
   ]
  },
  {
   "cell_type": "code",
   "execution_count": 13,
   "id": "b7aef204-55f0-411a-ad7e-2a324154ddf6",
   "metadata": {},
   "outputs": [
    {
     "data": {
      "text/plain": [
       "[    1     0 100*n]\n",
       "[    0     1     0]\n",
       "[    0     0     1]"
      ]
     },
     "execution_count": 13,
     "metadata": {},
     "output_type": "execute_result"
    }
   ],
   "source": [
    "(a ^ n) ^ 100"
   ]
  },
  {
   "cell_type": "markdown",
   "id": "7bba9d97-90e4-4866-8a60-1c444261a321",
   "metadata": {},
   "source": [
    "__Природній ізоморфізм в $\\mathbb{Z}^2$:__ \n",
    "\n",
    "$$\\phi(a^n b^m) = (n, m)$$"
   ]
  },
  {
   "cell_type": "markdown",
   "id": "4b51fa8b-4aaf-4b15-9478-a546c500583d",
   "metadata": {},
   "source": [
    "\n",
    "-----------------\n",
    "\n",
    "## Завдання 2 \n",
    "\n",
    "Розгляньте групу матриць за множенням: \n",
    "\n",
    "$$G = \\left\\langle \\left(\\begin{array}{rr}\n",
    "1 & -1 \\\\\n",
    "-1 & 2\n",
    "\\end{array}\\right), \\left(\\begin{array}{rr}\n",
    "3 & 2 \\\\\n",
    "2 & 1\n",
    "\\end{array}\\right) \\right\\rangle$$\n",
    "\n",
    "Дайте відповідь на наступні питання: \n",
    "\n",
    "1. _Чи є група G скінченною?_\n",
    "2. _Чи є група G комутативною?_\n",
    "3. _Який вигляд мають елементи групи G?_\n",
    "4. _Які порядки мають елементи групи G?_ \n",
    "5. _Чому ізоморфна група G?_\n",
    "\n",
    "\n",
    "__Відповіді__: \n",
    "1. ___ніт___\n",
    "2. ___так___ \n",
    "3. $$G = \\left\\langle \\left(\\begin{array}{rr}\n",
    "1 & 1 \\\\\n",
    "1 & 0\n",
    "\\end{array}\\right) \\right\\rangle \\quad \\Rightarrow \\quad G = \\left\\{ \\left(\\begin{array}{rr}\n",
    "f_n & f_{n-1} \\\\\n",
    "f_{n-1} & f_{n-2}\n",
    "\\end{array}\\right)\\, : \\, n \\in \\mathbb{Z} \\right\\},$$ де $f_n$ -- н-те число Фібоначчі, якщо ми продовжимо послідовність для відʼємних $n$. \n",
    "4. $\\infty$ \n",
    "5. $\\mathbb{Z}$"
   ]
  },
  {
   "cell_type": "code",
   "execution_count": 52,
   "id": "90507d96-1506-4ac1-af8b-e7ad3840755a",
   "metadata": {},
   "outputs": [],
   "source": [
    "# Ваш код з поясненнями тут \n",
    "a = matrix(QQ, [[1, -1], [-1, 2]])\n",
    "b = matrix(QQ, [[3, 2], [2, 1]])\n"
   ]
  },
  {
   "cell_type": "markdown",
   "id": "f1ad1ed2-324c-46af-b29e-0a7e76ba59ed",
   "metadata": {},
   "source": [
    "__Генератори комутують:__"
   ]
  },
  {
   "cell_type": "code",
   "execution_count": 53,
   "id": "ea237a30-54fa-47a0-a4e7-75de95714a56",
   "metadata": {},
   "outputs": [
    {
     "data": {
      "text/plain": [
       "[1 1]\n",
       "[1 0]"
      ]
     },
     "execution_count": 53,
     "metadata": {},
     "output_type": "execute_result"
    }
   ],
   "source": [
    "a * b "
   ]
  },
  {
   "cell_type": "code",
   "execution_count": 15,
   "id": "baa7cbb1-e711-4a05-8fb8-c7edb14a1e4e",
   "metadata": {},
   "outputs": [
    {
     "data": {
      "text/plain": [
       "[1 1]\n",
       "[1 0]"
      ]
     },
     "execution_count": 15,
     "metadata": {},
     "output_type": "execute_result"
    }
   ],
   "source": [
    "b * a"
   ]
  },
  {
   "cell_type": "markdown",
   "id": "7d08ffa5-09c3-4079-9b71-72472a72dfab",
   "metadata": {},
   "source": [
    "__та виражаються через елемент $ab$:__"
   ]
  },
  {
   "cell_type": "code",
   "execution_count": 20,
   "id": "d038da9f-89be-4e19-bf6d-3101a3a1eb52",
   "metadata": {},
   "outputs": [
    {
     "data": {
      "text/plain": [
       "[1 1]\n",
       "[1 0]"
      ]
     },
     "execution_count": 20,
     "metadata": {},
     "output_type": "execute_result"
    }
   ],
   "source": [
    "x = a * b\n",
    "x"
   ]
  },
  {
   "cell_type": "code",
   "execution_count": 23,
   "id": "9dfdcd08-3855-4b76-a465-3fbdfdbae585",
   "metadata": {},
   "outputs": [
    {
     "data": {
      "text/plain": [
       "True"
      ]
     },
     "execution_count": 23,
     "metadata": {},
     "output_type": "execute_result"
    }
   ],
   "source": [
    "x ^ (-2) == a"
   ]
  },
  {
   "cell_type": "code",
   "execution_count": 25,
   "id": "c424a721-7ed3-4adb-b65d-986a57effcd6",
   "metadata": {},
   "outputs": [
    {
     "data": {
      "text/plain": [
       "True"
      ]
     },
     "execution_count": 25,
     "metadata": {},
     "output_type": "execute_result"
    }
   ],
   "source": [
    "x ^ 3 == b"
   ]
  },
  {
   "cell_type": "markdown",
   "id": "406204d7-44c8-4a93-8568-d25ec0c9bc5d",
   "metadata": {},
   "source": [
    "__Отже, група породжується одним елементом нескінченного порядку. Висновок: вона циклічна.__\n",
    "\n",
    "__Явне піднесення в степінь оманливо складне:__"
   ]
  },
  {
   "cell_type": "code",
   "execution_count": 56,
   "id": "5b2d643a-63c0-43ce-a305-eace4653ffbb",
   "metadata": {},
   "outputs": [
    {
     "data": {
      "text/plain": [
       "[                            1/2*(1/2*sqrt(5) + 1/2)^n*(sqrt(1/5) + 1) - 1/2*(-1/2*sqrt(5) + 1/2)^n*(sqrt(1/5) - 1)                                                 sqrt(1/5)*(1/2*sqrt(5) + 1/2)^n - sqrt(1/5)*(-1/2*sqrt(5) + 1/2)^n]\n",
       "[1/4*(1/2*sqrt(5) + 1/2)^n*(sqrt(5) - 1)*(sqrt(1/5) + 1) + 1/4*(-1/2*sqrt(5) + 1/2)^n*(sqrt(5) + 1)*(sqrt(1/5) - 1)             1/2*sqrt(1/5)*(-1/2*sqrt(5) + 1/2)^n*(sqrt(5) + 1) + 1/2*sqrt(1/5)*(1/2*sqrt(5) + 1/2)^n*(sqrt(5) - 1)]"
      ]
     },
     "execution_count": 56,
     "metadata": {},
     "output_type": "execute_result"
    }
   ],
   "source": [
    "x^n"
   ]
  },
  {
   "cell_type": "code",
   "execution_count": 54,
   "id": "79e9b8df-c4e7-43a8-84cd-2ad1a76ae6fa",
   "metadata": {},
   "outputs": [
    {
     "data": {
      "text/plain": [
       "\\left(\\begin{array}{rr}\n",
       "\\frac{1}{2} \\, {\\left(\\frac{1}{2} \\, \\sqrt{5} + \\frac{1}{2}\\right)}^{n} {\\left(\\sqrt{\\frac{1}{5}} + 1\\right)} - \\frac{1}{2} \\, {\\left(-\\frac{1}{2} \\, \\sqrt{5} + \\frac{1}{2}\\right)}^{n} {\\left(\\sqrt{\\frac{1}{5}} - 1\\right)} & \\sqrt{\\frac{1}{5}} {\\left(\\frac{1}{2} \\, \\sqrt{5} + \\frac{1}{2}\\right)}^{n} - \\sqrt{\\frac{1}{5}} {\\left(-\\frac{1}{2} \\, \\sqrt{5} + \\frac{1}{2}\\right)}^{n} \\\\\n",
       "\\frac{1}{4} \\, {\\left(\\frac{1}{2} \\, \\sqrt{5} + \\frac{1}{2}\\right)}^{n} {\\left(\\sqrt{5} - 1\\right)} {\\left(\\sqrt{\\frac{1}{5}} + 1\\right)} + \\frac{1}{4} \\, {\\left(-\\frac{1}{2} \\, \\sqrt{5} + \\frac{1}{2}\\right)}^{n} {\\left(\\sqrt{5} + 1\\right)} {\\left(\\sqrt{\\frac{1}{5}} - 1\\right)} & \\frac{1}{2} \\, \\sqrt{\\frac{1}{5}} {\\left(-\\frac{1}{2} \\, \\sqrt{5} + \\frac{1}{2}\\right)}^{n} {\\left(\\sqrt{5} + 1\\right)} + \\frac{1}{2} \\, \\sqrt{\\frac{1}{5}} {\\left(\\frac{1}{2} \\, \\sqrt{5} + \\frac{1}{2}\\right)}^{n} {\\left(\\sqrt{5} - 1\\right)}\n",
       "\\end{array}\\right)"
      ]
     },
     "execution_count": 54,
     "metadata": {},
     "output_type": "execute_result"
    }
   ],
   "source": [
    "latex(x ^ n)"
   ]
  },
  {
   "cell_type": "markdown",
   "id": "3a34b9f8-9222-4f54-8979-40f73c5958a8",
   "metadata": {},
   "source": [
    "$$\\left(\\begin{array}{rr}\n",
    "\\frac{1}{2} \\, {\\left(\\frac{1}{2} \\, \\sqrt{5} + \\frac{1}{2}\\right)}^{n} {\\left(\\sqrt{\\frac{1}{5}} + 1\\right)} - \\frac{1}{2} \\, {\\left(-\\frac{1}{2} \\, \\sqrt{5} + \\frac{1}{2}\\right)}^{n} {\\left(\\sqrt{\\frac{1}{5}} - 1\\right)} & \\sqrt{\\frac{1}{5}} {\\left(\\frac{1}{2} \\, \\sqrt{5} + \\frac{1}{2}\\right)}^{n} - \\sqrt{\\frac{1}{5}} {\\left(-\\frac{1}{2} \\, \\sqrt{5} + \\frac{1}{2}\\right)}^{n} \\\\\n",
    "\\frac{1}{4} \\, {\\left(\\frac{1}{2} \\, \\sqrt{5} + \\frac{1}{2}\\right)}^{n} {\\left(\\sqrt{5} - 1\\right)} {\\left(\\sqrt{\\frac{1}{5}} + 1\\right)} + \\frac{1}{4} \\, {\\left(-\\frac{1}{2} \\, \\sqrt{5} + \\frac{1}{2}\\right)}^{n} {\\left(\\sqrt{5} + 1\\right)} {\\left(\\sqrt{\\frac{1}{5}} - 1\\right)} & \\frac{1}{2} \\, \\sqrt{\\frac{1}{5}} {\\left(-\\frac{1}{2} \\, \\sqrt{5} + \\frac{1}{2}\\right)}^{n} {\\left(\\sqrt{5} + 1\\right)} + \\frac{1}{2} \\, \\sqrt{\\frac{1}{5}} {\\left(\\frac{1}{2} \\, \\sqrt{5} + \\frac{1}{2}\\right)}^{n} {\\left(\\sqrt{5} - 1\\right)}\n",
    "\\end{array}\\right)$$"
   ]
  },
  {
   "cell_type": "markdown",
   "id": "8f3ac158-a952-4af5-b751-625c52e381b5",
   "metadata": {},
   "source": [
    "__Проте, якщо попідносити власноруч, видно як елементами степенів матриці будуть числа Фібоначчі.__"
   ]
  },
  {
   "cell_type": "code",
   "execution_count": 30,
   "id": "0913f4dd-060e-48f4-aa66-9b5bd5f18367",
   "metadata": {},
   "outputs": [
    {
     "name": "stdout",
     "output_type": "stream",
     "text": [
      "[1 0]\n",
      "[0 1]\n",
      "\n",
      "[1 1]\n",
      "[1 0]\n",
      "\n",
      "[2 1]\n",
      "[1 1]\n",
      "\n",
      "[3 2]\n",
      "[2 1]\n",
      "\n",
      "[5 3]\n",
      "[3 2]\n",
      "\n",
      "[8 5]\n",
      "[5 3]\n",
      "\n",
      "[13  8]\n",
      "[ 8  5]\n",
      "\n",
      "[21 13]\n",
      "[13  8]\n",
      "\n",
      "[34 21]\n",
      "[21 13]\n",
      "\n"
     ]
    }
   ],
   "source": [
    "for i in range(9): \n",
    "    print(x ^ i)\n",
    "    print()"
   ]
  },
  {
   "cell_type": "markdown",
   "id": "885f03bc-8d3d-4e91-8f30-10fe1fc62cd4",
   "metadata": {},
   "source": [
    "__Дійсно, для додатніх степенів за індукцією легко довести:__\n",
    "$$x^n = x x^{n-1}  = \\left(\\begin{array}{rr}\n",
    "1 & 1 \\\\\n",
    "1 & 0\n",
    "\\end{array}\\right) \\left(\\begin{array}{rr}\n",
    "f_{n-1} & f_{n-2} \\\\\n",
    "f_{n-2} & f_{n-3}\n",
    "\\end{array}\\right)  = \\left(\\begin{array}{rr}\n",
    "f_{n} & f_{n-1} \\\\\n",
    "f_{n-1} & f_{n-2}\n",
    "\\end{array}\\right)$$\n",
    "\n",
    "__Відʼємні ж степені просто виражаються через обернену до $x$:__"
   ]
  },
  {
   "cell_type": "code",
   "execution_count": 31,
   "id": "be14c2dd-04c3-46d5-afdf-94d18f2e01ae",
   "metadata": {},
   "outputs": [
    {
     "name": "stdout",
     "output_type": "stream",
     "text": [
      "[1 0]\n",
      "[0 1]\n",
      "\n",
      "[ 0  1]\n",
      "[ 1 -1]\n",
      "\n",
      "[ 1 -1]\n",
      "[-1  2]\n",
      "\n",
      "[-1  2]\n",
      "[ 2 -3]\n",
      "\n",
      "[ 2 -3]\n",
      "[-3  5]\n",
      "\n",
      "[-3  5]\n",
      "[ 5 -8]\n",
      "\n",
      "[ 5 -8]\n",
      "[-8 13]\n",
      "\n",
      "[ -8  13]\n",
      "[ 13 -21]\n",
      "\n",
      "[ 13 -21]\n",
      "[-21  34]\n",
      "\n"
     ]
    }
   ],
   "source": [
    "for i in range(9): \n",
    "    print((x^(-1)) ^ i)\n",
    "    print()"
   ]
  },
  {
   "cell_type": "markdown",
   "id": "a0f6b355-bd98-413a-8c3d-c8ebe1d91c5a",
   "metadata": {},
   "source": [
    "__Залишається тільки акуратно записати явний вигляд.__"
   ]
  },
  {
   "cell_type": "markdown",
   "id": "19188467-cc30-42b5-a48c-1329337ff2c0",
   "metadata": {},
   "source": [
    "----------------\n",
    "\n",
    "## Завдання 3\n",
    "\n",
    "Розгляньте групу матриць за множенням: \n",
    "\n",
    "$$K = \\left\\langle \\left(\\begin{array}{rrr}\n",
    "-1 & 0 & 0 \\\\\n",
    "0 & 1 & \\frac{1}{2} \\\\\n",
    "0 & 0 & 1\n",
    "\\end{array}\\right), \n",
    "\\left(\\begin{array}{rrr}\n",
    "1 & 0 & 1 \\\\\n",
    "0 & 1 & 0 \\\\\n",
    "0 & 0 & 1\n",
    "\\end{array}\\right) \\right\\rangle$$\n",
    "\n",
    "Дайте відповідь на наступні питання: \n",
    "\n",
    "1. _Чи є група K скінченною?_\n",
    "2. _Чи є група K комутативною?_\n",
    "3. _Який вигляд мають елементи групи K?_\n",
    "4. _Які порядки мають елементи групи K?_ \n",
    "\n",
    "__Відповіді__: \n",
    "1. ___ніт___ \n",
    "2. ___ніт___ \n",
    "3. $$G = \\left\\{ \\left(\\begin{array}{rrr}\n",
    "1 & 0 & n \\\\\n",
    "0 & 1 & m \\\\\n",
    "0 & 0 & 1\n",
    "\\end{array}\\right), \\left(\\begin{array}{rrr}\n",
    "-1 & 0 & n \\\\\n",
    "0 & 1 & m + \\frac{1}{2} \\\\\n",
    "0 & 0 & 1\n",
    "\\end{array}\\right) \\, : \\, n, m \\in \\mathbb{Z} \\right\\} $$\n",
    "4. $\\infty$ \n",
    "\n",
    "__Додаткова задача:__\n",
    "Опишіть підгрупи групи K з точністю до ізоморфізму. "
   ]
  },
  {
   "cell_type": "code",
   "execution_count": 39,
   "id": "e527f82c-506c-4c52-8136-4b9ba5391e63",
   "metadata": {},
   "outputs": [
    {
     "data": {
      "text/plain": [
       "[1 0 n]\n",
       "[0 1 0]\n",
       "[0 0 1]"
      ]
     },
     "execution_count": 39,
     "metadata": {},
     "output_type": "execute_result"
    }
   ],
   "source": [
    "# Ваш код з поясненням тут\n",
    "\n",
    "a = matrix(QQ, [[1, 0, 1], [0, 1, 0], [0, 0, 1]])\n",
    "b = matrix(QQ, [[-1, 0, 0], [0, 1, 1/2], [0, 0, 1]])\n",
    "\n",
    "a ^ (n)"
   ]
  },
  {
   "cell_type": "markdown",
   "id": "595d7460-8c9b-4179-adc0-078b3c16caae",
   "metadata": {},
   "source": [
    "__Генератори не комутують.__"
   ]
  },
  {
   "cell_type": "code",
   "execution_count": 40,
   "id": "5fb6e727-1f9c-4ea6-9a57-08bb5d33541e",
   "metadata": {},
   "outputs": [
    {
     "data": {
      "text/plain": [
       "[ -1   0   1]\n",
       "[  0   1 1/2]\n",
       "[  0   0   1]"
      ]
     },
     "execution_count": 40,
     "metadata": {},
     "output_type": "execute_result"
    }
   ],
   "source": [
    "a * b"
   ]
  },
  {
   "cell_type": "code",
   "execution_count": 41,
   "id": "d341fe1d-185e-4d7b-9f59-9f455090526d",
   "metadata": {},
   "outputs": [
    {
     "data": {
      "text/plain": [
       "[ -1   0  -1]\n",
       "[  0   1 1/2]\n",
       "[  0   0   1]"
      ]
     },
     "execution_count": 41,
     "metadata": {},
     "output_type": "execute_result"
    }
   ],
   "source": [
    "b * a"
   ]
  },
  {
   "cell_type": "markdown",
   "id": "f39623e7-3e5f-4490-a321-91480aeeae12",
   "metadata": {},
   "source": [
    "__$a$ i $b^2$ утворюють вже знайому нам групу $\\mathbb{Z}^2$:__"
   ]
  },
  {
   "cell_type": "code",
   "execution_count": 45,
   "id": "33d1c36d-55ea-4fd4-803f-64be801cde21",
   "metadata": {},
   "outputs": [
    {
     "data": {
      "text/plain": [
       "[1 0 1]\n",
       "[0 1 0]\n",
       "[0 0 1]"
      ]
     },
     "execution_count": 45,
     "metadata": {},
     "output_type": "execute_result"
    }
   ],
   "source": [
    "a"
   ]
  },
  {
   "cell_type": "code",
   "execution_count": 44,
   "id": "7858c994-dcfd-4f5d-b0ce-2e15c27af7d0",
   "metadata": {},
   "outputs": [
    {
     "data": {
      "text/plain": [
       "[1 0 0]\n",
       "[0 1 1]\n",
       "[0 0 1]"
      ]
     },
     "execution_count": 44,
     "metadata": {},
     "output_type": "execute_result"
    }
   ],
   "source": [
    "b^2"
   ]
  },
  {
   "cell_type": "code",
   "execution_count": 48,
   "id": "9b6ba0d7-0296-4408-bee2-2149cba8d4eb",
   "metadata": {},
   "outputs": [
    {
     "data": {
      "text/plain": [
       "[1 0 n]\n",
       "[0 1 m]\n",
       "[0 0 1]"
      ]
     },
     "execution_count": 48,
     "metadata": {},
     "output_type": "execute_result"
    }
   ],
   "source": [
    "(a^n * (b^2)^m)"
   ]
  },
  {
   "cell_type": "markdown",
   "id": "17bdbbcc-cf15-4e0d-b6e5-bd9b9bf7e222",
   "metadata": {},
   "source": [
    "__Натомість $b$ додає до $\\mathbb{Z}^2$ ще ряд елементів:__"
   ]
  },
  {
   "cell_type": "code",
   "execution_count": 51,
   "id": "cace0078-8cf9-42d2-b55c-657c31887963",
   "metadata": {},
   "outputs": [
    {
     "data": {
      "text/plain": [
       "[     -1       0       n]\n",
       "[      0       1 m + 1/2]\n",
       "[      0       0       1]"
      ]
     },
     "execution_count": 51,
     "metadata": {},
     "output_type": "execute_result"
    }
   ],
   "source": [
    "(a^n * (b^2)^m) * b"
   ]
  },
  {
   "cell_type": "markdown",
   "id": "8872ddd0-223e-4284-9d59-a8f35b04409e",
   "metadata": {},
   "source": [
    "__Залишилось тільки довести, що елементів іншого виду немає.__"
   ]
  },
  {
   "cell_type": "markdown",
   "id": "ceb550ac-b6d9-4ba7-a07f-3b9e5bcbcb84",
   "metadata": {},
   "source": [
    "### Додаткова задача\n",
    "\n",
    "__Відповідь:__ у групі $G$ існують тільки підгрупи ізоморфні $G, \\mathbb{Z}^2, \\mathbb{Z}, \\{e\\}$. При чому, підгрупи виду $G$ та $ \\mathbb{Z}^2$ мають скінченний індекс, а підгрупи виду $\\mathbb{Z}$ нескінченний. Інших підгруп немає. "
   ]
  }
 ],
 "metadata": {
  "kernelspec": {
   "display_name": "SageMath 10.3",
   "language": "sage",
   "name": "sagemath-10.3"
  },
  "language_info": {
   "codemirror_mode": {
    "name": "ipython",
    "version": 3
   },
   "file_extension": ".py",
   "mimetype": "text/x-python",
   "name": "python",
   "nbconvert_exporter": "python",
   "pygments_lexer": "ipython3",
   "version": "3.11.8"
  }
 },
 "nbformat": 4,
 "nbformat_minor": 5
}
