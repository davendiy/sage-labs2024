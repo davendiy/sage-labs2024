{
 "cells": [
  {
   "cell_type": "code",
   "execution_count": 81,
   "id": "493df381-4527-48b8-9673-06dbb1c37382",
   "metadata": {},
   "outputs": [],
   "source": [
    "from tqdm.notebook import tqdm \n",
    "from collections import Counter \n",
    "import os \n",
    "import time "
   ]
  },
  {
   "cell_type": "markdown",
   "id": "088d0c68-43d4-421c-bdda-91b406d863ba",
   "metadata": {},
   "source": [
    "# Лабораторна робота 3. Групи, порядок елемента в групі\n",
    "\n",
    "_Примітка_: наведений код є лише одним з можливих шаблонів виконання. Можете писати по-своєму, але розділяйте свій код на функції, щоб їх можна було простіше перевіряти.\n",
    "\n",
    "## Завдання 1. \n",
    "\n",
    "__Задайте групи $D_{10}$, $Z_{16}$, $A_5$, $SL(2, \\mathbb{Z}_3)$*. Для кожної з них виведіть таблицю Келі, знайдіть порядок групи, перевірте чи група абелева. Перевірте чи будуть ізоморфними групи $SL(2, Z_3)$ та $D_{12}$.__\n",
    "\n",
    "*: група матриць 2х2 з визначником 1 над полем $\\mathbb{Z}_3$"
   ]
  },
  {
   "cell_type": "code",
   "execution_count": 9,
   "id": "8411013e-cb5f-4276-9113-e0bf1a966b4f",
   "metadata": {},
   "outputs": [],
   "source": [
    "# ваш код тут \n",
    "\n",
    "def describe(group, file):\n",
    "    print('\\n\\n==================================', file=file)\n",
    "    print('Group', group, 'which is isomorphic to ', group.structure_description(), file=file)\n",
    "    print(ascii_art(group.cayley_table()), file=file)\n",
    "    print('group is abelian:', group.is_abelian(), file=file)\n",
    "    print('order of group:', group.order(), file=file)\n",
    "    print('==================================\\n\\n', file=file)\n",
    "    \n",
    "\n",
    "folder = './lab03_assets/'\n",
    "os.makedirs(folder, exist_ok=True)\n",
    "\n",
    "with open(folder + 'task1_output.txt', 'w') as file: \n",
    "    for G in [\n",
    "        DihedralGroup(10), \n",
    "        CyclicPermutationGroup(16), \n",
    "        AlternatingGroup(5), \n",
    "        SL(2, Integers(3)),\n",
    "    ]: \n",
    "        describe(G, file)\n"
   ]
  },
  {
   "cell_type": "code",
   "execution_count": 11,
   "id": "d1130c6e-cd59-40d2-b7bb-3b5b40682f54",
   "metadata": {},
   "outputs": [
    {
     "name": "stdout",
     "output_type": "stream",
     "text": [
      "\n",
      "\n",
      "==================================\n",
      "Group Dihedral group of order 20 as a permutation group which is isomorphic to  D10\n",
      "*  a b c d e f g h i j k l m n o p q r s t\n",
      " +----------------------------------------\n",
      "a| a b c d e f g h i j k l m n o p q r s t\n",
      "b| b a d c f e h g j i l k n m p o r q t s\n",
      "c| c s a e d g f i h k j m l o n q p t b r\n",
      "d| d t b f c h e j g l i n k p m r o s a q\n",
      "...\n",
      "...\n",
      "...\n",
      "t| x r u k n h t b j q a m w c g o v f l p e i s d\n",
      "u| v p s j m g u a l r c o x b i n w d k q f h t e\n",
      "v| n k h u r x v o f s i d p l e j b t g c w m a q\n",
      "w| m j g s p v w n d t h e q k f l a u i b x o c r\n",
      "x| o l i t q w x m e u g f r j d k c s h a v n b p\n",
      "group is abelian: False\n",
      "order of group: 24\n",
      "==================================\n",
      "\n",
      "\n"
     ]
    }
   ],
   "source": [
    "!head lab03_assets/task1_output.txt\n",
    "!echo \"...\"\n",
    "!echo \"...\"\n",
    "!echo \"...\"\n",
    "!tail lab03_assets/task1_output.txt"
   ]
  },
  {
   "cell_type": "markdown",
   "id": "101bece3-af83-4515-ba1a-e2d825b15a8d",
   "metadata": {},
   "source": [
    "## Завдання 2. \n",
    "\n",
    "__Знайдіть к-ть елементів кожного можливого порядку в групах $S_{100}$ та $A_{100}$.__\n",
    "\n",
    "___Зауваження___: вивід буде великий, збережіть його в окремий текстовий файл\n",
    "\n",
    "___Зауваження 2___: оцініть спершу к-ть елементів в групі, а потім ще раз подумайте чи варто тут писати повний перебір\n",
    "\n",
    "-----\n",
    "\n",
    "Нехай маємо елемент групи підстановок $g \\in S_n$. Запишемо його як добуток незалежних циклів $g = c_1 c_2 \\dots c_k$. Тоді порядок елемента записується як найменше спільне кратне довжин циклів: \n",
    "\n",
    "$$order(g) = lcm(len(c_1), len(c_2), \\dots len(c_k))$$\n",
    "\n",
    "Отже, порядок елемента залежить виключно від довжин циклів. Це рівносильно задачі знайти всі розбиття числа $n$ на суму довільної к-ті додатніх чисел, також знаної як [Integer Partitions](https://en.wikipedia.org/wiki/Integer_partition).\n",
    "\n",
    "Заилишилось лише визначити скільки елементів у групі $S_n$ мають задані довжини незалежних циклів $(c_1, c_2, c_3, \\dots c_k)$, i.e. мають заданий ___цикловий тип___."
   ]
  },
  {
   "cell_type": "code",
   "execution_count": 56,
   "id": "4c093ef4-2641-4487-8772-42da2ab2bec4",
   "metadata": {},
   "outputs": [
    {
     "data": {
      "text/plain": [
       "[44, 26, 11, 10, 4, 4, 1]"
      ]
     },
     "execution_count": 56,
     "metadata": {},
     "output_type": "execute_result"
    }
   ],
   "source": [
    "el = SymmetricGroup(100).random_element()\n",
    "el.cycle_type()"
   ]
  },
  {
   "cell_type": "code",
   "execution_count": 57,
   "id": "b5f0b23b-c80b-4537-a40e-2eb167d7b02e",
   "metadata": {},
   "outputs": [
    {
     "data": {
      "text/plain": [
       "(1,22,92,31)(2,78,89,15,99,32,10,90,74,50,71,40,91,16,73,18,41,20,48,70,35,97,86,59,39,33,44,96,42,36,79,67,88,34,98,83,85,76,13,81,58,26,87,37)(3,55,45,25,51,28,8,62,53,30,6,49,46,21,19,94,77,12,61,82,4,43,9,60,56,17)(5,24,65,63,14,7,23,57,64,93)(11,29,47,100,54,38,52,95,69,75,68)(27,80,72,66)"
      ]
     },
     "execution_count": 57,
     "metadata": {},
     "output_type": "execute_result"
    }
   ],
   "source": [
    "el"
   ]
  },
  {
   "cell_type": "code",
   "execution_count": 149,
   "id": "ed2cc0da-0a2a-4ef6-ad30-3b5e4d661443",
   "metadata": {},
   "outputs": [],
   "source": [
    "factorials = [factorial(i) for i in range(100)]\n",
    "\n",
    "\n",
    "def number(partition, n):\n",
    "    \"\"\"К-ть підстановок у групі S_n заданого циклового типу. \n",
    "    \"\"\"\n",
    "    res = 1\n",
    "    for length in partition:\n",
    "        # обираємо c_i чисел із тих, що лишились. Їх порядок важливий з точністю до зсува\n",
    "        res *= binomial(n, length) * factorials[length - 1]\n",
    "\n",
    "        # зменшуємо к-ть чисел \n",
    "        n -= length \n",
    "    \n",
    "    # цикли однакової довжини можна міняти місцями, тому треба поділити на факторіали їх кількостей\n",
    "    for amount in Counter(partition).values():\n",
    "        res /= factorials[amount]\n",
    "    return res"
   ]
  },
  {
   "cell_type": "code",
   "execution_count": 150,
   "id": "14b18544-6bff-4da6-a2ed-4b074b415995",
   "metadata": {},
   "outputs": [
    {
     "data": {
      "text/plain": [
       "151200"
      ]
     },
     "execution_count": 150,
     "metadata": {},
     "output_type": "execute_result"
    }
   ],
   "source": [
    "number([1, 2, 3, 4], 10)"
   ]
  },
  {
   "cell_type": "code",
   "execution_count": 80,
   "id": "e50aca22-2a1d-4682-b606-4d05d601d9e8",
   "metadata": {},
   "outputs": [
    {
     "data": {
      "application/vnd.jupyter.widget-view+json": {
       "model_id": "70d61afde53d4625997b70436ac049cc",
       "version_major": 2,
       "version_minor": 0
      },
      "text/plain": [
       "  0%|          | 0/3628800 [00:00<?, ?it/s]"
      ]
     },
     "metadata": {},
     "output_type": "display_data"
    },
    {
     "data": {
      "text/plain": [
       "151200"
      ]
     },
     "execution_count": 80,
     "metadata": {},
     "output_type": "execute_result"
    }
   ],
   "source": [
    "# перевірим брутфорсом правильність \n",
    "res = 0 \n",
    "for el in tqdm(SymmetricGroup(10), total=int(factorial(10))): \n",
    "    if sorted(el.cycle_type()) == [1, 2, 3, 4]: \n",
    "        res += 1 \n",
    "res"
   ]
  },
  {
   "cell_type": "markdown",
   "id": "5b3b51e7-8476-482a-8010-f414d871b6b7",
   "metadata": {},
   "source": [
    "#### перевіримо, що розбиття числа дійсно швидше рахуються за класи спряженості"
   ]
  },
  {
   "cell_type": "code",
   "execution_count": 55,
   "id": "1f700c5c-29cb-440d-8daf-c3ca51f7a50f",
   "metadata": {},
   "outputs": [
    {
     "name": "stdout",
     "output_type": "stream",
     "text": [
      "elapsed: 18.672693014144897\n",
      "elapsed: 0.011028051376342773\n"
     ]
    }
   ],
   "source": [
    "n = 30\n",
    "G = SymmetricGroup(n)\n",
    "t = time.time() \n",
    "G.conjugacy_classes_representatives()\n",
    "print('elapsed:', time.time() - t)\n",
    "\n",
    "t = time.time() \n",
    "list(Partitions(n))\n",
    "print('elapsed:', time.time() - t)"
   ]
  },
  {
   "cell_type": "markdown",
   "id": "9e4190f7-7a46-455a-b481-35cce885330c",
   "metadata": {},
   "source": [
    "### Оцінка проблеми"
   ]
  },
  {
   "cell_type": "code",
   "execution_count": 87,
   "id": "82576582-aab7-44ad-bfce-3c53ddffb3b5",
   "metadata": {
    "scrolled": true
   },
   "outputs": [
    {
     "data": {
      "text/plain": [
       "[64112359,\n",
       " 72533807,\n",
       " 82010177,\n",
       " 92669720,\n",
       " 104651419,\n",
       " 118114304,\n",
       " 133230930,\n",
       " 150198136,\n",
       " 169229875,\n",
       " 190569292]"
      ]
     },
     "execution_count": 87,
     "metadata": {},
     "output_type": "execute_result"
    }
   ],
   "source": [
    "# к-ть різних розбиттів, взято з https://math.stackexchange.com/questions/2675382/calculating-integer-partitions\n",
    "# сама послідовність a(n) є в базі OEIS: https://oeis.org/A000041\n",
    "\n",
    "def pentagonal_number(k):\n",
    "    return int(k*(3*k-1) / 2)\n",
    "\n",
    "def compute_partitions(goal):\n",
    "    partitions = [1]\n",
    "    for n in range(1,goal+1):\n",
    "        partitions.append(0)\n",
    "        for k in range(1,n+1):\n",
    "            coeff = (-1)**(k+1)\n",
    "            for t in [pentagonal_number(k), pentagonal_number(-k)]:\n",
    "                if (n-t) >= 0:\n",
    "                    partitions[n] = partitions[n] + coeff*partitions[n-t]\n",
    "    return partitions\n",
    "\n",
    "compute_partitions(100)[-10:]"
   ]
  },
  {
   "cell_type": "markdown",
   "id": "009bb239-23e3-43f2-9145-423541a4100b",
   "metadata": {},
   "source": [
    "#### Отже, нам треба буде перебрати 190млн різних розбиттів і для кожного порахувати к-ть підстановок з таким цикловим типом. Оцінимо скільки часу це займе."
   ]
  },
  {
   "cell_type": "code",
   "execution_count": 373,
   "id": "484e8167-974d-4a9f-adb7-bd12c9c32c89",
   "metadata": {},
   "outputs": [
    {
     "name": "stdout",
     "output_type": "stream",
     "text": [
      "elapsed: 0.00053s +- 0.00029\n",
      "estimated time: 27.85h +- 15.30h\n"
     ]
    }
   ],
   "source": [
    "import numpy as np \n",
    "\n",
    "res = []\n",
    "\n",
    "for _ in range(100):\n",
    "    el = Partitions(100).random_element()\n",
    "    t = time.time() \n",
    "    number(partition=el, n=100)\n",
    "    res.append(time.time() - t)\n",
    "\n",
    "print(f'elapsed: {np.mean(res):.5f}s +- {np.std(res):.5f}')\n",
    "\n",
    "mean_hours = (np.mean(res) * 190569292) / 3600\n",
    "std_hours = np.std(res) * 190569292 / 3600\n",
    "print(f'estimated time: {mean_hours:.2f}h +- {std_hours:.2f}h')"
   ]
  },
  {
   "cell_type": "markdown",
   "id": "30371f3c-463a-41fd-b016-d9f4f03e0ca1",
   "metadata": {},
   "source": [
    "#### Результат трохи невтішний. Прогнозується 30 годин на роботу алгоритму. Спробуємо оптимізувати функцію "
   ]
  },
  {
   "cell_type": "code",
   "execution_count": 316,
   "id": "6817abf3-6753-4921-9c44-c0dbcffd0a25",
   "metadata": {},
   "outputs": [],
   "source": [
    "factors_cached = [0] + [list(factor(i)) for i in range(1, 101)]\n",
    "primes = [0] + [el in Primes(101) for el in range(1, 101)]\n",
    "\n",
    "\n",
    "def number_optimized(partition, n, factorize=False): \n",
    "    # дільники результуючого числа \n",
    "    res_factors = [0 for _ in range(n+1)]\n",
    "    n_backup = n\n",
    "    counter = [0 for _ in range(n+1)]\n",
    "    for length in partition: \n",
    "        \n",
    "        for i in range(1, n+1):    # * n!\n",
    "            res_factors[i] += 1\n",
    "        \n",
    "        for i in range(1, n-length+1):   # / (n-k)!\n",
    "            res_factors[i] -= 1\n",
    "            \n",
    "        res_factors[length] -= 1\n",
    "        n -= length\n",
    "        counter[length] += 1\n",
    "\n",
    "    n = n_backup\n",
    "    \n",
    "    for amount in counter:\n",
    "        if amount == 1 or amount == 0: continue \n",
    "        for i in range(1, amount+1):\n",
    "            res_factors[i] -= 1\n",
    "\n",
    "    if factorize:\n",
    "        for i in range(2, n+1):\n",
    "            if primes[i]: continue \n",
    "            if not res_factors[i]: continue\n",
    "    \n",
    "            i_amount = res_factors[i]\n",
    "            for fact, f_amount in factors_cached[i]: \n",
    "                res_factors[fact] += f_amount * i_amount\n",
    "            res_factors[i] -= i_amount\n",
    "    res = 1\n",
    "    for i in range(2, n+1): \n",
    "        res *= (i ** res_factors[i])\n",
    "    return res, res_factors"
   ]
  },
  {
   "cell_type": "code",
   "execution_count": 317,
   "id": "6baa494c-69da-4b3f-a15c-30abdce6fe1b",
   "metadata": {},
   "outputs": [
    {
     "data": {
      "text/plain": [
       "2896311914496000"
      ]
     },
     "execution_count": 317,
     "metadata": {},
     "output_type": "execute_result"
    }
   ],
   "source": [
    "el = Partitions(20).random_element()\n",
    "\n",
    "number(el, 20)"
   ]
  },
  {
   "cell_type": "code",
   "execution_count": 379,
   "id": "9c951082-d5e4-4bd0-bc52-11721993a943",
   "metadata": {},
   "outputs": [
    {
     "data": {
      "text/plain": [
       "18665243088788830536339847771253340098143193652876324293718592779043519998645983121788292795231303657250739584165444751650237042183372800000000000000000000"
      ]
     },
     "execution_count": 379,
     "metadata": {},
     "output_type": "execute_result"
    }
   ],
   "source": [
    "number([50, 50], 100)"
   ]
  },
  {
   "cell_type": "code",
   "execution_count": 318,
   "id": "b6d2f3cb-62cf-49d5-bf96-86124a459f6d",
   "metadata": {},
   "outputs": [
    {
     "data": {
      "text/plain": [
       "[7, 5, 3, 2, 2, 1]"
      ]
     },
     "execution_count": 318,
     "metadata": {},
     "output_type": "execute_result"
    }
   ],
   "source": [
    "el"
   ]
  },
  {
   "cell_type": "code",
   "execution_count": 201,
   "id": "2ca35112-c1b0-46fa-bb94-6708f12af57d",
   "metadata": {},
   "outputs": [],
   "source": [
    "!g++ cycletype.cpp &> /dev/null"
   ]
  },
  {
   "cell_type": "code",
   "execution_count": 202,
   "id": "a8908870-a4aa-4f4b-b480-cb52b6f1dc79",
   "metadata": {},
   "outputs": [
    {
     "name": "stdout",
     "output_type": "stream",
     "text": [
      "0 -1 0 0 0 1 1 1 1 1 1 1 \n"
     ]
    }
   ],
   "source": [
    "!./a.out 1 2 3 4"
   ]
  },
  {
   "cell_type": "code",
   "execution_count": 166,
   "id": "b304e216-4419-4393-9454-771cbe9d12ba",
   "metadata": {},
   "outputs": [
    {
     "name": "stdout",
     "output_type": "stream",
     "text": [
      "\n",
      "#include <vector>\n",
      "#include <iostream>\n",
      "\n",
      "\n",
      "std::vector<int> factors(std::vector<int> &partition, int n){\n",
      "    std::vector<int> res_factors(n+1, 0);\n",
      "    std::vector<int> counter(n+1, 0);\n",
      "    int n_backup = n;\n",
      "    for (auto length : partition) {\n",
      "        for (int i = 1; i < n+1; i++) res_factors[i]++;\n",
      "        for (int i = 1; i < n - length + 1; i++) res_factors[i]--;\n",
      "        res_factors[length]--;\n",
      "        n -= length;\n",
      "\n",
      "        counter[length]++;    // calculate Counter(partition)\n",
      "    };\n",
      "\n",
      "    for (auto amount : counter)\n",
      "        for (int i = 1; i < amount; i++)\n",
      "            res_factors[i]--;\n",
      "    return res_factors;\n",
      "}\n",
      "\n",
      "\n",
      "int main(int argc, char *argv[]){\n",
      "    std::vector<int> partitions;\n",
      "    int n;\n",
      "    for (int i = 1; i < argc; i++){\n",
      "        int tmp = atoi(argv[i]);\n",
      "        partitions.push_back(tmp);\n",
      "        n += tmp;\n",
      "    }\n",
      "    auto res = factors(partitions, n);\n",
      "    for (auto el : res){\n",
      "        std::cout << el << ' ';\n",
      "    }\n",
      "    std::cout << std::endl;\n",
      "}\n"
     ]
    }
   ],
   "source": [
    "!cat cycletype.cpp"
   ]
  },
  {
   "cell_type": "code",
   "execution_count": 377,
   "id": "52ebd8d8-9daf-4b6c-a435-ff4059b50bf5",
   "metadata": {},
   "outputs": [
    {
     "name": "stdout",
     "output_type": "stream",
     "text": [
      "elapsed: 0.00022s +- 0.00011\n",
      "estimated time: 11.88h +- 5.97h\n"
     ]
    }
   ],
   "source": [
    "import numpy as np \n",
    "\n",
    "res = []\n",
    "\n",
    "for _ in range(100):\n",
    "    el = Partitions(100).random_element()\n",
    "    t = time.time() \n",
    "    number_optimized(partition=el, n=100)\n",
    "    res.append(time.time() - t)\n",
    "\n",
    "print(f'elapsed: {np.mean(res):.5f}s +- {np.std(res):.5f}')\n",
    "\n",
    "mean_hours = (np.mean(res) * 190569292) / 3600\n",
    "std_hours = np.std(res) * 190569292 / 3600\n",
    "print(f'estimated time: {mean_hours:.2f}h +- {std_hours:.2f}h')"
   ]
  },
  {
   "cell_type": "code",
   "execution_count": 384,
   "id": "58120c73-6cda-4aaa-b8ca-96fae02d9aef",
   "metadata": {},
   "outputs": [
    {
     "name": "stdout",
     "output_type": "stream",
     "text": [
      "(933262154439441526816992388562667004907159682643816214685929638952175999932299156089414639761565182862536979208272237582511852109168640000000000000000000000, [0, 1, 95, 48, 0, 22, 0, 16, 0, 0, 0, 9, 0, 7, 0, 0, 0, 5, 0, 5, 0, 0, 0, 4, 0, 0, 0, 0, 0, 3, 0, 3, 0, 0, 0, 0, 0, 2, 0, 0, 0, 2, 0, 2, 0, 0, 0, 2, 0, 0, 0, 0, 0, 1, 0, 0, 0, 0, 0, 1, 0, 1, 0, 0, 0, 0, 0, 1, 0, 0, 0, 1, 0, 1, 0, 0, 0, 0, 0, 1, 0, 0, 0, 1, 0, 0, 0, 0, 0, 1, 0, 0, 0, 0, 0, 0, 0, 1, 0, 0, 0])\n",
      "(942689044888324774562618574305724247380969376407895166349423877729470707002322379888297615920772911982360585058860846042941264756736000000000000000000000000, [0, 0, 97, 46, 0, 24, 0, 16, 0, 0, 0, 8, 0, 7, 0, 0, 0, 5, 0, 5, 0, 0, 0, 4, 0, 0, 0, 0, 0, 3, 0, 3, 0, 0, 0, 0, 0, 2, 0, 0, 0, 2, 0, 2, 0, 0, 0, 2, 0, 0, 0, 0, 0, 1, 0, 0, 0, 0, 0, 1, 0, 1, 0, 0, 0, 0, 0, 1, 0, 0, 0, 1, 0, 1, 0, 0, 0, 0, 0, 1, 0, 0, 0, 1, 0, 0, 0, 0, 0, 1, 0, 0, 0, 0, 0, 0, 0, 1, 0, 0, 0])\n",
      "(476154160428286493273975708450340308626101878899906231982617162730702040781785283719089101919165909623743356738914406929852985769984000000000000000000000000, [0, 1, 95, 48, 0, 24, 0, 14, 0, 0, 0, 9, 0, 7, 0, 0, 0, 5, 0, 5, 0, 0, 0, 4, 0, 0, 0, 0, 0, 3, 0, 3, 0, 0, 0, 0, 0, 2, 0, 0, 0, 2, 0, 2, 0, 0, 0, 2, 0, 0, 0, 0, 0, 1, 0, 0, 0, 0, 0, 1, 0, 1, 0, 0, 0, 0, 0, 1, 0, 0, 0, 1, 0, 1, 0, 0, 0, 0, 0, 1, 0, 0, 0, 1, 0, 0, 0, 0, 0, 1, 0, 0, 0, 0, 0, 0, 0, 1, 0, 0, 0])\n",
      "(476154160428286493273975708450340308626101878899906231982617162730702040781785283719089101919165909623743356738914406929852985769984000000000000000000000000, [0, -2, 95, 48, 0, 24, 0, 14, 0, 0, 0, 9, 0, 7, 0, 0, 0, 5, 0, 5, 0, 0, 0, 4, 0, 0, 0, 0, 0, 3, 0, 3, 0, 0, 0, 0, 0, 2, 0, 0, 0, 2, 0, 2, 0, 0, 0, 2, 0, 0, 0, 0, 0, 1, 0, 0, 0, 0, 0, 1, 0, 1, 0, 0, 0, 0, 0, 1, 0, 0, 0, 1, 0, 1, 0, 0, 0, 0, 0, 1, 0, 0, 0, 1, 0, 0, 0, 0, 0, 1, 0, 0, 0, 0, 0, 0, 0, 1, 0, 0, 0])\n",
      "(320708644137265129490375391258648455294556591973820005046711216134768384856460191096018776550366042220803085638581524942443935432704000000000000000000000000, [0, 1, 97, 47, 0, 24, 0, 16, 0, 0, 0, 9, 0, 7, 0, 0, 0, 5, 0, 5, 0, 0, 0, 4, 0, 0, 0, 0, 0, 3, 0, 3, 0, 0, 0, 0, 0, 2, 0, 0, 0, 2, 0, 2, 0, 0, 0, 2, 0, 0, 0, 0, 0, 1, 0, 0, 0, 0, 0, 1, 0, 1, 0, 0, 0, 0, 0, 1, 0, 0, 0, 1, 0, 1, 0, 0, 0, 0, 0, 1, 0, 0, 0, 1, 0, 0, 0, 0, 0, 1, 0, 0, 0, 0, 0, 0, 0, 0, 0, 0, 0])\n",
      "(481062966205897694235563086887972682941834887960730007570066824202152577284690286644028164825549063331204628457872287413665903149056000000000000000000000000, [0, 0, 96, 48, 0, 24, 0, 16, 0, 0, 0, 9, 0, 7, 0, 0, 0, 5, 0, 5, 0, 0, 0, 4, 0, 0, 0, 0, 0, 3, 0, 3, 0, 0, 0, 0, 0, 2, 0, 0, 0, 2, 0, 2, 0, 0, 0, 2, 0, 0, 0, 0, 0, 1, 0, 0, 0, 0, 0, 1, 0, 1, 0, 0, 0, 0, 0, 1, 0, 0, 0, 1, 0, 1, 0, 0, 0, 0, 0, 1, 0, 0, 0, 1, 0, 0, 0, 0, 0, 1, 0, 0, 0, 0, 0, 0, 0, 0, 0, 0, 0])\n",
      "(160354322068632564745187695629324227647278295986910002523355608067384192428230095548009388275183021110401542819290762471221967716352000000000000000000000000, [0, -3, 96, 47, 0, 24, 0, 16, 0, 0, 0, 9, 0, 7, 0, 0, 0, 5, 0, 5, 0, 0, 0, 4, 0, 0, 0, 0, 0, 3, 0, 3, 0, 0, 0, 0, 0, 2, 0, 0, 0, 2, 0, 2, 0, 0, 0, 2, 0, 0, 0, 0, 0, 1, 0, 0, 0, 0, 0, 1, 0, 1, 0, 0, 0, 0, 0, 1, 0, 0, 0, 1, 0, 1, 0, 0, 0, 0, 0, 1, 0, 0, 0, 1, 0, 0, 0, 0, 0, 1, 0, 0, 0, 0, 0, 0, 0, 0, 0, 0, 0])\n",
      "(243037019385271230941925101188194532527906167355160472574460843477129166649036238564951729104574266370452338335487561870445794820096000000000000000000000000, [0, 1, 90, 47, 0, 24, 0, 16, 0, 0, 0, 9, 0, 7, 0, 0, 0, 5, 0, 5, 0, 0, 0, 4, 0, 0, 0, 0, 0, 3, 0, 3, 0, 0, 0, 0, 0, 2, 0, 0, 0, 2, 0, 2, 0, 0, 0, 2, 0, 0, 0, 0, 0, 1, 0, 0, 0, 0, 0, 1, 0, 1, 0, 0, 0, 0, 0, 1, 0, 0, 0, 1, 0, 1, 0, 0, 0, 0, 0, 1, 0, 0, 0, 1, 0, 0, 0, 0, 0, 1, 0, 0, 0, 0, 0, 0, 0, 1, 0, 0, 0])\n",
      "(324049359180361641255900134917592710037208223140213963432614457969505555532048318086602305472765688493936451113983415827261059760128000000000000000000000000, [0, 0, 92, 46, 0, 24, 0, 16, 0, 0, 0, 9, 0, 7, 0, 0, 0, 5, 0, 5, 0, 0, 0, 4, 0, 0, 0, 0, 0, 3, 0, 3, 0, 0, 0, 0, 0, 2, 0, 0, 0, 2, 0, 2, 0, 0, 0, 2, 0, 0, 0, 0, 0, 1, 0, 0, 0, 0, 0, 1, 0, 1, 0, 0, 0, 0, 0, 1, 0, 0, 0, 1, 0, 1, 0, 0, 0, 0, 0, 1, 0, 0, 0, 1, 0, 0, 0, 0, 0, 1, 0, 0, 0, 0, 0, 0, 0, 1, 0, 0, 0])\n",
      "(121518509692635615470962550594097266263953083677580236287230421738564583324518119282475864552287133185226169167743780935222897410048000000000000000000000000, [0, 0, 89, 47, 0, 24, 0, 16, 0, 0, 0, 9, 0, 7, 0, 0, 0, 5, 0, 5, 0, 0, 0, 4, 0, 0, 0, 0, 0, 3, 0, 3, 0, 0, 0, 0, 0, 2, 0, 0, 0, 2, 0, 2, 0, 0, 0, 2, 0, 0, 0, 0, 0, 1, 0, 0, 0, 0, 0, 1, 0, 1, 0, 0, 0, 0, 0, 1, 0, 0, 0, 1, 0, 1, 0, 0, 0, 0, 0, 1, 0, 0, 0, 1, 0, 0, 0, 0, 0, 1, 0, 0, 0, 0, 0, 0, 0, 1, 0, 0, 0])\n",
      "(243037019385271230941925101188194532527906167355160472574460843477129166649036238564951729104574266370452338335487561870445794820096000000000000000000000000, [0, -2, 90, 47, 0, 24, 0, 16, 0, 0, 0, 9, 0, 7, 0, 0, 0, 5, 0, 5, 0, 0, 0, 4, 0, 0, 0, 0, 0, 3, 0, 3, 0, 0, 0, 0, 0, 2, 0, 0, 0, 2, 0, 2, 0, 0, 0, 2, 0, 0, 0, 0, 0, 1, 0, 0, 0, 0, 0, 1, 0, 1, 0, 0, 0, 0, 0, 1, 0, 0, 0, 1, 0, 1, 0, 0, 0, 0, 0, 1, 0, 0, 0, 1, 0, 0, 0, 0, 0, 1, 0, 0, 0, 0, 0, 0, 0, 1, 0, 0, 0])\n",
      "-1\n"
     ]
    }
   ],
   "source": [
    "\n",
    "\n",
    "i = 0\n",
    "\n",
    "for el in Partitions(100):\n",
    "    if i > 10:\n",
    "        break\n",
    "\n",
    "    print(number_optimized(el, 100, factorize=True))\n",
    "    i += 1\n",
    "\n",
    "\n",
    "print(-1)"
   ]
  },
  {
   "cell_type": "code",
   "execution_count": null,
   "id": "d6b1cea1-6e12-44cb-8ccd-f6671c4435c2",
   "metadata": {},
   "outputs": [],
   "source": [
    "def orders(n): \n",
    "\n",
    "    for part in Partition(10): \n",
    "        "
   ]
  },
  {
   "cell_type": "code",
   "execution_count": 21,
   "id": "f5cdeb02-2193-4222-bcb1-1ba955eefa28",
   "metadata": {},
   "outputs": [
    {
     "data": {
      "application/vnd.jupyter.widget-view+json": {
       "model_id": "2954e5a21cbe432fafd2f5cb8f64cf53",
       "version_major": 2,
       "version_minor": 0
      },
      "text/plain": [
       "  0%|          | 0/3628800 [00:00<?, ?it/s]"
      ]
     },
     "metadata": {},
     "output_type": "display_data"
    },
    {
     "data": {
      "text/plain": [
       "{1: 1,\n",
       " 10: 514080,\n",
       " 2: 9495,\n",
       " 5: 78624,\n",
       " 9: 403200,\n",
       " 21: 172800,\n",
       " 4: 209160,\n",
       " 12: 403200,\n",
       " 6: 584640,\n",
       " 8: 453600,\n",
       " 3: 31040,\n",
       " 7: 86400,\n",
       " 20: 181440,\n",
       " 30: 120960,\n",
       " 14: 259200,\n",
       " 15: 120960}"
      ]
     },
     "execution_count": 21,
     "metadata": {},
     "output_type": "execute_result"
    }
   ],
   "source": [
    "orders = {}\n",
    "for el in tqdm(G, total=int(G.order())): \n",
    "    ord = el.order() \n",
    "    if ord not in orders: \n",
    "        orders[ord] = 0 \n",
    "    orders[ord] += 1 \n",
    "orders"
   ]
  },
  {
   "cell_type": "code",
   "execution_count": 23,
   "id": "16119547-5f06-4820-8265-59082fe20646",
   "metadata": {},
   "outputs": [
    {
     "data": {
      "text/plain": [
       "100891344545564193334812497256"
      ]
     },
     "execution_count": 23,
     "metadata": {},
     "output_type": "execute_result"
    }
   ],
   "source": [
    "n = 100\n",
    "length = 50\n",
    "binomial(n, length)"
   ]
  },
  {
   "cell_type": "code",
   "execution_count": 42,
   "id": "92ca4c35-0450-4f4b-a102-20966278b3a2",
   "metadata": {},
   "outputs": [
    {
     "name": "stdout",
     "output_type": "stream",
     "text": [
      "0.00029277801513671875\n"
     ]
    }
   ],
   "source": [
    "import time\n",
    "t = time.time()\n",
    "binomial(n , length) * factorial(length - 1)\n",
    "print(time.time() - t)"
   ]
  },
  {
   "cell_type": "code",
   "execution_count": 45,
   "id": "a194c78d-7c00-4bf5-8d3a-dcb9404b7275",
   "metadata": {},
   "outputs": [
    {
     "data": {
      "text/plain": [
       "[[10],\n",
       " [9, 1],\n",
       " [8, 2],\n",
       " [8, 1, 1],\n",
       " [7, 3],\n",
       " [7, 2, 1],\n",
       " [7, 1, 1, 1],\n",
       " [6, 4],\n",
       " [6, 3, 1],\n",
       " [6, 2, 2],\n",
       " [6, 2, 1, 1],\n",
       " [6, 1, 1, 1, 1],\n",
       " [5, 5],\n",
       " [5, 4, 1],\n",
       " [5, 3, 2],\n",
       " [5, 3, 1, 1],\n",
       " [5, 2, 2, 1],\n",
       " [5, 2, 1, 1, 1],\n",
       " [5, 1, 1, 1, 1, 1],\n",
       " [4, 4, 2],\n",
       " [4, 4, 1, 1],\n",
       " [4, 3, 3],\n",
       " [4, 3, 2, 1],\n",
       " [4, 3, 1, 1, 1],\n",
       " [4, 2, 2, 2],\n",
       " [4, 2, 2, 1, 1],\n",
       " [4, 2, 1, 1, 1, 1],\n",
       " [4, 1, 1, 1, 1, 1, 1],\n",
       " [3, 3, 3, 1],\n",
       " [3, 3, 2, 2],\n",
       " [3, 3, 2, 1, 1],\n",
       " [3, 3, 1, 1, 1, 1],\n",
       " [3, 2, 2, 2, 1],\n",
       " [3, 2, 2, 1, 1, 1],\n",
       " [3, 2, 1, 1, 1, 1, 1],\n",
       " [3, 1, 1, 1, 1, 1, 1, 1],\n",
       " [2, 2, 2, 2, 2],\n",
       " [2, 2, 2, 2, 1, 1],\n",
       " [2, 2, 2, 1, 1, 1, 1],\n",
       " [2, 2, 1, 1, 1, 1, 1, 1],\n",
       " [2, 1, 1, 1, 1, 1, 1, 1, 1],\n",
       " [1, 1, 1, 1, 1, 1, 1, 1, 1, 1]]"
      ]
     },
     "execution_count": 45,
     "metadata": {},
     "output_type": "execute_result"
    }
   ],
   "source": [
    "list(Partitions(10))"
   ]
  },
  {
   "cell_type": "markdown",
   "id": "aa1ddcec-2a21-46d5-80be-ff32c79d7de8",
   "metadata": {},
   "source": [
    "## Завдання 3. \n",
    "___Для заданих натуральних $n, k$ ($1 <= n \\le 1 000 000, 1 \\le k \\le n!$) визначте чи існує в групі $S_n$ елемент порядку $k$.___\n",
    "\n",
    "----------\n",
    "\n",
    "___Зауваження:___ зверніть увагу на межі, в яких задано $n, k$. "
   ]
  },
  {
   "cell_type": "code",
   "execution_count": null,
   "id": "4a04b16b-4a63-4a64-902b-f07148aad1f7",
   "metadata": {},
   "outputs": [],
   "source": [
    "# ваш код тут"
   ]
  }
 ],
 "metadata": {
  "kernelspec": {
   "display_name": "SageMath 10.3",
   "language": "sage",
   "name": "sagemath-10.3"
  },
  "language_info": {
   "codemirror_mode": {
    "name": "ipython",
    "version": 3
   },
   "file_extension": ".py",
   "mimetype": "text/x-python",
   "name": "python",
   "nbconvert_exporter": "python",
   "pygments_lexer": "ipython3",
   "version": "3.11.8"
  }
 },
 "nbformat": 4,
 "nbformat_minor": 5
}
