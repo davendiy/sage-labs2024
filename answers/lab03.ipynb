{
 "cells": [
  {
   "cell_type": "code",
   "execution_count": 4,
   "id": "493df381-4527-48b8-9673-06dbb1c37382",
   "metadata": {},
   "outputs": [],
   "source": [
    "from tqdm.notebook import tqdm \n",
    "from collections import Counter \n",
    "import os \n",
    "import time "
   ]
  },
  {
   "cell_type": "markdown",
   "id": "088d0c68-43d4-421c-bdda-91b406d863ba",
   "metadata": {},
   "source": [
    "# Лабораторна робота 3. Групи, порядок елемента в групі\n",
    "\n",
    "_Примітка_: наведений код є лише одним з можливих шаблонів виконання. Можете писати по-своєму, але розділяйте свій код на функції, щоб їх можна було простіше перевіряти.\n",
    "\n",
    "## Завдання 1. \n",
    "\n",
    "__Задайте групи $D_{10}$, $Z_{16}$, $A_5$, $SL(2, \\mathbb{Z}_3)$*. Для кожної з них виведіть таблицю Келі, знайдіть порядок групи, перевірте чи група абелева. Перевірте чи будуть ізоморфними групи $SL(2, Z_3)$ та $D_{12}$.__\n",
    "\n",
    "*: група матриць 2х2 з визначником 1 над полем $\\mathbb{Z}_3$"
   ]
  },
  {
   "cell_type": "code",
   "execution_count": 2,
   "id": "8411013e-cb5f-4276-9113-e0bf1a966b4f",
   "metadata": {},
   "outputs": [],
   "source": [
    "# ваш код тут \n",
    "\n",
    "def describe(group, file):\n",
    "    print('\\n\\n==================================', file=file)\n",
    "    print('Group', group, 'which is isomorphic to ', group.structure_description(), file=file)\n",
    "    print(ascii_art(group.cayley_table()), file=file)\n",
    "    print('group is abelian:', group.is_abelian(), file=file)\n",
    "    print('order of group:', group.order(), file=file)\n",
    "    print('==================================\\n\\n', file=file)\n",
    "    \n",
    "\n",
    "folder = './lab03_assets/'\n",
    "os.makedirs(folder, exist_ok=True)\n",
    "\n",
    "with open(folder + 'task1_output.txt', 'w') as file: \n",
    "    for G in [\n",
    "        DihedralGroup(10), \n",
    "        CyclicPermutationGroup(16), \n",
    "        AlternatingGroup(5), \n",
    "        SL(2, Integers(3)),\n",
    "    ]: \n",
    "        describe(G, file)\n"
   ]
  },
  {
   "cell_type": "code",
   "execution_count": 3,
   "id": "d1130c6e-cd59-40d2-b7bb-3b5b40682f54",
   "metadata": {},
   "outputs": [
    {
     "name": "stdout",
     "output_type": "stream",
     "text": [
      "\n",
      "\n",
      "==================================\n",
      "Group Dihedral group of order 20 as a permutation group which is isomorphic to  D10\n",
      "*  a b c d e f g h i j k l m n o p q r s t\n",
      " +----------------------------------------\n",
      "a| a b c d e f g h i j k l m n o p q r s t\n",
      "b| b a d c f e h g j i l k n m p o r q t s\n",
      "c| c s a e d g f i h k j m l o n q p t b r\n",
      "d| d t b f c h e j g l i n k p m r o s a q\n",
      "...\n",
      "...\n",
      "...\n",
      "t| x r u k n h t b j q a m w c g o v f l p e i s d\n",
      "u| v p s j m g u a l r c o x b i n w d k q f h t e\n",
      "v| n k h u r x v o f s i d p l e j b t g c w m a q\n",
      "w| m j g s p v w n d t h e q k f l a u i b x o c r\n",
      "x| o l i t q w x m e u g f r j d k c s h a v n b p\n",
      "group is abelian: False\n",
      "order of group: 24\n",
      "==================================\n",
      "\n",
      "\n"
     ]
    }
   ],
   "source": [
    "!head lab03_assets/task1_output.txt\n",
    "!echo \"...\"\n",
    "!echo \"...\"\n",
    "!echo \"...\"\n",
    "!tail lab03_assets/task1_output.txt"
   ]
  },
  {
   "cell_type": "markdown",
   "id": "101bece3-af83-4515-ba1a-e2d825b15a8d",
   "metadata": {},
   "source": [
    "## Завдання 2. \n",
    "\n",
    "__Знайдіть к-ть елементів кожного можливого порядку в групах $S_{100}$ та $A_{100}$.__\n",
    "\n",
    "___Зауваження___: вивід буде великий, збережіть його в окремий текстовий файл\n",
    "\n",
    "___Зауваження 2___: оцініть спершу к-ть елементів в групі, а потім ще раз подумайте чи варто тут писати повний перебір\n",
    "\n",
    "-----\n",
    "\n",
    "Нехай маємо елемент групи підстановок $g \\in S_n$. Запишемо його як добуток незалежних циклів $g = c_1 c_2 \\dots c_k$. Тоді порядок елемента записується як найменше спільне кратне довжин циклів: \n",
    "\n",
    "$$order(g) = lcm(len(c_1), len(c_2), \\dots len(c_k))$$\n",
    "\n",
    "Отже, порядок елемента залежить виключно від довжин циклів. Це рівносильно задачі знайти всі розбиття числа $n$ на суму довільної к-ті додатніх чисел, також знаної як [Integer Partitions](https://en.wikipedia.org/wiki/Integer_partition).\n",
    "\n",
    "Заилишилось лише визначити скільки елементів у групі $S_n$ мають задані довжини незалежних циклів $(c_1, c_2, c_3, \\dots c_k)$, i.e. мають заданий ___цикловий тип___."
   ]
  },
  {
   "cell_type": "code",
   "execution_count": 4,
   "id": "4c093ef4-2641-4487-8772-42da2ab2bec4",
   "metadata": {},
   "outputs": [
    {
     "data": {
      "text/plain": [
       "[48, 39, 6, 6, 1]"
      ]
     },
     "execution_count": 4,
     "metadata": {},
     "output_type": "execute_result"
    }
   ],
   "source": [
    "el = SymmetricGroup(100).random_element()\n",
    "el.cycle_type()"
   ]
  },
  {
   "cell_type": "code",
   "execution_count": 5,
   "id": "b5f0b23b-c80b-4537-a40e-2eb167d7b02e",
   "metadata": {},
   "outputs": [
    {
     "data": {
      "text/plain": [
       "(1,62,19,86,78,74,59,72,57,94,30,34,100,90,42,77,56,95,98,51,81,10,83,2,93,82,63,54,97,17,69,73,75,7,89,67,65,50,45)(3,33,9,55,43,44)(4,21,20,38,14,24,60,85,8,53,36,52,6,22,66,99,92,64,58,96,49,80,35,23,25,13,15,26,11,87,79,12,61,16,27,28,68,48,41,29,84,88,70,18,40,46,76,47)(5,39,31,32,91,71)"
      ]
     },
     "execution_count": 5,
     "metadata": {},
     "output_type": "execute_result"
    }
   ],
   "source": [
    "el"
   ]
  },
  {
   "cell_type": "code",
   "execution_count": 1,
   "id": "ed2cc0da-0a2a-4ef6-ad30-3b5e4d661443",
   "metadata": {},
   "outputs": [],
   "source": [
    "factorials = [factorial(i) for i in range(100)]\n",
    "\n",
    "\n",
    "def number(partition, n):\n",
    "    \"\"\"К-ть підстановок у групі S_n заданого циклового типу. \n",
    "    \"\"\"\n",
    "    res = 1\n",
    "    for length in partition:\n",
    "        # обираємо c_i чисел із тих, що лишились. Їх порядок важливий з точністю до зсува\n",
    "        res *= binomial(n, length) * factorials[length - 1]\n",
    "\n",
    "        # зменшуємо к-ть чисел \n",
    "        n -= length \n",
    "    \n",
    "    # цикли однакової довжини можна міняти місцями, тому треба поділити на факторіали їх кількостей\n",
    "    for amount in Counter(partition).values():\n",
    "        res /= factorials[amount]\n",
    "    return res"
   ]
  },
  {
   "cell_type": "code",
   "execution_count": 7,
   "id": "14b18544-6bff-4da6-a2ed-4b074b415995",
   "metadata": {},
   "outputs": [
    {
     "data": {
      "text/plain": [
       "151200"
      ]
     },
     "execution_count": 7,
     "metadata": {},
     "output_type": "execute_result"
    }
   ],
   "source": [
    "number([1, 2, 3, 4], 10)"
   ]
  },
  {
   "cell_type": "code",
   "execution_count": 8,
   "id": "e50aca22-2a1d-4682-b606-4d05d601d9e8",
   "metadata": {},
   "outputs": [
    {
     "data": {
      "application/vnd.jupyter.widget-view+json": {
       "model_id": "e88dd5c281b447bfb87e475d1d501e9b",
       "version_major": 2,
       "version_minor": 0
      },
      "text/plain": [
       "  0%|          | 0/3628800 [00:00<?, ?it/s]"
      ]
     },
     "metadata": {},
     "output_type": "display_data"
    },
    {
     "data": {
      "text/plain": [
       "151200"
      ]
     },
     "execution_count": 8,
     "metadata": {},
     "output_type": "execute_result"
    }
   ],
   "source": [
    "# перевірим брутфорсом правильність \n",
    "res = 0 \n",
    "for el in tqdm(SymmetricGroup(10), total=int(factorial(10))): \n",
    "    if sorted(el.cycle_type()) == [1, 2, 3, 4]: \n",
    "        res += 1 \n",
    "res"
   ]
  },
  {
   "cell_type": "markdown",
   "id": "5b3b51e7-8476-482a-8010-f414d871b6b7",
   "metadata": {},
   "source": [
    "#### перевіримо, що розбиття числа дійсно швидше рахуються за класи спряженості"
   ]
  },
  {
   "cell_type": "code",
   "execution_count": 11,
   "id": "1f700c5c-29cb-440d-8daf-c3ca51f7a50f",
   "metadata": {},
   "outputs": [
    {
     "name": "stdout",
     "output_type": "stream",
     "text": [
      "elapsed: 19.273133993148804\n",
      "elapsed: 0.016655683517456055\n"
     ]
    }
   ],
   "source": [
    "n = 30\n",
    "G = SymmetricGroup(n)\n",
    "t = time.time() \n",
    "G.conjugacy_classes_representatives()\n",
    "print('elapsed:', time.time() - t)\n",
    "\n",
    "t = time.time() \n",
    "list(Partitions(n))\n",
    "print('elapsed:', time.time() - t)"
   ]
  },
  {
   "cell_type": "markdown",
   "id": "9e4190f7-7a46-455a-b481-35cce885330c",
   "metadata": {},
   "source": [
    "### Оцінка проблеми"
   ]
  },
  {
   "cell_type": "code",
   "execution_count": 79,
   "id": "82576582-aab7-44ad-bfce-3c53ddffb3b5",
   "metadata": {
    "scrolled": true
   },
   "outputs": [
    {
     "data": {
      "text/plain": [
       "[169229875, 190569292]"
      ]
     },
     "execution_count": 79,
     "metadata": {},
     "output_type": "execute_result"
    }
   ],
   "source": [
    "# к-ть різних розбиттів, взято з https://math.stackexchange.com/questions/2675382/calculating-integer-partitions\n",
    "# сама послідовність a(n) є в базі OEIS: https://oeis.org/A000041\n",
    "\n",
    "def pentagonal_number(k):\n",
    "    return int(k*(3*k-1) / 2)\n",
    "\n",
    "def compute_partitions(goal):\n",
    "    partitions = [1]\n",
    "    for n in range(1,goal+1):\n",
    "        partitions.append(0)\n",
    "        for k in range(1,n+1):\n",
    "            coeff = (-1)**(k+1)\n",
    "            for t in [pentagonal_number(k), pentagonal_number(-k)]:\n",
    "                if (n-t) >= 0:\n",
    "                    partitions[n] = partitions[n] + coeff*partitions[n-t]\n",
    "    return partitions\n",
    "\n",
    "compute_partitions(100)[-2:]"
   ]
  },
  {
   "cell_type": "code",
   "execution_count": 80,
   "id": "40989851-3e2e-417c-b9d8-6eccdb2b21d2",
   "metadata": {},
   "outputs": [
    {
     "data": {
      "text/plain": [
       "190569292"
      ]
     },
     "execution_count": 80,
     "metadata": {},
     "output_type": "execute_result"
    }
   ],
   "source": [
    "# насправді є метод для цього, просто я його пізніше знайшов \n",
    "Partitions(100).cardinality()"
   ]
  },
  {
   "cell_type": "markdown",
   "id": "009bb239-23e3-43f2-9145-423541a4100b",
   "metadata": {},
   "source": [
    "#### Отже, нам треба буде перебрати 190млн різних розбиттів і для кожного порахувати к-ть підстановок з таким цикловим типом. Оцінимо скільки часу це займе."
   ]
  },
  {
   "cell_type": "code",
   "execution_count": 22,
   "id": "484e8167-974d-4a9f-adb7-bd12c9c32c89",
   "metadata": {},
   "outputs": [
    {
     "name": "stdout",
     "output_type": "stream",
     "text": [
      "elapsed: 0.00040s +- 0.00099\n",
      "estimated time: 21.30h +- 52.21h\n"
     ]
    }
   ],
   "source": [
    "import numpy as np \n",
    "\n",
    "res = []\n",
    "\n",
    "for _ in range(100):\n",
    "    el = Partitions(100).random_element()\n",
    "    t = time.time() \n",
    "    number(partition=el, n=100)\n",
    "    res.append(time.time() - t)\n",
    "\n",
    "print(f'elapsed: {np.mean(res):.5f}s +- {np.std(res):.5f}')\n",
    "\n",
    "mean_hours = (np.mean(res) * 190569292) / 3600\n",
    "std_hours = np.std(res) * 190569292 / 3600\n",
    "print(f'estimated time: {mean_hours:.2f}h +- {std_hours:.2f}h')"
   ]
  },
  {
   "cell_type": "markdown",
   "id": "30371f3c-463a-41fd-b016-d9f4f03e0ca1",
   "metadata": {},
   "source": [
    "#### Результат трохи невтішний. Прогнозується 20 годин з великим розкидом на роботу алгоритму. Спробуємо оптимізувати функцію "
   ]
  },
  {
   "cell_type": "code",
   "execution_count": 15,
   "id": "6817abf3-6753-4921-9c44-c0dbcffd0a25",
   "metadata": {},
   "outputs": [],
   "source": [
    "factors_cached = [0] + [list(factor(i)) for i in range(1, 101)]\n",
    "primes = [0] + [el in Primes(101) for el in range(1, 101)]\n",
    "\n",
    "\n",
    "def number_optimized(partition, n, factorize=False): \n",
    "    # дільники результуючого числа, якщо множимо на дільник, то +1\n",
    "    # якщо ділимо, то -1\n",
    "    res_factors = [0 for _ in range(n+1)]\n",
    "    n_backup = n\n",
    "    counter = [0 for _ in range(n+1)]\n",
    "    for length in partition: \n",
    "        \n",
    "        for i in range(1, n+1):    # * n!\n",
    "            res_factors[i] += 1\n",
    "        \n",
    "        for i in range(1, n-length+1):   # / (n-k)!\n",
    "            res_factors[i] -= 1\n",
    "            \n",
    "        res_factors[length] -= 1      # / k\n",
    "        n -= length\n",
    "        counter[length] += 1          # замість Counter \n",
    "\n",
    "    n = n_backup\n",
    "    \n",
    "    for amount in counter:\n",
    "        if amount == 1 or amount == 0: continue \n",
    "        for i in range(1, amount+1):\n",
    "            res_factors[i] -= 1\n",
    "\n",
    "    # варіант з розкладанням на прості множники, щоб більше скоротити. Працює довше\n",
    "    if factorize:\n",
    "        for i in range(2, n+1):\n",
    "            if primes[i]: continue \n",
    "            if not res_factors[i]: continue\n",
    "    \n",
    "            i_amount = res_factors[i]\n",
    "            for fact, f_amount in factors_cached[i]: \n",
    "                res_factors[fact] += f_amount * i_amount\n",
    "            res_factors[i] -= i_amount\n",
    "            \n",
    "    res = 1\n",
    "\n",
    "    # чисельник\n",
    "    for i in range(2, n+1): \n",
    "        if res_factors[i] > 0:\n",
    "            res *= (i ** res_factors[i])\n",
    "    # знаменник\n",
    "    for i in range(2, n+1):\n",
    "        if res_factors[i] < 0:    \n",
    "            # використовуємо цілочисельне ділення, бо результат точно буде цілим числом\n",
    "            # робимо це другим циклом, оскільки великі дільники можуть розкладатись на менші\n",
    "            res //= (i ** (-res_factors[i]))\n",
    "    return res, res_factors"
   ]
  },
  {
   "cell_type": "code",
   "execution_count": 21,
   "id": "52ebd8d8-9daf-4b6c-a435-ff4059b50bf5",
   "metadata": {},
   "outputs": [
    {
     "name": "stdout",
     "output_type": "stream",
     "text": [
      "elapsed: 0.00019s +- 0.00014\n",
      "estimated time: 9.89h +- 7.63h\n"
     ]
    }
   ],
   "source": [
    "import numpy as np \n",
    "\n",
    "res = []\n",
    "\n",
    "for _ in range(100):\n",
    "    el = Partitions(100).random_element()\n",
    "    t = time.time() \n",
    "    number_optimized(partition=el, n=100)\n",
    "    res.append(time.time() - t)\n",
    "\n",
    "print(f'elapsed: {np.mean(res):.5f}s +- {np.std(res):.5f}')\n",
    "\n",
    "mean_hours = (np.mean(res) * 190569292) / 3600\n",
    "std_hours = np.std(res) * 190569292 / 3600\n",
    "print(f'estimated time: {mean_hours:.2f}h +- {std_hours:.2f}h')"
   ]
  },
  {
   "cell_type": "markdown",
   "id": "4ba051a9-86e0-4a74-a514-4d697d31530c",
   "metadata": {},
   "source": [
    "#### вже краще, але всеодно довго\n",
    "\n",
    "Є момент, що __сейдж в юпітері працює довше, ніж скриптом__. Тому спробуємо запустити в терміналі файл [number_optimized](./lab03_assets/number_optimized.sage)."
   ]
  },
  {
   "cell_type": "code",
   "execution_count": 25,
   "id": "96e1ae98-aaed-40db-965c-790dd93c1470",
   "metadata": {},
   "outputs": [
    {
     "name": "stdout",
     "output_type": "stream",
     "text": [
      "elapsed: 0.00004s +- 0.00001\n",
      "estimated time: 2.09h +- 0.27h\n"
     ]
    }
   ],
   "source": [
    "!sage ./lab03_assets/number_optimized.sage"
   ]
  },
  {
   "cell_type": "markdown",
   "id": "02dd5a4d-461d-4cc9-84fd-c8b12bb5d4d1",
   "metadata": {},
   "source": [
    "#### Стало ще краще, але цікаво чи зможемо витягнути більше.\n",
    "\n",
    "Очевидний підхід -- написати функцію `number_optimized` на с++ (оскільки це просто кілька циклів) і використати її з пайтона, бо с++ не вміє з коробки працювати з великими цілими числами, а ми всі ліниві. "
   ]
  },
  {
   "cell_type": "code",
   "execution_count": 30,
   "id": "126beac1-a62b-4eb4-a629-d691b1560571",
   "metadata": {},
   "outputs": [
    {
     "name": "stdout",
     "output_type": "stream",
     "text": [
      "\u001b[38;5;238m───────┬────────────────────────────────────────────────────────────────────────\u001b[0m\n",
      "       \u001b[38;5;238m│ \u001b[0mFile: \u001b[1m./lab03_assets/cycletype.cpp\u001b[0m\n",
      "\u001b[38;5;238m───────┼────────────────────────────────────────────────────────────────────────\u001b[0m\n",
      "\u001b[38;5;238m   1\u001b[0m   \u001b[38;5;238m│\u001b[0m \n",
      "\u001b[38;5;238m   2\u001b[0m   \u001b[38;5;238m│\u001b[0m \u001b[38;2;167;29;93m#include\u001b[0m\u001b[38;2;51;51;51m \u001b[0m\u001b[38;2;24;54;145m<\u001b[0m\u001b[38;2;24;54;145mvector\u001b[0m\u001b[38;2;24;54;145m>\u001b[0m\n",
      "\u001b[38;5;238m   3\u001b[0m   \u001b[38;5;238m│\u001b[0m \u001b[38;2;167;29;93m#include\u001b[0m\u001b[38;2;51;51;51m \u001b[0m\u001b[38;2;24;54;145m<\u001b[0m\u001b[38;2;24;54;145miostream\u001b[0m\u001b[38;2;24;54;145m>\u001b[0m\n",
      "\u001b[38;5;238m   4\u001b[0m   \u001b[38;5;238m│\u001b[0m \n",
      "\u001b[38;5;238m   5\u001b[0m   \u001b[38;5;238m│\u001b[0m \n",
      "\u001b[38;5;238m   6\u001b[0m   \u001b[38;5;238m│\u001b[0m \u001b[38;2;150;152;150m//\u001b[0m\u001b[38;2;150;152;150m пайтон вміє працювати тільки з С, тому треба зробити обгортку без st\u001b[0m\n",
      "\u001b[38;5;238m    \u001b[0m   \u001b[38;5;238m│\u001b[0m \u001b[38;2;150;152;150md бібліотеки\u001b[0m\n",
      "\u001b[38;5;238m   7\u001b[0m   \u001b[38;5;238m│\u001b[0m \u001b[38;2;150;152;150m//\u001b[0m\u001b[38;2;150;152;150m тобто всякі вектори і мапи можна використовувати всередині функції, \u001b[0m\n",
      "\u001b[38;5;238m    \u001b[0m   \u001b[38;5;238m│\u001b[0m \u001b[38;2;150;152;150mале її\u001b[0m\n",
      "\u001b[38;5;238m   8\u001b[0m   \u001b[38;5;238m│\u001b[0m \u001b[38;2;150;152;150m//\u001b[0m\u001b[38;2;150;152;150m сигнатура повинна бути суто сішною (зокрема, ніяких посилань через &\u001b[0m\n",
      "\u001b[38;5;238m    \u001b[0m   \u001b[38;5;238m│\u001b[0m \u001b[38;2;150;152;150m)\u001b[0m\n",
      "\u001b[38;5;238m   9\u001b[0m   \u001b[38;5;238m│\u001b[0m \u001b[38;2;167;29;93mextern\u001b[0m\u001b[38;2;51;51;51m \u001b[0m\u001b[38;2;24;54;145m\"\u001b[0m\u001b[38;2;24;54;145mC\u001b[0m\u001b[38;2;24;54;145m\"\u001b[0m\u001b[38;2;51;51;51m{\u001b[0m\n",
      "\u001b[38;5;238m  10\u001b[0m   \u001b[38;5;238m│\u001b[0m \u001b[38;2;51;51;51m    \u001b[0m\u001b[38;2;167;29;93mint\u001b[0m\u001b[38;2;167;29;93m*\u001b[0m\u001b[38;2;51;51;51m \u001b[0m\u001b[38;2;121;93;163msymmetric_factors\u001b[0m\u001b[38;2;51;51;51m(\u001b[0m\u001b[38;2;167;29;93mint\u001b[0m\u001b[38;2;51;51;51m \u001b[0m\u001b[38;2;167;29;93m*\u001b[0m\u001b[38;2;0;134;179mpartition\u001b[0m\u001b[38;2;51;51;51m,\u001b[0m\u001b[38;2;51;51;51m \u001b[0m\u001b[38;2;167;29;93mint\u001b[0m\u001b[38;2;51;51;51m \u001b[0m\u001b[38;2;0;134;179msize\u001b[0m\u001b[38;2;51;51;51m,\u001b[0m\u001b[38;2;51;51;51m \u001b[0m\u001b[38;2;167;29;93mint\u001b[0m\u001b[38;2;51;51;51m \u001b[0m\u001b[38;2;0;134;179mn\u001b[0m\u001b[38;2;51;51;51m)\u001b[0m\u001b[38;2;51;51;51m{\u001b[0m\n",
      "\u001b[38;5;238m  11\u001b[0m   \u001b[38;5;238m│\u001b[0m \u001b[38;2;51;51;51m        \u001b[0m\u001b[38;2;167;29;93mint\u001b[0m\u001b[38;2;167;29;93m*\u001b[0m\u001b[38;2;51;51;51m res_factors \u001b[0m\u001b[38;2;167;29;93m=\u001b[0m\u001b[38;2;51;51;51m \u001b[0m\u001b[38;2;167;29;93mnew\u001b[0m\u001b[38;2;51;51;51m \u001b[0m\u001b[38;2;167;29;93mint\u001b[0m\u001b[38;2;51;51;51m[\u001b[0m\u001b[38;2;51;51;51mn\u001b[0m\u001b[38;2;167;29;93m+\u001b[0m\u001b[38;2;0;134;179m1\u001b[0m\u001b[38;2;51;51;51m]\u001b[0m\u001b[38;2;51;51;51m;\u001b[0m\n",
      "\u001b[38;5;238m  12\u001b[0m   \u001b[38;5;238m│\u001b[0m \u001b[38;2;51;51;51m        \u001b[0m\u001b[38;2;167;29;93mint\u001b[0m\u001b[38;2;167;29;93m*\u001b[0m\u001b[38;2;51;51;51m counter \u001b[0m\u001b[38;2;167;29;93m=\u001b[0m\u001b[38;2;51;51;51m \u001b[0m\u001b[38;2;167;29;93mnew\u001b[0m\u001b[38;2;51;51;51m \u001b[0m\u001b[38;2;167;29;93mint\u001b[0m\u001b[38;2;51;51;51m[\u001b[0m\u001b[38;2;51;51;51mn\u001b[0m\u001b[38;2;167;29;93m+\u001b[0m\u001b[38;2;0;134;179m1\u001b[0m\u001b[38;2;51;51;51m]\u001b[0m\u001b[38;2;51;51;51m;\u001b[0m\n",
      "\u001b[38;5;238m  13\u001b[0m   \u001b[38;5;238m│\u001b[0m \u001b[38;2;51;51;51m        \u001b[0m\u001b[38;2;167;29;93mint\u001b[0m\u001b[38;2;51;51;51m n_backup \u001b[0m\u001b[38;2;167;29;93m=\u001b[0m\u001b[38;2;51;51;51m n\u001b[0m\u001b[38;2;51;51;51m;\u001b[0m\n",
      "\u001b[38;5;238m  14\u001b[0m   \u001b[38;5;238m│\u001b[0m \u001b[38;2;51;51;51m        \u001b[0m\u001b[38;2;167;29;93mfor\u001b[0m\u001b[38;2;51;51;51m \u001b[0m\u001b[38;2;51;51;51m(\u001b[0m\u001b[38;2;167;29;93mint\u001b[0m\u001b[38;2;51;51;51m length_num \u001b[0m\u001b[38;2;167;29;93m=\u001b[0m\u001b[38;2;51;51;51m \u001b[0m\u001b[38;2;0;134;179m0\u001b[0m\u001b[38;2;51;51;51m;\u001b[0m\u001b[38;2;51;51;51m length_num \u001b[0m\u001b[38;2;167;29;93m<\u001b[0m\u001b[38;2;51;51;51m size\u001b[0m\u001b[38;2;51;51;51m;\u001b[0m\u001b[38;2;51;51;51m length_num\u001b[0m\u001b[38;2;167;29;93m++\u001b[0m\u001b[38;2;51;51;51m)\u001b[0m\u001b[38;2;51;51;51m \u001b[0m\u001b[38;2;51;51;51m{\u001b[0m\n",
      "\u001b[38;5;238m  15\u001b[0m   \u001b[38;5;238m│\u001b[0m \u001b[38;2;51;51;51m            \u001b[0m\u001b[38;2;167;29;93mint\u001b[0m\u001b[38;2;51;51;51m length \u001b[0m\u001b[38;2;167;29;93m=\u001b[0m\u001b[38;2;51;51;51m partition\u001b[0m\u001b[38;2;51;51;51m[\u001b[0m\u001b[38;2;51;51;51mlength_num\u001b[0m\u001b[38;2;51;51;51m]\u001b[0m\u001b[38;2;51;51;51m;\u001b[0m\n",
      "\u001b[38;5;238m  16\u001b[0m   \u001b[38;5;238m│\u001b[0m \u001b[38;2;51;51;51m            \u001b[0m\u001b[38;2;167;29;93mfor\u001b[0m\u001b[38;2;51;51;51m \u001b[0m\u001b[38;2;51;51;51m(\u001b[0m\u001b[38;2;167;29;93mint\u001b[0m\u001b[38;2;51;51;51m i \u001b[0m\u001b[38;2;167;29;93m=\u001b[0m\u001b[38;2;51;51;51m n \u001b[0m\u001b[38;2;167;29;93m-\u001b[0m\u001b[38;2;51;51;51m length \u001b[0m\u001b[38;2;167;29;93m+\u001b[0m\u001b[38;2;51;51;51m \u001b[0m\u001b[38;2;0;134;179m1\u001b[0m\u001b[38;2;51;51;51m;\u001b[0m\u001b[38;2;51;51;51m i \u001b[0m\u001b[38;2;167;29;93m<\u001b[0m\u001b[38;2;51;51;51m n\u001b[0m\u001b[38;2;167;29;93m+\u001b[0m\u001b[38;2;0;134;179m1\u001b[0m\u001b[38;2;51;51;51m;\u001b[0m\u001b[38;2;51;51;51m i\u001b[0m\u001b[38;2;167;29;93m++\u001b[0m\u001b[38;2;51;51;51m)\u001b[0m\u001b[38;2;51;51;51m res_factors\u001b[0m\u001b[38;2;51;51;51m[\u001b[0m\u001b[38;2;51;51;51mi\u001b[0m\u001b[38;2;51;51;51m]\u001b[0m\u001b[38;2;51;51;51m \u001b[0m\u001b[38;2;167;29;93m+\u001b[0m\n",
      "\u001b[38;5;238m    \u001b[0m   \u001b[38;5;238m│\u001b[0m \u001b[38;2;167;29;93m=\u001b[0m\u001b[38;2;51;51;51m \u001b[0m\u001b[38;2;0;134;179m1\u001b[0m\u001b[38;2;51;51;51m;\u001b[0m\n",
      "\u001b[38;5;238m  17\u001b[0m   \u001b[38;5;238m│\u001b[0m \u001b[38;2;51;51;51m            res_factors\u001b[0m\u001b[38;2;51;51;51m[\u001b[0m\u001b[38;2;51;51;51mlength\u001b[0m\u001b[38;2;51;51;51m]\u001b[0m\u001b[38;2;51;51;51m \u001b[0m\u001b[38;2;167;29;93m-=\u001b[0m\u001b[38;2;51;51;51m \u001b[0m\u001b[38;2;0;134;179m1\u001b[0m\u001b[38;2;51;51;51m;\u001b[0m\n",
      "\u001b[38;5;238m  18\u001b[0m   \u001b[38;5;238m│\u001b[0m \u001b[38;2;51;51;51m            n \u001b[0m\u001b[38;2;167;29;93m-=\u001b[0m\u001b[38;2;51;51;51m length\u001b[0m\u001b[38;2;51;51;51m;\u001b[0m\n",
      "\u001b[38;5;238m  19\u001b[0m   \u001b[38;5;238m│\u001b[0m \u001b[38;2;51;51;51m            counter\u001b[0m\u001b[38;2;51;51;51m[\u001b[0m\u001b[38;2;51;51;51mlength\u001b[0m\u001b[38;2;51;51;51m]\u001b[0m\u001b[38;2;167;29;93m++\u001b[0m\u001b[38;2;51;51;51m;\u001b[0m\u001b[38;2;51;51;51m    \u001b[0m\u001b[38;2;150;152;150m//\u001b[0m\u001b[38;2;150;152;150m calculate Counter(partition)\u001b[0m\n",
      "\u001b[38;5;238m  20\u001b[0m   \u001b[38;5;238m│\u001b[0m \u001b[38;2;51;51;51m        \u001b[0m\u001b[38;2;51;51;51m}\u001b[0m\u001b[38;2;51;51;51m;\u001b[0m\n",
      "\u001b[38;5;238m  21\u001b[0m   \u001b[38;5;238m│\u001b[0m \n",
      "\u001b[38;5;238m  22\u001b[0m   \u001b[38;5;238m│\u001b[0m \u001b[38;2;51;51;51m        \u001b[0m\u001b[38;2;167;29;93mfor\u001b[0m\u001b[38;2;51;51;51m \u001b[0m\u001b[38;2;51;51;51m(\u001b[0m\u001b[38;2;167;29;93mint\u001b[0m\u001b[38;2;51;51;51m len \u001b[0m\u001b[38;2;167;29;93m=\u001b[0m\u001b[38;2;51;51;51m \u001b[0m\u001b[38;2;0;134;179m0\u001b[0m\u001b[38;2;51;51;51m;\u001b[0m\u001b[38;2;51;51;51m len \u001b[0m\u001b[38;2;167;29;93m<\u001b[0m\u001b[38;2;51;51;51m n_backup \u001b[0m\u001b[38;2;167;29;93m+\u001b[0m\u001b[38;2;51;51;51m \u001b[0m\u001b[38;2;0;134;179m1\u001b[0m\u001b[38;2;51;51;51m;\u001b[0m\u001b[38;2;51;51;51m len\u001b[0m\u001b[38;2;167;29;93m++\u001b[0m\u001b[38;2;51;51;51m)\u001b[0m\u001b[38;2;51;51;51m{\u001b[0m\n",
      "\u001b[38;5;238m  23\u001b[0m   \u001b[38;5;238m│\u001b[0m \u001b[38;2;51;51;51m            \u001b[0m\u001b[38;2;167;29;93mint\u001b[0m\u001b[38;2;51;51;51m amount \u001b[0m\u001b[38;2;167;29;93m=\u001b[0m\u001b[38;2;51;51;51m counter\u001b[0m\u001b[38;2;51;51;51m[\u001b[0m\u001b[38;2;51;51;51mlen\u001b[0m\u001b[38;2;51;51;51m]\u001b[0m\u001b[38;2;51;51;51m;\u001b[0m\n",
      "\u001b[38;5;238m  24\u001b[0m   \u001b[38;5;238m│\u001b[0m \u001b[38;2;51;51;51m            \u001b[0m\u001b[38;2;167;29;93mif\u001b[0m\u001b[38;2;51;51;51m \u001b[0m\u001b[38;2;51;51;51m(\u001b[0m\u001b[38;2;51;51;51mamount \u001b[0m\u001b[38;2;167;29;93m==\u001b[0m\u001b[38;2;51;51;51m \u001b[0m\u001b[38;2;0;134;179m1\u001b[0m\u001b[38;2;51;51;51m \u001b[0m\u001b[38;2;167;29;93m||\u001b[0m\u001b[38;2;51;51;51m amount \u001b[0m\u001b[38;2;167;29;93m==\u001b[0m\u001b[38;2;51;51;51m \u001b[0m\u001b[38;2;0;134;179m0\u001b[0m\u001b[38;2;51;51;51m)\u001b[0m\u001b[38;2;51;51;51m \u001b[0m\u001b[38;2;167;29;93mcontinue\u001b[0m\u001b[38;2;51;51;51m;\u001b[0m\n",
      "\u001b[38;5;238m  25\u001b[0m   \u001b[38;5;238m│\u001b[0m \u001b[38;2;51;51;51m            \u001b[0m\u001b[38;2;167;29;93mfor\u001b[0m\u001b[38;2;51;51;51m \u001b[0m\u001b[38;2;51;51;51m(\u001b[0m\u001b[38;2;167;29;93mint\u001b[0m\u001b[38;2;51;51;51m i \u001b[0m\u001b[38;2;167;29;93m=\u001b[0m\u001b[38;2;51;51;51m \u001b[0m\u001b[38;2;0;134;179m2\u001b[0m\u001b[38;2;51;51;51m;\u001b[0m\u001b[38;2;51;51;51m i \u001b[0m\u001b[38;2;167;29;93m<\u001b[0m\u001b[38;2;51;51;51m amount\u001b[0m\u001b[38;2;167;29;93m+\u001b[0m\u001b[38;2;0;134;179m1\u001b[0m\u001b[38;2;51;51;51m;\u001b[0m\u001b[38;2;51;51;51m i\u001b[0m\u001b[38;2;167;29;93m++\u001b[0m\u001b[38;2;51;51;51m)\u001b[0m\n",
      "\u001b[38;5;238m  26\u001b[0m   \u001b[38;5;238m│\u001b[0m \u001b[38;2;51;51;51m                res_factors\u001b[0m\u001b[38;2;51;51;51m[\u001b[0m\u001b[38;2;51;51;51mi\u001b[0m\u001b[38;2;51;51;51m]\u001b[0m\u001b[38;2;167;29;93m--\u001b[0m\u001b[38;2;51;51;51m;\u001b[0m\n",
      "\u001b[38;5;238m  27\u001b[0m   \u001b[38;5;238m│\u001b[0m \u001b[38;2;51;51;51m        \u001b[0m\u001b[38;2;51;51;51m}\u001b[0m\n",
      "\u001b[38;5;238m  28\u001b[0m   \u001b[38;5;238m│\u001b[0m \n",
      "\u001b[38;5;238m  29\u001b[0m   \u001b[38;5;238m│\u001b[0m \u001b[38;2;51;51;51m        \u001b[0m\u001b[38;2;167;29;93mreturn\u001b[0m\u001b[38;2;51;51;51m res_factors\u001b[0m\u001b[38;2;51;51;51m;\u001b[0m\n",
      "\u001b[38;5;238m  30\u001b[0m   \u001b[38;5;238m│\u001b[0m \u001b[38;2;51;51;51m    \u001b[0m\u001b[38;2;51;51;51m}\u001b[0m\n",
      "\u001b[38;5;238m  31\u001b[0m   \u001b[38;5;238m│\u001b[0m \n",
      "\u001b[38;5;238m  32\u001b[0m   \u001b[38;5;238m│\u001b[0m \u001b[38;2;51;51;51m    \u001b[0m\u001b[38;2;167;29;93mvoid\u001b[0m\u001b[38;2;51;51;51m \u001b[0m\u001b[38;2;121;93;163mfree_array\u001b[0m\u001b[38;2;51;51;51m(\u001b[0m\u001b[38;2;167;29;93mint\u001b[0m\u001b[38;2;167;29;93m*\u001b[0m\u001b[38;2;51;51;51m \u001b[0m\u001b[38;2;0;134;179marray\u001b[0m\u001b[38;2;51;51;51m)\u001b[0m\u001b[38;2;51;51;51m{\u001b[0m\n",
      "\u001b[38;5;238m  33\u001b[0m   \u001b[38;5;238m│\u001b[0m \u001b[38;2;51;51;51m        \u001b[0m\u001b[38;2;167;29;93mdelete[]\u001b[0m\u001b[38;2;51;51;51m array\u001b[0m\u001b[38;2;51;51;51m;\u001b[0m\n",
      "\u001b[38;5;238m  34\u001b[0m   \u001b[38;5;238m│\u001b[0m \u001b[38;2;51;51;51m    \u001b[0m\u001b[38;2;51;51;51m}\u001b[0m\n",
      "\u001b[38;5;238m  35\u001b[0m   \u001b[38;5;238m│\u001b[0m \u001b[38;2;51;51;51m}\u001b[0m\n",
      "\u001b[38;5;238m  36\u001b[0m   \u001b[38;5;238m│\u001b[0m \n",
      "\u001b[38;5;238m  37\u001b[0m   \u001b[38;5;238m│\u001b[0m \n",
      "\u001b[38;5;238m  38\u001b[0m   \u001b[38;5;238m│\u001b[0m \u001b[38;2;167;29;93mint\u001b[0m\u001b[38;2;51;51;51m \u001b[0m\u001b[38;2;121;93;163mmain\u001b[0m\u001b[38;2;51;51;51m(\u001b[0m\u001b[38;2;167;29;93mint\u001b[0m\u001b[38;2;51;51;51m \u001b[0m\u001b[38;2;0;134;179margc\u001b[0m\u001b[38;2;51;51;51m,\u001b[0m\u001b[38;2;51;51;51m \u001b[0m\u001b[38;2;167;29;93mchar\u001b[0m\u001b[38;2;51;51;51m \u001b[0m\u001b[38;2;167;29;93m*\u001b[0m\u001b[38;2;0;134;179margv\u001b[0m\u001b[38;2;51;51;51m[\u001b[0m\u001b[38;2;51;51;51m]\u001b[0m\u001b[38;2;51;51;51m)\u001b[0m\u001b[38;2;51;51;51m{\u001b[0m\n",
      "\u001b[38;5;238m  39\u001b[0m   \u001b[38;5;238m│\u001b[0m \n",
      "\u001b[38;5;238m  40\u001b[0m   \u001b[38;5;238m│\u001b[0m \u001b[38;2;51;51;51m    \u001b[0m\u001b[38;2;150;152;150m//\u001b[0m\u001b[38;2;150;152;150m поки можем -- намагаємось зчитати на вхід розбиття числа через п\u001b[0m\n",
      "\u001b[38;5;238m    \u001b[0m   \u001b[38;5;238m│\u001b[0m \u001b[38;2;150;152;150mробіл\u001b[0m\n",
      "\u001b[38;5;238m  41\u001b[0m   \u001b[38;5;238m│\u001b[0m \u001b[38;2;51;51;51m    \u001b[0m\u001b[38;2;167;29;93mwhile\u001b[0m\u001b[38;2;51;51;51m \u001b[0m\u001b[38;2;51;51;51m(\u001b[0m\u001b[38;2;0;134;179m1\u001b[0m\u001b[38;2;51;51;51m)\u001b[0m\u001b[38;2;51;51;51m{\u001b[0m\n",
      "\u001b[38;5;238m  42\u001b[0m   \u001b[38;5;238m│\u001b[0m \u001b[38;2;51;51;51m        \u001b[0m\u001b[38;2;167;29;93mint\u001b[0m\u001b[38;2;167;29;93m*\u001b[0m\u001b[38;2;51;51;51m partition \u001b[0m\u001b[38;2;167;29;93m=\u001b[0m\u001b[38;2;51;51;51m \u001b[0m\u001b[38;2;167;29;93mnew\u001b[0m\u001b[38;2;51;51;51m \u001b[0m\u001b[38;2;167;29;93mint\u001b[0m\u001b[38;2;51;51;51m[\u001b[0m\u001b[38;2;0;134;179m101\u001b[0m\u001b[38;2;51;51;51m]\u001b[0m\u001b[38;2;51;51;51m;\u001b[0m\n",
      "\u001b[38;5;238m  43\u001b[0m   \u001b[38;5;238m│\u001b[0m \u001b[38;2;51;51;51m        \u001b[0m\u001b[38;2;167;29;93mint\u001b[0m\u001b[38;2;51;51;51m all \u001b[0m\u001b[38;2;167;29;93m=\u001b[0m\u001b[38;2;51;51;51m \u001b[0m\u001b[38;2;0;134;179m0\u001b[0m\u001b[38;2;51;51;51m;\u001b[0m\n",
      "\u001b[38;5;238m  44\u001b[0m   \u001b[38;5;238m│\u001b[0m \u001b[38;2;51;51;51m        \u001b[0m\u001b[38;2;167;29;93mint\u001b[0m\u001b[38;2;51;51;51m size \u001b[0m\u001b[38;2;167;29;93m=\u001b[0m\u001b[38;2;51;51;51m \u001b[0m\u001b[38;2;0;134;179m0\u001b[0m\u001b[38;2;51;51;51m;\u001b[0m\n",
      "\u001b[38;5;238m  45\u001b[0m   \u001b[38;5;238m│\u001b[0m \n",
      "\u001b[38;5;238m  46\u001b[0m   \u001b[38;5;238m│\u001b[0m \u001b[38;2;51;51;51m        \u001b[0m\u001b[38;2;167;29;93mwhile\u001b[0m\u001b[38;2;51;51;51m \u001b[0m\u001b[38;2;51;51;51m(\u001b[0m\u001b[38;2;51;51;51mall \u001b[0m\u001b[38;2;167;29;93m<\u001b[0m\u001b[38;2;51;51;51m \u001b[0m\u001b[38;2;0;134;179m100\u001b[0m\u001b[38;2;51;51;51m)\u001b[0m\u001b[38;2;51;51;51m \u001b[0m\u001b[38;2;51;51;51m{\u001b[0m\n",
      "\u001b[38;5;238m  47\u001b[0m   \u001b[38;5;238m│\u001b[0m \u001b[38;2;51;51;51m            \u001b[0m\u001b[38;2;167;29;93mint\u001b[0m\u001b[38;2;51;51;51m tmp\u001b[0m\u001b[38;2;51;51;51m;\u001b[0m\n",
      "\u001b[38;5;238m  48\u001b[0m   \u001b[38;5;238m│\u001b[0m \u001b[38;2;51;51;51m            size\u001b[0m\u001b[38;2;167;29;93m++\u001b[0m\u001b[38;2;51;51;51m;\u001b[0m\n",
      "\u001b[38;5;238m  49\u001b[0m   \u001b[38;5;238m│\u001b[0m \u001b[38;2;51;51;51m            std\u001b[0m\u001b[38;2;51;51;51m::\u001b[0m\u001b[38;2;51;51;51mcin \u001b[0m\u001b[38;2;167;29;93m>>\u001b[0m\u001b[38;2;51;51;51m tmp\u001b[0m\u001b[38;2;51;51;51m;\u001b[0m\n",
      "\u001b[38;5;238m  50\u001b[0m   \u001b[38;5;238m│\u001b[0m \n",
      "\u001b[38;5;238m  51\u001b[0m   \u001b[38;5;238m│\u001b[0m \u001b[38;2;51;51;51m            \u001b[0m\u001b[38;2;150;152;150m//\u001b[0m\u001b[38;2;150;152;150m якщо відʼємне число -- закінчуємо роботу\u001b[0m\n",
      "\u001b[38;5;238m  52\u001b[0m   \u001b[38;5;238m│\u001b[0m \u001b[38;2;51;51;51m            \u001b[0m\u001b[38;2;167;29;93mif\u001b[0m\u001b[38;2;51;51;51m \u001b[0m\u001b[38;2;51;51;51m(\u001b[0m\u001b[38;2;51;51;51mtmp \u001b[0m\u001b[38;2;167;29;93m<\u001b[0m\u001b[38;2;51;51;51m \u001b[0m\u001b[38;2;0;134;179m0\u001b[0m\u001b[38;2;51;51;51m)\u001b[0m\u001b[38;2;51;51;51m \u001b[0m\u001b[38;2;51;51;51m{\u001b[0m\n",
      "\u001b[38;5;238m  53\u001b[0m   \u001b[38;5;238m│\u001b[0m \u001b[38;2;51;51;51m                std\u001b[0m\u001b[38;2;51;51;51m::\u001b[0m\u001b[38;2;51;51;51mcout \u001b[0m\u001b[38;2;167;29;93m<<\u001b[0m\u001b[38;2;51;51;51m \u001b[0m\u001b[38;2;167;29;93m-\u001b[0m\u001b[38;2;0;134;179m1\u001b[0m\u001b[38;2;51;51;51m \u001b[0m\u001b[38;2;167;29;93m<<\u001b[0m\u001b[38;2;51;51;51m std\u001b[0m\u001b[38;2;51;51;51m::\u001b[0m\u001b[38;2;51;51;51mendl\u001b[0m\u001b[38;2;51;51;51m;\u001b[0m\n",
      "\u001b[38;5;238m  54\u001b[0m   \u001b[38;5;238m│\u001b[0m \u001b[38;2;51;51;51m                \u001b[0m\u001b[38;2;0;134;179mexit\u001b[0m\u001b[38;2;51;51;51m(\u001b[0m\u001b[38;2;0;134;179m0\u001b[0m\u001b[38;2;51;51;51m)\u001b[0m\u001b[38;2;51;51;51m;\u001b[0m\n",
      "\u001b[38;5;238m  55\u001b[0m   \u001b[38;5;238m│\u001b[0m \u001b[38;2;51;51;51m            \u001b[0m\u001b[38;2;51;51;51m}\u001b[0m\u001b[38;2;51;51;51m;\u001b[0m\n",
      "\u001b[38;5;238m  56\u001b[0m   \u001b[38;5;238m│\u001b[0m \u001b[38;2;51;51;51m            partition\u001b[0m\u001b[38;2;51;51;51m[\u001b[0m\u001b[38;2;51;51;51msize\u001b[0m\u001b[38;2;167;29;93m-\u001b[0m\u001b[38;2;0;134;179m1\u001b[0m\u001b[38;2;51;51;51m]\u001b[0m\u001b[38;2;51;51;51m \u001b[0m\u001b[38;2;167;29;93m=\u001b[0m\u001b[38;2;51;51;51m tmp\u001b[0m\u001b[38;2;51;51;51m;\u001b[0m\n",
      "\u001b[38;5;238m  57\u001b[0m   \u001b[38;5;238m│\u001b[0m \u001b[38;2;51;51;51m            all \u001b[0m\u001b[38;2;167;29;93m+=\u001b[0m\u001b[38;2;51;51;51m tmp\u001b[0m\u001b[38;2;51;51;51m;\u001b[0m\n",
      "\u001b[38;5;238m  58\u001b[0m   \u001b[38;5;238m│\u001b[0m \u001b[38;2;51;51;51m        \u001b[0m\u001b[38;2;51;51;51m}\u001b[0m\n",
      "\u001b[38;5;238m  59\u001b[0m   \u001b[38;5;238m│\u001b[0m \u001b[38;2;51;51;51m        \u001b[0m\u001b[38;2;150;152;150m//\u001b[0m\u001b[38;2;150;152;150m std::cout << \"starting calc for partition of size \" << parti\u001b[0m\n",
      "\u001b[38;5;238m    \u001b[0m   \u001b[38;5;238m│\u001b[0m \u001b[38;2;150;152;150mtion.size() << std::endl;\u001b[0m\n",
      "\u001b[38;5;238m  60\u001b[0m   \u001b[38;5;238m│\u001b[0m \u001b[38;2;51;51;51m        \u001b[0m\u001b[38;2;167;29;93mauto\u001b[0m\u001b[38;2;51;51;51m res \u001b[0m\u001b[38;2;167;29;93m=\u001b[0m\u001b[38;2;51;51;51m \u001b[0m\u001b[38;2;0;134;179msymmetric_factors\u001b[0m\u001b[38;2;51;51;51m(\u001b[0m\u001b[38;2;51;51;51mpartition\u001b[0m\u001b[38;2;51;51;51m,\u001b[0m\u001b[38;2;51;51;51m size\u001b[0m\u001b[38;2;51;51;51m,\u001b[0m\u001b[38;2;51;51;51m \u001b[0m\u001b[38;2;0;134;179m100\u001b[0m\u001b[38;2;51;51;51m)\u001b[0m\u001b[38;2;51;51;51m;\u001b[0m\n",
      "\u001b[38;5;238m  61\u001b[0m   \u001b[38;5;238m│\u001b[0m \n",
      "\u001b[38;5;238m  62\u001b[0m   \u001b[38;5;238m│\u001b[0m \u001b[38;2;51;51;51m        \u001b[0m\u001b[38;2;150;152;150m//\u001b[0m\u001b[38;2;150;152;150m std::cout << res << std::endl;\u001b[0m\n",
      "\u001b[38;5;238m  63\u001b[0m   \u001b[38;5;238m│\u001b[0m \u001b[38;2;51;51;51m        \u001b[0m\u001b[38;2;167;29;93mfor\u001b[0m\u001b[38;2;51;51;51m \u001b[0m\u001b[38;2;51;51;51m(\u001b[0m\u001b[38;2;167;29;93mint\u001b[0m\u001b[38;2;51;51;51m i \u001b[0m\u001b[38;2;167;29;93m=\u001b[0m\u001b[38;2;51;51;51m \u001b[0m\u001b[38;2;0;134;179m0\u001b[0m\u001b[38;2;51;51;51m;\u001b[0m\u001b[38;2;51;51;51m i \u001b[0m\u001b[38;2;167;29;93m<\u001b[0m\u001b[38;2;51;51;51m \u001b[0m\u001b[38;2;0;134;179m101\u001b[0m\u001b[38;2;51;51;51m;\u001b[0m\u001b[38;2;51;51;51m i\u001b[0m\u001b[38;2;167;29;93m++\u001b[0m\u001b[38;2;51;51;51m)\u001b[0m\u001b[38;2;51;51;51m std\u001b[0m\u001b[38;2;51;51;51m::\u001b[0m\u001b[38;2;51;51;51mcout \u001b[0m\u001b[38;2;167;29;93m<<\u001b[0m\u001b[38;2;51;51;51m res\u001b[0m\u001b[38;2;51;51;51m[\u001b[0m\u001b[38;2;51;51;51mi\u001b[0m\u001b[38;2;51;51;51m]\u001b[0m\u001b[38;2;51;51;51m \u001b[0m\u001b[38;2;167;29;93m<<\u001b[0m\u001b[38;2;51;51;51m \u001b[0m\u001b[38;2;24;54;145m'\u001b[0m\u001b[38;2;24;54;145m \u001b[0m\u001b[38;2;24;54;145m'\u001b[0m\u001b[38;2;51;51;51m;\u001b[0m\n",
      "\u001b[38;5;238m  64\u001b[0m   \u001b[38;5;238m│\u001b[0m \u001b[38;2;51;51;51m        std\u001b[0m\u001b[38;2;51;51;51m::\u001b[0m\u001b[38;2;51;51;51mcout \u001b[0m\u001b[38;2;167;29;93m<<\u001b[0m\u001b[38;2;51;51;51m std\u001b[0m\u001b[38;2;51;51;51m::\u001b[0m\u001b[38;2;51;51;51mendl\u001b[0m\u001b[38;2;51;51;51m;\u001b[0m\n",
      "\u001b[38;5;238m  65\u001b[0m   \u001b[38;5;238m│\u001b[0m \u001b[38;2;51;51;51m    \u001b[0m\u001b[38;2;51;51;51m}\u001b[0m\n",
      "\u001b[38;5;238m  66\u001b[0m   \u001b[38;5;238m│\u001b[0m \n",
      "\u001b[38;5;238m  67\u001b[0m   \u001b[38;5;238m│\u001b[0m \u001b[38;2;51;51;51m}\u001b[0m\n",
      "\u001b[38;5;238m───────┴────────────────────────────────────────────────────────────────────────\u001b[0m\n"
     ]
    }
   ],
   "source": [
    "!bat --theme=GitHub ./lab03_assets/cycletype.cpp"
   ]
  },
  {
   "cell_type": "code",
   "execution_count": 38,
   "id": "2ca35112-c1b0-46fa-bb94-6708f12af57d",
   "metadata": {},
   "outputs": [],
   "source": [
    "!g++ -o ./lab03_assets/cycletype ./lab03_assets/cycletype.cpp &> /dev/null"
   ]
  },
  {
   "cell_type": "markdown",
   "id": "1695a2a0-2331-4e64-a2a8-b04ca40cf44e",
   "metadata": {},
   "source": [
    "#### найпростіший спосіб викликати с++ код з пайтона -- використати так званий пайпінг.\n",
    "\n",
    "Пайпінг в Unix системах (pipe = труба) -- це комунікація двох і більше програм, коли вивід однієї передається як ввід іншої. В Windows теж присутній. Викликається з командного рядку у вигляді `program1 | program2`"
   ]
  },
  {
   "cell_type": "code",
   "execution_count": 43,
   "id": "a8908870-a4aa-4f4b-b480-cb52b6f1dc79",
   "metadata": {},
   "outputs": [
    {
     "name": "stdout",
     "output_type": "stream",
     "text": [
      "0 -1 0 1 1 1 1 1 1 1 1 1 1 1 1 1 1 1 1 1 1 1 1 1 1 1 1 1 1 1 1 1 1 1 1 1 1 1 1 1 1 1 1 1 1 1 1 1 1 1 1 1 1 1 1 1 1 1 1 1 1 1 1 1 1 1 1 1 1 1 1 1 1 1 1 1 1 1 1 1 1 1 1 1 1 1 1 1 1 1 1 1 1 1 1 1 1 1 0 1 1 \n",
      "-1\n"
     ]
    }
   ],
   "source": [
    "!echo \"98 1 1 -1\" | ./lab03_assets/cycletype"
   ]
  },
  {
   "attachments": {
    "2be48a7f-0d0e-493e-a9c6-3c0b33abbb87.png": {
     "image/png": "[encoded data removed]"
    }
   },
   "cell_type": "markdown",
   "id": "ab86b900-7f8b-4aa6-a8a7-339452dd0106",
   "metadata": {},
   "source": [
    "Тобто комунікація буде така: \n",
    "\n",
    "\n",
    "```mermaid\n",
    "\n",
    "graph LR; \n",
    "    generate.sage --> cycletype.cpp\n",
    "    cycletype.cpp --> product.py \n",
    "```\n",
    "\n",
    "(гітхаб не вміє відображати мермаід діаграми, тому тримайте картинку)\n",
    "\n",
    "![зображення.png](attachment:2be48a7f-0d0e-493e-a9c6-3c0b33abbb87.png)\n",
    "\n",
    "[generate.sage](./lab03_assets/generate.sage) буде генерувати розбиття чисел, [cycletype.cpp](./lab03_assets/cycletype.cpp) рахувати дільники результуючого числа, а [product.py](./lab03_assets/product.py) просто множити їх:"
   ]
  },
  {
   "cell_type": "code",
   "execution_count": 55,
   "id": "43e5a4f9-d1af-4b58-b66e-22973df47ab4",
   "metadata": {},
   "outputs": [
    {
     "name": "stdout",
     "output_type": "stream",
     "text": [
      "\u001b[38;5;238m───────┬────────────────────────────────────────────────────────────────────────\u001b[0m\n",
      "       \u001b[38;5;238m│ \u001b[0mFile: \u001b[1mlab03_assets/product.py\u001b[0m\n",
      "\u001b[38;5;238m───────┼────────────────────────────────────────────────────────────────────────\u001b[0m\n",
      "\u001b[38;5;238m   1\u001b[0m   \u001b[38;5;238m│\u001b[0m \n",
      "\u001b[38;5;238m   2\u001b[0m   \u001b[38;5;238m│\u001b[0m \u001b[38;2;167;29;93mimport\u001b[0m\u001b[38;2;51;51;51m \u001b[0m\u001b[38;2;51;51;51msys\u001b[0m\n",
      "\u001b[38;5;238m   3\u001b[0m   \u001b[38;5;238m│\u001b[0m \u001b[38;2;167;29;93mfrom\u001b[0m\u001b[38;2;51;51;51m \u001b[0m\u001b[38;2;51;51;51mtqdm\u001b[0m\u001b[38;2;51;51;51m \u001b[0m\u001b[38;2;167;29;93mimport\u001b[0m\u001b[38;2;51;51;51m \u001b[0m\u001b[38;2;51;51;51mtqdm\u001b[0m\n",
      "\u001b[38;5;238m   4\u001b[0m   \u001b[38;5;238m│\u001b[0m \n",
      "\u001b[38;5;238m   5\u001b[0m   \u001b[38;5;238m│\u001b[0m \n",
      "\u001b[38;5;238m   6\u001b[0m   \u001b[38;5;238m│\u001b[0m \u001b[38;2;150;152;150m#\u001b[0m\u001b[38;2;150;152;150m заготовочка, щоб можна було потім використати кілька процесів\u001b[0m\n",
      "\u001b[38;5;238m   7\u001b[0m   \u001b[38;5;238m│\u001b[0m \u001b[38;2;167;29;93mif\u001b[0m\u001b[38;2;51;51;51m \u001b[0m\u001b[38;2;0;134;179mlen\u001b[0m\u001b[38;2;51;51;51m(\u001b[0m\u001b[38;2;51;51;51msys\u001b[0m\u001b[38;2;51;51;51m.\u001b[0m\u001b[38;2;51;51;51margv\u001b[0m\u001b[38;2;51;51;51m)\u001b[0m\u001b[38;2;51;51;51m \u001b[0m\u001b[38;2;167;29;93m>\u001b[0m\u001b[38;2;51;51;51m \u001b[0m\u001b[38;2;0;134;179m1\u001b[0m\u001b[38;2;51;51;51m:\u001b[0m\n",
      "\u001b[38;5;238m   8\u001b[0m   \u001b[38;5;238m│\u001b[0m \u001b[38;2;51;51;51m    \u001b[0m\u001b[38;2;51;51;51mworkers\u001b[0m\u001b[38;2;51;51;51m \u001b[0m\u001b[38;2;167;29;93m=\u001b[0m\u001b[38;2;51;51;51m \u001b[0m\u001b[38;2;0;134;179mint\u001b[0m\u001b[38;2;51;51;51m(\u001b[0m\u001b[38;2;51;51;51msys\u001b[0m\u001b[38;2;51;51;51m.\u001b[0m\u001b[38;2;51;51;51margv\u001b[0m\u001b[38;2;51;51;51m[\u001b[0m\u001b[38;2;0;134;179m1\u001b[0m\u001b[38;2;51;51;51m]\u001b[0m\u001b[38;2;51;51;51m)\u001b[0m\n",
      "\u001b[38;5;238m   9\u001b[0m   \u001b[38;5;238m│\u001b[0m \u001b[38;2;51;51;51m    \u001b[0m\u001b[38;2;51;51;51mnum_worker\u001b[0m\u001b[38;2;51;51;51m \u001b[0m\u001b[38;2;167;29;93m=\u001b[0m\u001b[38;2;51;51;51m \u001b[0m\u001b[38;2;0;134;179mint\u001b[0m\u001b[38;2;51;51;51m(\u001b[0m\u001b[38;2;51;51;51msys\u001b[0m\u001b[38;2;51;51;51m.\u001b[0m\u001b[38;2;51;51;51margv\u001b[0m\u001b[38;2;51;51;51m[\u001b[0m\u001b[38;2;0;134;179m2\u001b[0m\u001b[38;2;51;51;51m]\u001b[0m\u001b[38;2;51;51;51m)\u001b[0m\n",
      "\u001b[38;5;238m  10\u001b[0m   \u001b[38;5;238m│\u001b[0m \u001b[38;2;167;29;93melse\u001b[0m\u001b[38;2;51;51;51m:\u001b[0m\n",
      "\u001b[38;5;238m  11\u001b[0m   \u001b[38;5;238m│\u001b[0m \u001b[38;2;51;51;51m    \u001b[0m\u001b[38;2;51;51;51mworkers\u001b[0m\u001b[38;2;51;51;51m \u001b[0m\u001b[38;2;167;29;93m=\u001b[0m\u001b[38;2;51;51;51m \u001b[0m\u001b[38;2;0;134;179m1\u001b[0m\n",
      "\u001b[38;5;238m  12\u001b[0m   \u001b[38;5;238m│\u001b[0m \u001b[38;2;51;51;51m    \u001b[0m\u001b[38;2;51;51;51mnum_worker\u001b[0m\u001b[38;2;51;51;51m \u001b[0m\u001b[38;2;167;29;93m=\u001b[0m\u001b[38;2;51;51;51m \u001b[0m\u001b[38;2;0;134;179m1\u001b[0m\n",
      "\u001b[38;5;238m  13\u001b[0m   \u001b[38;5;238m│\u001b[0m \n",
      "\u001b[38;5;238m  14\u001b[0m   \u001b[38;5;238m│\u001b[0m \n",
      "\u001b[38;5;238m  15\u001b[0m   \u001b[38;5;238m│\u001b[0m \u001b[38;2;51;51;51mfull\u001b[0m\u001b[38;2;51;51;51m \u001b[0m\u001b[38;2;167;29;93m=\u001b[0m\u001b[38;2;51;51;51m \u001b[0m\u001b[38;2;0;134;179m190569292\u001b[0m\n",
      "\u001b[38;5;238m  16\u001b[0m   \u001b[38;5;238m│\u001b[0m \n",
      "\u001b[38;5;238m  17\u001b[0m   \u001b[38;5;238m│\u001b[0m \u001b[38;2;51;51;51mres_orders\u001b[0m\u001b[38;2;51;51;51m \u001b[0m\u001b[38;2;167;29;93m=\u001b[0m\u001b[38;2;51;51;51m \u001b[0m\u001b[38;2;0;134;179mset\u001b[0m\u001b[38;2;51;51;51m(\u001b[0m\u001b[38;2;51;51;51m)\u001b[0m\n",
      "\u001b[38;5;238m  18\u001b[0m   \u001b[38;5;238m│\u001b[0m \n",
      "\u001b[38;5;238m  19\u001b[0m   \u001b[38;5;238m│\u001b[0m \u001b[38;2;150;152;150m#\u001b[0m\u001b[38;2;150;152;150m tqdm дає красивий прогресбар, але йому треба знати повну кількість пе\u001b[0m\n",
      "\u001b[38;5;238m    \u001b[0m   \u001b[38;5;238m│\u001b[0m \u001b[38;2;150;152;150mреборів\u001b[0m\n",
      "\u001b[38;5;238m  20\u001b[0m   \u001b[38;5;238m│\u001b[0m \u001b[38;2;167;29;93mfor\u001b[0m\u001b[38;2;51;51;51m \u001b[0m\u001b[38;2;223;80;0m_\u001b[0m\u001b[38;2;51;51;51m \u001b[0m\u001b[38;2;167;29;93min\u001b[0m\u001b[38;2;51;51;51m \u001b[0m\u001b[38;2;0;134;179mtqdm\u001b[0m\u001b[38;2;51;51;51m(\u001b[0m\u001b[38;2;0;134;179mrange\u001b[0m\u001b[38;2;51;51;51m(\u001b[0m\u001b[38;2;51;51;51m(\u001b[0m\u001b[38;2;51;51;51mfull\u001b[0m\u001b[38;2;167;29;93m/\u001b[0m\u001b[38;2;167;29;93m/\u001b[0m\u001b[38;2;51;51;51mworkers\u001b[0m\u001b[38;2;51;51;51m)\u001b[0m\u001b[38;2;51;51;51m \u001b[0m\u001b[38;2;167;29;93m+\u001b[0m\u001b[38;2;51;51;51m \u001b[0m\u001b[38;2;0;134;179m2\u001b[0m\u001b[38;2;51;51;51m)\u001b[0m\u001b[38;2;51;51;51m)\u001b[0m\u001b[38;2;51;51;51m:\u001b[0m\n",
      "\u001b[38;5;238m  21\u001b[0m   \u001b[38;5;238m│\u001b[0m \n",
      "\u001b[38;5;238m  22\u001b[0m   \u001b[38;5;238m│\u001b[0m \u001b[38;2;51;51;51m    \u001b[0m\u001b[38;2;150;152;150m#\u001b[0m\u001b[38;2;150;152;150m той самий input().split() з єолімпа\u001b[0m\n",
      "\u001b[38;5;238m  23\u001b[0m   \u001b[38;5;238m│\u001b[0m \u001b[38;2;51;51;51m    \u001b[0m\u001b[38;2;51;51;51mx\u001b[0m\u001b[38;2;51;51;51m \u001b[0m\u001b[38;2;167;29;93m=\u001b[0m\u001b[38;2;51;51;51m \u001b[0m\u001b[38;2;0;134;179mlist\u001b[0m\u001b[38;2;51;51;51m(\u001b[0m\u001b[38;2;0;134;179mmap\u001b[0m\u001b[38;2;51;51;51m(\u001b[0m\u001b[38;2;0;134;179mint\u001b[0m\u001b[38;2;51;51;51m,\u001b[0m\u001b[38;2;51;51;51m \u001b[0m\u001b[38;2;0;134;179minput\u001b[0m\u001b[38;2;51;51;51m(\u001b[0m\u001b[38;2;51;51;51m)\u001b[0m\u001b[38;2;51;51;51m.\u001b[0m\u001b[38;2;0;134;179msplit\u001b[0m\u001b[38;2;51;51;51m(\u001b[0m\u001b[38;2;51;51;51m)\u001b[0m\u001b[38;2;51;51;51m)\u001b[0m\u001b[38;2;51;51;51m)\u001b[0m\n",
      "\u001b[38;5;238m  24\u001b[0m   \u001b[38;5;238m│\u001b[0m \u001b[38;2;51;51;51m    \u001b[0m\u001b[38;2;167;29;93mif\u001b[0m\u001b[38;2;51;51;51m \u001b[0m\u001b[38;2;51;51;51mx\u001b[0m\u001b[38;2;51;51;51m[\u001b[0m\u001b[38;2;0;134;179m0\u001b[0m\u001b[38;2;51;51;51m]\u001b[0m\u001b[38;2;51;51;51m \u001b[0m\u001b[38;2;167;29;93m==\u001b[0m\u001b[38;2;51;51;51m \u001b[0m\u001b[38;2;167;29;93m-\u001b[0m\u001b[38;2;0;134;179m1\u001b[0m\u001b[38;2;51;51;51m:\u001b[0m\n",
      "\u001b[38;5;238m  25\u001b[0m   \u001b[38;5;238m│\u001b[0m \u001b[38;2;51;51;51m        \u001b[0m\u001b[38;2;167;29;93mbreak\u001b[0m\n",
      "\u001b[38;5;238m  26\u001b[0m   \u001b[38;5;238m│\u001b[0m \n",
      "\u001b[38;5;238m  27\u001b[0m   \u001b[38;5;238m│\u001b[0m \u001b[38;2;51;51;51m    \u001b[0m\u001b[38;2;51;51;51mres\u001b[0m\u001b[38;2;51;51;51m \u001b[0m\u001b[38;2;167;29;93m=\u001b[0m\u001b[38;2;51;51;51m \u001b[0m\u001b[38;2;0;134;179m1\u001b[0m\n",
      "\u001b[38;5;238m  28\u001b[0m   \u001b[38;5;238m│\u001b[0m \u001b[38;2;51;51;51m    \u001b[0m\u001b[38;2;167;29;93mfor\u001b[0m\u001b[38;2;51;51;51m \u001b[0m\u001b[38;2;51;51;51mi\u001b[0m\u001b[38;2;51;51;51m \u001b[0m\u001b[38;2;167;29;93min\u001b[0m\u001b[38;2;51;51;51m \u001b[0m\u001b[38;2;0;134;179mrange\u001b[0m\u001b[38;2;51;51;51m(\u001b[0m\u001b[38;2;0;134;179m2\u001b[0m\u001b[38;2;51;51;51m,\u001b[0m\u001b[38;2;51;51;51m \u001b[0m\u001b[38;2;0;134;179m100\u001b[0m\u001b[38;2;167;29;93m+\u001b[0m\u001b[38;2;0;134;179m1\u001b[0m\u001b[38;2;51;51;51m)\u001b[0m\u001b[38;2;51;51;51m:\u001b[0m\n",
      "\u001b[38;5;238m  29\u001b[0m   \u001b[38;5;238m│\u001b[0m \u001b[38;2;51;51;51m        \u001b[0m\u001b[38;2;167;29;93mif\u001b[0m\u001b[38;2;51;51;51m \u001b[0m\u001b[38;2;51;51;51mx\u001b[0m\u001b[38;2;51;51;51m[\u001b[0m\u001b[38;2;51;51;51mi\u001b[0m\u001b[38;2;51;51;51m]\u001b[0m\u001b[38;2;51;51;51m \u001b[0m\u001b[38;2;167;29;93m>\u001b[0m\u001b[38;2;51;51;51m \u001b[0m\u001b[38;2;0;134;179m0\u001b[0m\u001b[38;2;51;51;51m:\u001b[0m\n",
      "\u001b[38;5;238m  30\u001b[0m   \u001b[38;5;238m│\u001b[0m \u001b[38;2;51;51;51m            \u001b[0m\u001b[38;2;51;51;51mres\u001b[0m\u001b[38;2;51;51;51m \u001b[0m\u001b[38;2;167;29;93m*=\u001b[0m\u001b[38;2;51;51;51m \u001b[0m\u001b[38;2;51;51;51mi\u001b[0m\u001b[38;2;51;51;51m \u001b[0m\u001b[38;2;167;29;93m*\u001b[0m\u001b[38;2;167;29;93m*\u001b[0m\u001b[38;2;51;51;51m \u001b[0m\u001b[38;2;51;51;51mx\u001b[0m\u001b[38;2;51;51;51m[\u001b[0m\u001b[38;2;51;51;51mi\u001b[0m\u001b[38;2;51;51;51m]\u001b[0m\n",
      "\u001b[38;5;238m  31\u001b[0m   \u001b[38;5;238m│\u001b[0m \n",
      "\u001b[38;5;238m  32\u001b[0m   \u001b[38;5;238m│\u001b[0m \u001b[38;2;51;51;51m    \u001b[0m\u001b[38;2;167;29;93mfor\u001b[0m\u001b[38;2;51;51;51m \u001b[0m\u001b[38;2;51;51;51mi\u001b[0m\u001b[38;2;51;51;51m \u001b[0m\u001b[38;2;167;29;93min\u001b[0m\u001b[38;2;51;51;51m \u001b[0m\u001b[38;2;0;134;179mrange\u001b[0m\u001b[38;2;51;51;51m(\u001b[0m\u001b[38;2;0;134;179m2\u001b[0m\u001b[38;2;51;51;51m,\u001b[0m\u001b[38;2;51;51;51m \u001b[0m\u001b[38;2;0;134;179m100\u001b[0m\u001b[38;2;167;29;93m+\u001b[0m\u001b[38;2;0;134;179m1\u001b[0m\u001b[38;2;51;51;51m)\u001b[0m\u001b[38;2;51;51;51m:\u001b[0m\n",
      "\u001b[38;5;238m  33\u001b[0m   \u001b[38;5;238m│\u001b[0m \u001b[38;2;51;51;51m        \u001b[0m\u001b[38;2;150;152;150m#\u001b[0m\u001b[38;2;150;152;150m цілочисельне ділення, щоб число не перетворилось в\u001b[0m\n",
      "\u001b[38;5;238m  34\u001b[0m   \u001b[38;5;238m│\u001b[0m \u001b[38;2;51;51;51m        \u001b[0m\u001b[38;2;150;152;150m#\u001b[0m\u001b[38;2;150;152;150m float (який має недостатню точність)\u001b[0m\n",
      "\u001b[38;5;238m  35\u001b[0m   \u001b[38;5;238m│\u001b[0m \u001b[38;2;51;51;51m        \u001b[0m\u001b[38;2;167;29;93mif\u001b[0m\u001b[38;2;51;51;51m \u001b[0m\u001b[38;2;51;51;51mx\u001b[0m\u001b[38;2;51;51;51m[\u001b[0m\u001b[38;2;51;51;51mi\u001b[0m\u001b[38;2;51;51;51m]\u001b[0m\u001b[38;2;51;51;51m \u001b[0m\u001b[38;2;167;29;93m<\u001b[0m\u001b[38;2;51;51;51m \u001b[0m\u001b[38;2;0;134;179m0\u001b[0m\u001b[38;2;51;51;51m:\u001b[0m\n",
      "\u001b[38;5;238m  36\u001b[0m   \u001b[38;5;238m│\u001b[0m \u001b[38;2;51;51;51m            \u001b[0m\u001b[38;2;51;51;51mres\u001b[0m\u001b[38;2;51;51;51m \u001b[0m\u001b[38;2;167;29;93m//=\u001b[0m\u001b[38;2;51;51;51m \u001b[0m\u001b[38;2;51;51;51mi\u001b[0m\u001b[38;2;51;51;51m \u001b[0m\u001b[38;2;167;29;93m*\u001b[0m\u001b[38;2;167;29;93m*\u001b[0m\u001b[38;2;51;51;51m \u001b[0m\u001b[38;2;0;134;179mabs\u001b[0m\u001b[38;2;51;51;51m(\u001b[0m\u001b[38;2;51;51;51mx\u001b[0m\u001b[38;2;51;51;51m[\u001b[0m\u001b[38;2;51;51;51mi\u001b[0m\u001b[38;2;51;51;51m]\u001b[0m\u001b[38;2;51;51;51m)\u001b[0m\n",
      "\u001b[38;5;238m  37\u001b[0m   \u001b[38;5;238m│\u001b[0m \n",
      "\u001b[38;5;238m  38\u001b[0m   \u001b[38;5;238m│\u001b[0m \u001b[38;2;51;51;51m    \u001b[0m\u001b[38;2;51;51;51mres_orders\u001b[0m\u001b[38;2;51;51;51m.\u001b[0m\u001b[38;2;0;134;179madd\u001b[0m\u001b[38;2;51;51;51m(\u001b[0m\u001b[38;2;51;51;51mres\u001b[0m\u001b[38;2;51;51;51m)\u001b[0m\n",
      "\u001b[38;5;238m  39\u001b[0m   \u001b[38;5;238m│\u001b[0m \n",
      "\u001b[38;5;238m  40\u001b[0m   \u001b[38;5;238m│\u001b[0m \u001b[38;2;0;134;179mprint\u001b[0m\u001b[38;2;51;51;51m(\u001b[0m\u001b[38;2;51;51;51mres_orders\u001b[0m\u001b[38;2;51;51;51m)\u001b[0m\n",
      "\u001b[38;5;238m───────┴────────────────────────────────────────────────────────────────────────\u001b[0m\n"
     ]
    }
   ],
   "source": [
    "!bat --theme=GitHub lab03_assets/product.py"
   ]
  },
  {
   "cell_type": "markdown",
   "id": "0e59b091-cb8f-42cc-9c15-63dad0448971",
   "metadata": {},
   "source": [
    "#### перевіримо значення"
   ]
  },
  {
   "cell_type": "code",
   "execution_count": 73,
   "id": "4fe24945-bdce-467a-9f5c-24ca88588d32",
   "metadata": {},
   "outputs": [
    {
     "name": "stdout",
     "output_type": "stream",
     "text": [
      "  0%|                                | 1/190569294 [00:00<5:13:30, 10131.17it/s]\n",
      "476154160428286493273975708450340308626101878899906231982617162730702040781785283719089101919165909623743356738914406929852985769984000000000000000000000000\n"
     ]
    }
   ],
   "source": [
    "!echo \"98 1 1 -1\" | ./lab03_assets/cycletype | python ./lab03_assets/product.py"
   ]
  },
  {
   "cell_type": "code",
   "execution_count": 54,
   "id": "3f84ead9-e157-4f4b-9155-525e6857ef8e",
   "metadata": {},
   "outputs": [
    {
     "data": {
      "text/plain": [
       "476154160428286493273975708450340308626101878899906231982617162730702040781785283719089101919165909623743356738914406929852985769984000000000000000000000000"
      ]
     },
     "execution_count": 54,
     "metadata": {},
     "output_type": "execute_result"
    }
   ],
   "source": [
    "number_optimized([98, 1, 1], 100)[0]"
   ]
  },
  {
   "cell_type": "code",
   "execution_count": 5,
   "id": "f716c7db-472b-45df-a147-dadce0680c94",
   "metadata": {},
   "outputs": [
    {
     "data": {
      "text/plain": [
       "476154160428286493273975708450340308626101878899906231982617162730702040781785283719089101919165909623743356738914406929852985769984000000000000000000000000"
      ]
     },
     "execution_count": 5,
     "metadata": {},
     "output_type": "execute_result"
    }
   ],
   "source": [
    "number([98, 1, 1], 100)"
   ]
  },
  {
   "cell_type": "markdown",
   "id": "3416bec7-5a94-46b8-a617-4622f0645a37",
   "metadata": {},
   "source": [
    "#### оцінимо час виконання, запустивши з tqdm на кілька секунд"
   ]
  },
  {
   "cell_type": "code",
   "execution_count": 77,
   "id": "03a2766a-29df-4f03-abfd-0d1fd61afd0c",
   "metadata": {},
   "outputs": [
    {
     "name": "stdout",
     "output_type": "stream",
     "text": [
      "  0%|                           | 108812/190569294 [00:05<2:09:21, 24539.91it/s]^C\n",
      "  0%|                           | 112058/190569294 [00:06<2:52:28, 18404.38it/s]\n",
      "Traceback (most recent call last):\n",
      "  File \"/Users/davendiy/Documents/work/teaching/group_theory/sage-labs2024/answers/./lab03_assets/product.py\", line 28, in <module>\n",
      "    for i in range(2, 100+1):\n",
      "KeyboardInterrupt\n",
      "Traceback (most recent call last):\n",
      "  File \"/Users/davendiy/Documents/work/teaching/group_theory/sage-labs2024/answers/./lab03_assets/generate.sage.py\", line 26, in <module>\n",
      "    print(*el)\n",
      "  File \"src/cysignals/signals.pyx\", line 341, in cysignals.signals.python_check_interrupt\n",
      "KeyboardInterrupt\n"
     ]
    }
   ],
   "source": [
    "!sage ./lab03_assets/generate.sage | ./lab03_assets/cycletype | python ./lab03_assets/product.py"
   ]
  },
  {
   "cell_type": "markdown",
   "id": "f9097866-285d-49c9-9aea-cd57ec9f41b5",
   "metadata": {},
   "source": [
    "#### в терміналі чомусь працює всеодно швидше і видає ~1:24:30, на відміну від верхніх ~2:09:21. Підозрюю це через пайпінг"
   ]
  },
  {
   "cell_type": "markdown",
   "id": "88d1612f-0144-4ec1-b6fb-2baf70083b80",
   "metadata": {},
   "source": [
    "### Цікаво, чи можна швидше? \n",
    "\n",
    "Гіпотеза: найбільше забирає часу генерація розбиттів, оскільки вони написані на сейджі, а не с++. Див файл: https://github.com/sagemath/sage/blob/develop/src/sage/combinat/partition.py\n",
    "\n",
    "Спробуємо чисту [імплементацію](./lab03_assets/pure.cpp) на С++, з одним лиш множенням на пайтоні. "
   ]
  },
  {
   "cell_type": "code",
   "execution_count": 105,
   "id": "a7b822e1-4eba-44dc-b11e-f7431922e60c",
   "metadata": {},
   "outputs": [
    {
     "name": "stdout",
     "output_type": "stream",
     "text": [
      "  0%|                           | 137727/190569294 [00:03<1:35:48, 33128.36it/s]^C\n",
      "  0%|                           | 140601/190569294 [00:04<1:31:29, 34688.35it/s]\n",
      "Traceback (most recent call last):\n",
      "  File \"/Users/davendiy/Documents/work/teaching/group_theory/sage-labs2024/answers/./lab03_assets/product.py\", line 30, in <module>\n",
      "    res *= i ** x[i]\n",
      "KeyboardInterrupt\n"
     ]
    }
   ],
   "source": [
    "!g++ -o ./lab03_assets/pure ./lab03_assets/pure.cpp &> /dev/null \n",
    "!./lab03_assets/pure | python ./lab03_assets/product.py"
   ]
  },
  {
   "cell_type": "markdown",
   "id": "be5c9fcc-0683-456f-a1fb-dec7b3069d01",
   "metadata": {},
   "source": [
    "#### Показує ~1:39 в жупітері і ~1:05 в терміналі. \n",
    "\n",
    "Насправді я вас трошки наобманював і розбиття написані на Cython: https://github.com/sagemath/sage/blob/develop/src/sage/combinat/partitions.pyx#L204 \n",
    "\n",
    "(попередній файл містить тільки класи-обгортки)\n",
    "\n",
    "Сайтон компілюється і по швидкості дуже близький до С++, тому гіпотетично півгодини прибрало саме копіювання масивів між програмами. Спробуємо інший підхід до використання с++ в пайтоні, щоб пересвідчитись в цьому. "
   ]
  },
  {
   "cell_type": "markdown",
   "id": "b618439a-d916-425f-b529-a95d53a12e28",
   "metadata": {},
   "source": [
    "### Використання с++ кода через CDLL \n",
    "\n",
    "На моєму досвіді, найпростішим після пайпінгу варіантом використання с++ є компіляція його в статичну бібліотеку, а потім використання через CDLL. Основний мінус: дуже просто зловити segfault \n",
    "\n",
    "___Зауваження___: цей метод є platform dependent, тому версії для юнікса і віндовса будуть відрізнятись. Повний імпорт можете глянути в [cycletype_import.py](./lab03_assets/cycletype_import.py)"
   ]
  },
  {
   "cell_type": "code",
   "execution_count": 99,
   "id": "c8435cba-3fc7-48c1-8836-bb4bc50f345f",
   "metadata": {},
   "outputs": [
    {
     "name": "stdout",
     "output_type": "stream",
     "text": [
      "\u001b[38;5;238m───────┬────────────────────────────────────────────────────────────────────────\u001b[0m\n",
      "       \u001b[38;5;238m│ \u001b[0mFile: \u001b[1m./lab03_assets/cycletype.sage\u001b[0m\n",
      "\u001b[38;5;238m───────┼────────────────────────────────────────────────────────────────────────\u001b[0m\n",
      "\u001b[38;5;238m   1\u001b[0m   \u001b[38;5;238m│\u001b[0m \u001b[38;2;167;29;93mimport\u001b[0m\u001b[38;2;51;51;51m \u001b[0m\u001b[38;2;51;51;51msys\u001b[0m\n",
      "\u001b[38;5;238m   2\u001b[0m   \u001b[38;5;238m│\u001b[0m \n",
      "\u001b[38;5;238m   3\u001b[0m   \u001b[38;5;238m│\u001b[0m \u001b[38;2;167;29;93mfrom\u001b[0m\u001b[38;2;51;51;51m \u001b[0m\u001b[38;2;51;51;51mtqdm\u001b[0m\u001b[38;2;51;51;51m \u001b[0m\u001b[38;2;167;29;93mimport\u001b[0m\u001b[38;2;51;51;51m \u001b[0m\u001b[38;2;51;51;51mtqdm\u001b[0m\n",
      "\u001b[38;5;238m   4\u001b[0m   \u001b[38;5;238m│\u001b[0m \n",
      "\u001b[38;5;238m   5\u001b[0m   \u001b[38;5;238m│\u001b[0m \n",
      "\u001b[38;5;238m   6\u001b[0m   \u001b[38;5;238m│\u001b[0m \u001b[38;2;150;152;150m#\u001b[0m\u001b[38;2;150;152;150m стандартна пайтонівська бібліотека\u001b[0m\n",
      "\u001b[38;5;238m   7\u001b[0m   \u001b[38;5;238m│\u001b[0m \u001b[38;2;167;29;93mimport\u001b[0m\u001b[38;2;51;51;51m \u001b[0m\u001b[38;2;51;51;51mctypes\u001b[0m\n",
      "\u001b[38;5;238m   8\u001b[0m   \u001b[38;5;238m│\u001b[0m \u001b[38;2;167;29;93mfrom\u001b[0m\u001b[38;2;51;51;51m \u001b[0m\u001b[38;2;51;51;51mctypes\u001b[0m\u001b[38;2;51;51;51m \u001b[0m\u001b[38;2;167;29;93mimport\u001b[0m\u001b[38;2;51;51;51m \u001b[0m\u001b[38;2;0;134;179mCDLL\u001b[0m\n",
      "\u001b[38;5;238m   9\u001b[0m   \u001b[38;5;238m│\u001b[0m \n",
      "\u001b[38;5;238m  10\u001b[0m   \u001b[38;5;238m│\u001b[0m \n",
      "\u001b[38;5;238m  11\u001b[0m   \u001b[38;5;238m│\u001b[0m \u001b[38;2;150;152;150m#\u001b[0m\u001b[38;2;150;152;150m заготовочка на кілька воркерів\u001b[0m\n",
      "\u001b[38;5;238m  12\u001b[0m   \u001b[38;5;238m│\u001b[0m \u001b[38;2;167;29;93mif\u001b[0m\u001b[38;2;51;51;51m \u001b[0m\u001b[38;2;0;134;179mlen\u001b[0m\u001b[38;2;51;51;51m(\u001b[0m\u001b[38;2;51;51;51msys\u001b[0m\u001b[38;2;51;51;51m.\u001b[0m\u001b[38;2;51;51;51margv\u001b[0m\u001b[38;2;51;51;51m)\u001b[0m\u001b[38;2;51;51;51m \u001b[0m\u001b[38;2;167;29;93m>\u001b[0m\u001b[38;2;51;51;51m \u001b[0m\u001b[38;2;0;134;179m1\u001b[0m\u001b[38;2;51;51;51m:\u001b[0m\n",
      "\u001b[38;5;238m  13\u001b[0m   \u001b[38;5;238m│\u001b[0m \u001b[38;2;51;51;51m    \u001b[0m\u001b[38;2;51;51;51mworkers\u001b[0m\u001b[38;2;51;51;51m \u001b[0m\u001b[38;2;167;29;93m=\u001b[0m\u001b[38;2;51;51;51m \u001b[0m\u001b[38;2;0;134;179mint\u001b[0m\u001b[38;2;51;51;51m(\u001b[0m\u001b[38;2;51;51;51msys\u001b[0m\u001b[38;2;51;51;51m.\u001b[0m\u001b[38;2;51;51;51margv\u001b[0m\u001b[38;2;51;51;51m[\u001b[0m\u001b[38;2;0;134;179m1\u001b[0m\u001b[38;2;51;51;51m]\u001b[0m\u001b[38;2;51;51;51m)\u001b[0m\n",
      "\u001b[38;5;238m  14\u001b[0m   \u001b[38;5;238m│\u001b[0m \u001b[38;2;51;51;51m    \u001b[0m\u001b[38;2;51;51;51mnum_worker\u001b[0m\u001b[38;2;51;51;51m \u001b[0m\u001b[38;2;167;29;93m=\u001b[0m\u001b[38;2;51;51;51m \u001b[0m\u001b[38;2;0;134;179mint\u001b[0m\u001b[38;2;51;51;51m(\u001b[0m\u001b[38;2;51;51;51msys\u001b[0m\u001b[38;2;51;51;51m.\u001b[0m\u001b[38;2;51;51;51margv\u001b[0m\u001b[38;2;51;51;51m[\u001b[0m\u001b[38;2;0;134;179m2\u001b[0m\u001b[38;2;51;51;51m]\u001b[0m\u001b[38;2;51;51;51m)\u001b[0m\n",
      "\u001b[38;5;238m  15\u001b[0m   \u001b[38;5;238m│\u001b[0m \u001b[38;2;167;29;93melse\u001b[0m\u001b[38;2;51;51;51m:\u001b[0m\n",
      "\u001b[38;5;238m  16\u001b[0m   \u001b[38;5;238m│\u001b[0m \u001b[38;2;51;51;51m    \u001b[0m\u001b[38;2;51;51;51mworkers\u001b[0m\u001b[38;2;51;51;51m \u001b[0m\u001b[38;2;167;29;93m=\u001b[0m\u001b[38;2;51;51;51m \u001b[0m\u001b[38;2;0;134;179m1\u001b[0m\n",
      "\u001b[38;5;238m  17\u001b[0m   \u001b[38;5;238m│\u001b[0m \u001b[38;2;51;51;51m    \u001b[0m\u001b[38;2;51;51;51mnum_worker\u001b[0m\u001b[38;2;51;51;51m \u001b[0m\u001b[38;2;167;29;93m=\u001b[0m\u001b[38;2;51;51;51m \u001b[0m\u001b[38;2;0;134;179m0\u001b[0m\n",
      "\u001b[38;5;238m  18\u001b[0m   \u001b[38;5;238m│\u001b[0m \n",
      "\u001b[38;5;238m  19\u001b[0m   \u001b[38;5;238m│\u001b[0m \n",
      "\u001b[38;5;238m  20\u001b[0m   \u001b[38;5;238m│\u001b[0m \u001b[38;2;150;152;150m#\u001b[0m\u001b[38;2;150;152;150m створюємо С бібліотеку з статичного файлу\u001b[0m\n",
      "\u001b[38;5;238m  21\u001b[0m   \u001b[38;5;238m│\u001b[0m \u001b[38;2;150;152;150m#\u001b[0m\u001b[38;2;150;152;150m зауваження: це platform depended штука, тобто на віндовсі буде не так\u001b[0m\n",
      "\u001b[38;5;238m  22\u001b[0m   \u001b[38;5;238m│\u001b[0m \u001b[38;2;51;51;51mcycle_types\u001b[0m\u001b[38;2;51;51;51m \u001b[0m\u001b[38;2;167;29;93m=\u001b[0m\u001b[38;2;51;51;51m \u001b[0m\u001b[38;2;0;134;179mCDLL\u001b[0m\u001b[38;2;51;51;51m(\u001b[0m\u001b[38;2;24;54;145m'\u001b[0m\u001b[38;2;24;54;145mcycletype.so\u001b[0m\u001b[38;2;24;54;145m'\u001b[0m\u001b[38;2;51;51;51m)\u001b[0m\n",
      "\u001b[38;5;238m  23\u001b[0m   \u001b[38;5;238m│\u001b[0m \n",
      "\u001b[38;5;238m  24\u001b[0m   \u001b[38;5;238m│\u001b[0m \n",
      "\u001b[38;5;238m  25\u001b[0m   \u001b[38;5;238m│\u001b[0m \u001b[38;2;150;152;150m#\u001b[0m\u001b[38;2;150;152;150m прописуємо сигнатуру функцій, бо пайтон не вміє сам її визначати\u001b[0m\n",
      "\u001b[38;5;238m  26\u001b[0m   \u001b[38;5;238m│\u001b[0m \u001b[38;2;51;51;51mcycle_types\u001b[0m\u001b[38;2;51;51;51m.\u001b[0m\u001b[38;2;51;51;51msymmetric_factors\u001b[0m\u001b[38;2;51;51;51m.\u001b[0m\u001b[38;2;51;51;51margtypes\u001b[0m\u001b[38;2;51;51;51m \u001b[0m\u001b[38;2;167;29;93m=\u001b[0m\u001b[38;2;51;51;51m \u001b[0m\u001b[38;2;51;51;51m(\u001b[0m\u001b[38;2;51;51;51mctypes\u001b[0m\u001b[38;2;51;51;51m.\u001b[0m\u001b[38;2;0;134;179mPOINTER\u001b[0m\u001b[38;2;51;51;51m(\u001b[0m\u001b[38;2;51;51;51mctypes\u001b[0m\u001b[38;2;51;51;51m.\u001b[0m\u001b[38;2;51;51;51mc_int\u001b[0m\u001b[38;2;51;51;51m)\u001b[0m\u001b[38;2;51;51;51m,\u001b[0m\n",
      "\u001b[38;5;238m    \u001b[0m   \u001b[38;5;238m│\u001b[0m \u001b[38;2;51;51;51m \u001b[0m\u001b[38;2;51;51;51mctypes\u001b[0m\u001b[38;2;51;51;51m.\u001b[0m\u001b[38;2;51;51;51mc_int\u001b[0m\u001b[38;2;51;51;51m,\u001b[0m\u001b[38;2;51;51;51m \u001b[0m\u001b[38;2;51;51;51mctypes\u001b[0m\u001b[38;2;51;51;51m.\u001b[0m\u001b[38;2;51;51;51mc_int\u001b[0m\u001b[38;2;51;51;51m)\u001b[0m\n",
      "\u001b[38;5;238m  27\u001b[0m   \u001b[38;5;238m│\u001b[0m \u001b[38;2;51;51;51mcycle_types\u001b[0m\u001b[38;2;51;51;51m.\u001b[0m\u001b[38;2;51;51;51msymmetric_factors\u001b[0m\u001b[38;2;51;51;51m.\u001b[0m\u001b[38;2;51;51;51mrestype\u001b[0m\u001b[38;2;51;51;51m \u001b[0m\u001b[38;2;167;29;93m=\u001b[0m\u001b[38;2;51;51;51m \u001b[0m\u001b[38;2;51;51;51mctypes\u001b[0m\u001b[38;2;51;51;51m.\u001b[0m\u001b[38;2;0;134;179mPOINTER\u001b[0m\u001b[38;2;51;51;51m(\u001b[0m\u001b[38;2;51;51;51mctypes\u001b[0m\u001b[38;2;51;51;51m.\u001b[0m\u001b[38;2;51;51;51mc_int\u001b[0m\u001b[38;2;51;51;51m)\u001b[0m\n",
      "\u001b[38;5;238m  28\u001b[0m   \u001b[38;5;238m│\u001b[0m \n",
      "\u001b[38;5;238m  29\u001b[0m   \u001b[38;5;238m│\u001b[0m \n",
      "\u001b[38;5;238m  30\u001b[0m   \u001b[38;5;238m│\u001b[0m \u001b[38;2;167;29;93mdef\u001b[0m\u001b[38;2;51;51;51m \u001b[0m\u001b[38;2;121;93;163msymmetric_factors\u001b[0m\u001b[38;2;51;51;51m(\u001b[0m\u001b[38;2;0;134;179mpartitions\u001b[0m\u001b[38;2;51;51;51m:\u001b[0m\u001b[38;2;51;51;51m \u001b[0m\u001b[38;2;0;134;179mlist\u001b[0m\u001b[38;2;51;51;51m,\u001b[0m\u001b[38;2;51;51;51m \u001b[0m\u001b[38;2;0;134;179mn\u001b[0m\u001b[38;2;51;51;51m:\u001b[0m\u001b[38;2;51;51;51m \u001b[0m\u001b[38;2;0;134;179mint\u001b[0m\u001b[38;2;51;51;51m)\u001b[0m\u001b[38;2;51;51;51m:\u001b[0m\n",
      "\u001b[38;5;238m  31\u001b[0m   \u001b[38;5;238m│\u001b[0m \u001b[38;2;51;51;51m    \u001b[0m\u001b[38;2;150;152;150m#\u001b[0m\u001b[38;2;150;152;150m спершу треба пайтонівський список перетворити в динамічний масив\u001b[0m\n",
      "\u001b[38;5;238m  32\u001b[0m   \u001b[38;5;238m│\u001b[0m \u001b[38;2;51;51;51m    \u001b[0m\u001b[38;2;150;152;150m#\u001b[0m\u001b[38;2;150;152;150m для цього створюємо необхідний тип\u001b[0m\n",
      "\u001b[38;5;238m  33\u001b[0m   \u001b[38;5;238m│\u001b[0m \u001b[38;2;51;51;51m    \u001b[0m\u001b[38;2;51;51;51marray_type\u001b[0m\u001b[38;2;51;51;51m \u001b[0m\u001b[38;2;167;29;93m=\u001b[0m\u001b[38;2;51;51;51m \u001b[0m\u001b[38;2;51;51;51mctypes\u001b[0m\u001b[38;2;51;51;51m.\u001b[0m\u001b[38;2;51;51;51mc_int\u001b[0m\u001b[38;2;51;51;51m \u001b[0m\u001b[38;2;167;29;93m*\u001b[0m\u001b[38;2;51;51;51m \u001b[0m\u001b[38;2;0;134;179mint\u001b[0m\u001b[38;2;51;51;51m(\u001b[0m\u001b[38;2;0;134;179mlen\u001b[0m\u001b[38;2;51;51;51m(\u001b[0m\u001b[38;2;51;51;51mpartitions\u001b[0m\u001b[38;2;51;51;51m)\u001b[0m\u001b[38;2;51;51;51m)\u001b[0m\n",
      "\u001b[38;5;238m  34\u001b[0m   \u001b[38;5;238m│\u001b[0m \n",
      "\u001b[38;5;238m  35\u001b[0m   \u001b[38;5;238m│\u001b[0m \u001b[38;2;51;51;51m    \u001b[0m\u001b[38;2;150;152;150m#\u001b[0m\u001b[38;2;150;152;150m і перетворюємо. Тут зірочка буквально означає посилання\u001b[0m\n",
      "\u001b[38;5;238m  36\u001b[0m   \u001b[38;5;238m│\u001b[0m \u001b[38;2;51;51;51m    \u001b[0m\u001b[38;2;51;51;51mc_array\u001b[0m\u001b[38;2;51;51;51m \u001b[0m\u001b[38;2;167;29;93m=\u001b[0m\u001b[38;2;51;51;51m \u001b[0m\u001b[38;2;0;134;179marray_type\u001b[0m\u001b[38;2;51;51;51m(\u001b[0m\u001b[38;2;167;29;93m*\u001b[0m\u001b[38;2;0;134;179mlist\u001b[0m\u001b[38;2;51;51;51m(\u001b[0m\u001b[38;2;51;51;51mpartitions\u001b[0m\u001b[38;2;51;51;51m)\u001b[0m\u001b[38;2;51;51;51m)\u001b[0m\n",
      "\u001b[38;5;238m  37\u001b[0m   \u001b[38;5;238m│\u001b[0m \n",
      "\u001b[38;5;238m  38\u001b[0m   \u001b[38;5;238m│\u001b[0m \u001b[38;2;51;51;51m    \u001b[0m\u001b[38;2;150;152;150m#\u001b[0m\u001b[38;2;150;152;150m викликаємо сішну функцію (вона сіплюсплюсна, але пайтон про це не\u001b[0m\n",
      "\u001b[38;5;238m    \u001b[0m   \u001b[38;5;238m│\u001b[0m \u001b[38;2;150;152;150m знає)\u001b[0m\n",
      "\u001b[38;5;238m  39\u001b[0m   \u001b[38;5;238m│\u001b[0m \u001b[38;2;51;51;51m    \u001b[0m\u001b[38;2;51;51;51mresult\u001b[0m\u001b[38;2;51;51;51m \u001b[0m\u001b[38;2;167;29;93m=\u001b[0m\u001b[38;2;51;51;51m \u001b[0m\u001b[38;2;51;51;51mcycle_types\u001b[0m\u001b[38;2;51;51;51m.\u001b[0m\u001b[38;2;0;134;179msymmetric_factors\u001b[0m\u001b[38;2;51;51;51m(\u001b[0m\u001b[38;2;51;51;51mc_array\u001b[0m\u001b[38;2;51;51;51m,\u001b[0m\u001b[38;2;51;51;51m \u001b[0m\u001b[38;2;0;134;179mint\u001b[0m\u001b[38;2;51;51;51m(\u001b[0m\u001b[38;2;0;134;179mlen\u001b[0m\u001b[38;2;51;51;51m(\u001b[0m\u001b[38;2;51;51;51mpartitions\u001b[0m\u001b[38;2;51;51;51m)\u001b[0m\n",
      "\u001b[38;5;238m    \u001b[0m   \u001b[38;5;238m│\u001b[0m \u001b[38;2;51;51;51m)\u001b[0m\u001b[38;2;51;51;51m,\u001b[0m\u001b[38;2;51;51;51m \u001b[0m\u001b[38;2;0;134;179mint\u001b[0m\u001b[38;2;51;51;51m(\u001b[0m\u001b[38;2;51;51;51mn\u001b[0m\u001b[38;2;51;51;51m)\u001b[0m\u001b[38;2;51;51;51m)\u001b[0m\n",
      "\u001b[38;5;238m  40\u001b[0m   \u001b[38;5;238m│\u001b[0m \u001b[38;2;51;51;51m    \u001b[0m\u001b[38;2;51;51;51mres\u001b[0m\u001b[38;2;51;51;51m \u001b[0m\u001b[38;2;167;29;93m=\u001b[0m\u001b[38;2;51;51;51m \u001b[0m\u001b[38;2;0;134;179m1\u001b[0m\n",
      "\u001b[38;5;238m  41\u001b[0m   \u001b[38;5;238m│\u001b[0m \u001b[38;2;51;51;51m    \u001b[0m\u001b[38;2;167;29;93mfor\u001b[0m\u001b[38;2;51;51;51m \u001b[0m\u001b[38;2;51;51;51mi\u001b[0m\u001b[38;2;51;51;51m \u001b[0m\u001b[38;2;167;29;93min\u001b[0m\u001b[38;2;51;51;51m \u001b[0m\u001b[38;2;0;134;179mrange\u001b[0m\u001b[38;2;51;51;51m(\u001b[0m\u001b[38;2;51;51;51mn\u001b[0m\u001b[38;2;167;29;93m+\u001b[0m\u001b[38;2;0;134;179m1\u001b[0m\u001b[38;2;51;51;51m)\u001b[0m\u001b[38;2;51;51;51m:\u001b[0m\n",
      "\u001b[38;5;238m  42\u001b[0m   \u001b[38;5;238m│\u001b[0m \u001b[38;2;51;51;51m        \u001b[0m\u001b[38;2;150;152;150m#\u001b[0m\u001b[38;2;150;152;150m res *= i ** result[i]\u001b[0m\n",
      "\u001b[38;5;238m  43\u001b[0m   \u001b[38;5;238m│\u001b[0m \u001b[38;2;51;51;51m        \u001b[0m\u001b[38;2;167;29;93mif\u001b[0m\u001b[38;2;51;51;51m \u001b[0m\u001b[38;2;51;51;51mresult\u001b[0m\u001b[38;2;51;51;51m[\u001b[0m\u001b[38;2;51;51;51mi\u001b[0m\u001b[38;2;51;51;51m]\u001b[0m\u001b[38;2;51;51;51m \u001b[0m\u001b[38;2;167;29;93m>\u001b[0m\u001b[38;2;51;51;51m \u001b[0m\u001b[38;2;0;134;179m0\u001b[0m\u001b[38;2;51;51;51m:\u001b[0m\n",
      "\u001b[38;5;238m  44\u001b[0m   \u001b[38;5;238m│\u001b[0m \u001b[38;2;51;51;51m            \u001b[0m\u001b[38;2;51;51;51mres\u001b[0m\u001b[38;2;51;51;51m \u001b[0m\u001b[38;2;167;29;93m*=\u001b[0m\u001b[38;2;51;51;51m \u001b[0m\u001b[38;2;51;51;51mi\u001b[0m\u001b[38;2;51;51;51m \u001b[0m\u001b[38;2;167;29;93m*\u001b[0m\u001b[38;2;167;29;93m*\u001b[0m\u001b[38;2;51;51;51m \u001b[0m\u001b[38;2;51;51;51mresult\u001b[0m\u001b[38;2;51;51;51m[\u001b[0m\u001b[38;2;51;51;51mi\u001b[0m\u001b[38;2;51;51;51m]\u001b[0m\n",
      "\u001b[38;5;238m  45\u001b[0m   \u001b[38;5;238m│\u001b[0m \u001b[38;2;51;51;51m    \u001b[0m\u001b[38;2;167;29;93mfor\u001b[0m\u001b[38;2;51;51;51m \u001b[0m\u001b[38;2;51;51;51mi\u001b[0m\u001b[38;2;51;51;51m \u001b[0m\u001b[38;2;167;29;93min\u001b[0m\u001b[38;2;51;51;51m \u001b[0m\u001b[38;2;0;134;179mrange\u001b[0m\u001b[38;2;51;51;51m(\u001b[0m\u001b[38;2;51;51;51mn\u001b[0m\u001b[38;2;167;29;93m+\u001b[0m\u001b[38;2;0;134;179m1\u001b[0m\u001b[38;2;51;51;51m)\u001b[0m\u001b[38;2;51;51;51m:\u001b[0m\n",
      "\u001b[38;5;238m  46\u001b[0m   \u001b[38;5;238m│\u001b[0m \u001b[38;2;51;51;51m        \u001b[0m\u001b[38;2;167;29;93mif\u001b[0m\u001b[38;2;51;51;51m \u001b[0m\u001b[38;2;51;51;51mresult\u001b[0m\u001b[38;2;51;51;51m[\u001b[0m\u001b[38;2;51;51;51mi\u001b[0m\u001b[38;2;51;51;51m]\u001b[0m\u001b[38;2;51;51;51m \u001b[0m\u001b[38;2;167;29;93m<\u001b[0m\u001b[38;2;51;51;51m \u001b[0m\u001b[38;2;0;134;179m0\u001b[0m\u001b[38;2;51;51;51m:\u001b[0m\n",
      "\u001b[38;5;238m  47\u001b[0m   \u001b[38;5;238m│\u001b[0m \u001b[38;2;51;51;51m            \u001b[0m\u001b[38;2;51;51;51mres\u001b[0m\u001b[38;2;51;51;51m \u001b[0m\u001b[38;2;167;29;93m//=\u001b[0m\u001b[38;2;51;51;51m \u001b[0m\u001b[38;2;51;51;51mi\u001b[0m\u001b[38;2;51;51;51m \u001b[0m\u001b[38;2;167;29;93m*\u001b[0m\u001b[38;2;167;29;93m*\u001b[0m\u001b[38;2;51;51;51m \u001b[0m\u001b[38;2;51;51;51m(\u001b[0m\u001b[38;2;167;29;93m-\u001b[0m\u001b[38;2;51;51;51mresult\u001b[0m\u001b[38;2;51;51;51m[\u001b[0m\u001b[38;2;51;51;51mi\u001b[0m\u001b[38;2;51;51;51m]\u001b[0m\u001b[38;2;51;51;51m)\u001b[0m\n",
      "\u001b[38;5;238m  48\u001b[0m   \u001b[38;5;238m│\u001b[0m \n",
      "\u001b[38;5;238m  49\u001b[0m   \u001b[38;5;238m│\u001b[0m \u001b[38;2;51;51;51m    \u001b[0m\u001b[38;2;150;152;150m#\u001b[0m\u001b[38;2;150;152;150m звільняємо памʼять, щоб не було витоку\u001b[0m\n",
      "\u001b[38;5;238m  50\u001b[0m   \u001b[38;5;238m│\u001b[0m \u001b[38;2;51;51;51m    \u001b[0m\u001b[38;2;51;51;51mcycle_types\u001b[0m\u001b[38;2;51;51;51m.\u001b[0m\u001b[38;2;0;134;179mfree_array\u001b[0m\u001b[38;2;51;51;51m(\u001b[0m\u001b[38;2;51;51;51mresult\u001b[0m\u001b[38;2;51;51;51m)\u001b[0m\n",
      "\u001b[38;5;238m  51\u001b[0m   \u001b[38;5;238m│\u001b[0m \u001b[38;2;51;51;51m    \u001b[0m\u001b[38;2;167;29;93mreturn\u001b[0m\u001b[38;2;51;51;51m \u001b[0m\u001b[38;2;51;51;51mres\u001b[0m\n",
      "\u001b[38;5;238m  52\u001b[0m   \u001b[38;5;238m│\u001b[0m \n",
      "\u001b[38;5;238m  53\u001b[0m   \u001b[38;5;238m│\u001b[0m \n",
      "\u001b[38;5;238m  54\u001b[0m   \u001b[38;5;238m│\u001b[0m \u001b[38;2;51;51;51mfull\u001b[0m\u001b[38;2;51;51;51m \u001b[0m\u001b[38;2;167;29;93m=\u001b[0m\u001b[38;2;51;51;51m \u001b[0m\u001b[38;2;0;134;179m190569292\u001b[0m\n",
      "\u001b[38;5;238m  55\u001b[0m   \u001b[38;5;238m│\u001b[0m \n",
      "\u001b[38;5;238m  56\u001b[0m   \u001b[38;5;238m│\u001b[0m \u001b[38;2;51;51;51mstart\u001b[0m\u001b[38;2;51;51;51m \u001b[0m\u001b[38;2;167;29;93m=\u001b[0m\u001b[38;2;51;51;51m \u001b[0m\u001b[38;2;0;134;179mFalse\u001b[0m\n",
      "\u001b[38;5;238m  57\u001b[0m   \u001b[38;5;238m│\u001b[0m \u001b[38;2;51;51;51mn\u001b[0m\u001b[38;2;51;51;51m \u001b[0m\u001b[38;2;167;29;93m=\u001b[0m\u001b[38;2;51;51;51m \u001b[0m\u001b[38;2;0;134;179m0\u001b[0m\n",
      "\u001b[38;5;238m  58\u001b[0m   \u001b[38;5;238m│\u001b[0m \u001b[38;2;51;51;51morders\u001b[0m\u001b[38;2;51;51;51m \u001b[0m\u001b[38;2;167;29;93m=\u001b[0m\u001b[38;2;51;51;51m \u001b[0m\u001b[38;2;51;51;51m{\u001b[0m\u001b[38;2;51;51;51m}\u001b[0m\n",
      "\u001b[38;5;238m  59\u001b[0m   \u001b[38;5;238m│\u001b[0m \n",
      "\u001b[38;5;238m  60\u001b[0m   \u001b[38;5;238m│\u001b[0m \u001b[38;2;0;134;179mprint\u001b[0m\u001b[38;2;51;51;51m(\u001b[0m\u001b[38;2;167;29;93mf\u001b[0m\u001b[38;2;24;54;145m'\u001b[0m\u001b[38;2;24;54;145m[*] Starting calculation for #\u001b[0m\u001b[38;2;51;51;51m{\u001b[0m\u001b[38;2;51;51;51mnum_worker\u001b[0m\u001b[38;2;51;51;51m}\u001b[0m\u001b[38;2;24;54;145m worker of \u001b[0m\u001b[38;2;51;51;51m{\u001b[0m\u001b[38;2;51;51;51mworkers\u001b[0m\u001b[38;2;51;51;51m}\u001b[0m\u001b[38;2;24;54;145m \u001b[0m\n",
      "\u001b[38;5;238m    \u001b[0m   \u001b[38;5;238m│\u001b[0m \u001b[38;2;24;54;145mtotal.\u001b[0m\u001b[38;2;24;54;145m'\u001b[0m\u001b[38;2;51;51;51m)\u001b[0m\n",
      "\u001b[38;5;238m  61\u001b[0m   \u001b[38;5;238m│\u001b[0m \n",
      "\u001b[38;5;238m  62\u001b[0m   \u001b[38;5;238m│\u001b[0m \u001b[38;2;167;29;93mfor\u001b[0m\u001b[38;2;51;51;51m \u001b[0m\u001b[38;2;51;51;51mpart\u001b[0m\u001b[38;2;51;51;51m \u001b[0m\u001b[38;2;167;29;93min\u001b[0m\u001b[38;2;51;51;51m \u001b[0m\u001b[38;2;0;134;179mtqdm\u001b[0m\u001b[38;2;51;51;51m(\u001b[0m\u001b[38;2;0;134;179mPartitions\u001b[0m\u001b[38;2;51;51;51m(\u001b[0m\u001b[38;2;0;134;179m100\u001b[0m\u001b[38;2;51;51;51m)\u001b[0m\u001b[38;2;51;51;51m,\u001b[0m\u001b[38;2;51;51;51m \u001b[0m\u001b[38;2;0;134;179mtotal\u001b[0m\u001b[38;2;167;29;93m=\u001b[0m\u001b[38;2;0;134;179mint\u001b[0m\u001b[38;2;51;51;51m(\u001b[0m\u001b[38;2;51;51;51mfull\u001b[0m\u001b[38;2;51;51;51m)\u001b[0m\u001b[38;2;51;51;51m)\u001b[0m\u001b[38;2;51;51;51m:\u001b[0m\n",
      "\u001b[38;5;238m  63\u001b[0m   \u001b[38;5;238m│\u001b[0m \n",
      "\u001b[38;5;238m  64\u001b[0m   \u001b[38;5;238m│\u001b[0m \u001b[38;2;51;51;51m    \u001b[0m\u001b[38;2;167;29;93mif\u001b[0m\u001b[38;2;51;51;51m \u001b[0m\u001b[38;2;51;51;51m(\u001b[0m\u001b[38;2;51;51;51mstart\u001b[0m\u001b[38;2;51;51;51m \u001b[0m\u001b[38;2;167;29;93mand\u001b[0m\u001b[38;2;51;51;51m \u001b[0m\u001b[38;2;51;51;51mn\u001b[0m\u001b[38;2;51;51;51m \u001b[0m\u001b[38;2;167;29;93m==\u001b[0m\u001b[38;2;51;51;51m \u001b[0m\u001b[38;2;51;51;51mnum_worker\u001b[0m\u001b[38;2;51;51;51m)\u001b[0m\u001b[38;2;51;51;51m \u001b[0m\u001b[38;2;167;29;93mor\u001b[0m\u001b[38;2;51;51;51m \u001b[0m\u001b[38;2;51;51;51mn\u001b[0m\u001b[38;2;51;51;51m \u001b[0m\u001b[38;2;167;29;93m==\u001b[0m\u001b[38;2;51;51;51m \u001b[0m\u001b[38;2;51;51;51mworkers\u001b[0m\u001b[38;2;51;51;51m:\u001b[0m\n",
      "\u001b[38;5;238m  65\u001b[0m   \u001b[38;5;238m│\u001b[0m \u001b[38;2;51;51;51m        \u001b[0m\u001b[38;2;51;51;51mn\u001b[0m\u001b[38;2;51;51;51m \u001b[0m\u001b[38;2;167;29;93m=\u001b[0m\u001b[38;2;51;51;51m \u001b[0m\u001b[38;2;0;134;179m0\u001b[0m\n",
      "\u001b[38;5;238m  66\u001b[0m   \u001b[38;5;238m│\u001b[0m \u001b[38;2;51;51;51m        \u001b[0m\u001b[38;2;51;51;51mstart\u001b[0m\u001b[38;2;51;51;51m \u001b[0m\u001b[38;2;167;29;93m=\u001b[0m\u001b[38;2;51;51;51m \u001b[0m\u001b[38;2;0;134;179mFalse\u001b[0m\n",
      "\u001b[38;5;238m  67\u001b[0m   \u001b[38;5;238m│\u001b[0m \u001b[38;2;51;51;51m        \u001b[0m\u001b[38;2;51;51;51mamount\u001b[0m\u001b[38;2;51;51;51m \u001b[0m\u001b[38;2;167;29;93m=\u001b[0m\u001b[38;2;51;51;51m \u001b[0m\u001b[38;2;0;134;179msymmetric_factors\u001b[0m\u001b[38;2;51;51;51m(\u001b[0m\u001b[38;2;51;51;51mpart\u001b[0m\u001b[38;2;51;51;51m,\u001b[0m\u001b[38;2;51;51;51m \u001b[0m\u001b[38;2;0;134;179m100\u001b[0m\u001b[38;2;51;51;51m)\u001b[0m\n",
      "\u001b[38;5;238m  68\u001b[0m   \u001b[38;5;238m│\u001b[0m \u001b[38;2;51;51;51m        \u001b[0m\u001b[38;2;51;51;51morder\u001b[0m\u001b[38;2;51;51;51m \u001b[0m\u001b[38;2;167;29;93m=\u001b[0m\u001b[38;2;51;51;51m \u001b[0m\u001b[38;2;0;134;179mLCM\u001b[0m\u001b[38;2;51;51;51m(\u001b[0m\u001b[38;2;51;51;51mpart\u001b[0m\u001b[38;2;51;51;51m)\u001b[0m\u001b[38;2;51;51;51m   \u001b[0m\u001b[38;2;150;152;150m#\u001b[0m\u001b[38;2;150;152;150m найменше спільне кратне для послідовносте\u001b[0m\n",
      "\u001b[38;5;238m    \u001b[0m   \u001b[38;5;238m│\u001b[0m \u001b[38;2;150;152;150mй\u001b[0m\n",
      "\u001b[38;5;238m  69\u001b[0m   \u001b[38;5;238m│\u001b[0m \u001b[38;2;51;51;51m        \u001b[0m\u001b[38;2;167;29;93mif\u001b[0m\u001b[38;2;51;51;51m \u001b[0m\u001b[38;2;51;51;51morder\u001b[0m\u001b[38;2;51;51;51m \u001b[0m\u001b[38;2;167;29;93mnot\u001b[0m\u001b[38;2;51;51;51m \u001b[0m\u001b[38;2;167;29;93min\u001b[0m\u001b[38;2;51;51;51m \u001b[0m\u001b[38;2;51;51;51morders\u001b[0m\u001b[38;2;51;51;51m:\u001b[0m\n",
      "\u001b[38;5;238m  70\u001b[0m   \u001b[38;5;238m│\u001b[0m \u001b[38;2;51;51;51m            \u001b[0m\u001b[38;2;51;51;51morders\u001b[0m\u001b[38;2;51;51;51m[\u001b[0m\u001b[38;2;51;51;51morder\u001b[0m\u001b[38;2;51;51;51m]\u001b[0m\u001b[38;2;51;51;51m \u001b[0m\u001b[38;2;167;29;93m=\u001b[0m\u001b[38;2;51;51;51m \u001b[0m\u001b[38;2;0;134;179m0\u001b[0m\n",
      "\u001b[38;5;238m  71\u001b[0m   \u001b[38;5;238m│\u001b[0m \u001b[38;2;51;51;51m        \u001b[0m\u001b[38;2;51;51;51morders\u001b[0m\u001b[38;2;51;51;51m[\u001b[0m\u001b[38;2;51;51;51morder\u001b[0m\u001b[38;2;51;51;51m]\u001b[0m\u001b[38;2;51;51;51m \u001b[0m\u001b[38;2;167;29;93m+=\u001b[0m\u001b[38;2;51;51;51m \u001b[0m\u001b[38;2;51;51;51mamount\u001b[0m\n",
      "\u001b[38;5;238m  72\u001b[0m   \u001b[38;5;238m│\u001b[0m \n",
      "\u001b[38;5;238m  73\u001b[0m   \u001b[38;5;238m│\u001b[0m \u001b[38;2;51;51;51m    \u001b[0m\u001b[38;2;51;51;51mn\u001b[0m\u001b[38;2;51;51;51m \u001b[0m\u001b[38;2;167;29;93m+=\u001b[0m\u001b[38;2;51;51;51m \u001b[0m\u001b[38;2;0;134;179m1\u001b[0m\n",
      "\u001b[38;5;238m  74\u001b[0m   \u001b[38;5;238m│\u001b[0m \n",
      "\u001b[38;5;238m  75\u001b[0m   \u001b[38;5;238m│\u001b[0m \n",
      "\u001b[38;5;238m  76\u001b[0m   \u001b[38;5;238m│\u001b[0m \u001b[38;2;167;29;93mwith\u001b[0m\u001b[38;2;51;51;51m \u001b[0m\u001b[38;2;0;134;179mopen\u001b[0m\u001b[38;2;51;51;51m(\u001b[0m\u001b[38;2;167;29;93mf\u001b[0m\u001b[38;2;24;54;145m'\u001b[0m\u001b[38;2;24;54;145m./result_worker\u001b[0m\u001b[38;2;51;51;51m{\u001b[0m\u001b[38;2;51;51;51mnum_worker\u001b[0m\u001b[38;2;51;51;51m}\u001b[0m\u001b[38;2;24;54;145m.txt\u001b[0m\u001b[38;2;24;54;145m'\u001b[0m\u001b[38;2;51;51;51m,\u001b[0m\u001b[38;2;51;51;51m \u001b[0m\u001b[38;2;24;54;145m'\u001b[0m\u001b[38;2;24;54;145mw\u001b[0m\u001b[38;2;24;54;145m'\u001b[0m\u001b[38;2;51;51;51m)\u001b[0m\u001b[38;2;51;51;51m \u001b[0m\u001b[38;2;167;29;93mas\u001b[0m\u001b[38;2;51;51;51m \u001b[0m\u001b[38;2;51;51;51mfile\u001b[0m\u001b[38;2;51;51;51m:\u001b[0m\n",
      "\u001b[38;5;238m  77\u001b[0m   \u001b[38;5;238m│\u001b[0m \u001b[38;2;51;51;51m    \u001b[0m\u001b[38;2;167;29;93mfor\u001b[0m\u001b[38;2;51;51;51m \u001b[0m\u001b[38;2;51;51;51mk\u001b[0m\u001b[38;2;51;51;51m,\u001b[0m\u001b[38;2;51;51;51m \u001b[0m\u001b[38;2;51;51;51mv\u001b[0m\u001b[38;2;51;51;51m \u001b[0m\u001b[38;2;167;29;93min\u001b[0m\u001b[38;2;51;51;51m \u001b[0m\u001b[38;2;51;51;51morders\u001b[0m\u001b[38;2;51;51;51m.\u001b[0m\u001b[38;2;0;134;179mitems\u001b[0m\u001b[38;2;51;51;51m(\u001b[0m\u001b[38;2;51;51;51m)\u001b[0m\u001b[38;2;51;51;51m:\u001b[0m\n",
      "\u001b[38;5;238m  78\u001b[0m   \u001b[38;5;238m│\u001b[0m \u001b[38;2;51;51;51m        \u001b[0m\u001b[38;2;0;134;179mprint\u001b[0m\u001b[38;2;51;51;51m(\u001b[0m\u001b[38;2;51;51;51mk\u001b[0m\u001b[38;2;51;51;51m,\u001b[0m\u001b[38;2;51;51;51m \u001b[0m\u001b[38;2;51;51;51mv\u001b[0m\u001b[38;2;51;51;51m,\u001b[0m\u001b[38;2;51;51;51m \u001b[0m\u001b[38;2;0;134;179mfile\u001b[0m\u001b[38;2;167;29;93m=\u001b[0m\u001b[38;2;51;51;51mfile\u001b[0m\u001b[38;2;51;51;51m)\u001b[0m\n",
      "\u001b[38;5;238m───────┴────────────────────────────────────────────────────────────────────────\u001b[0m\n"
     ]
    }
   ],
   "source": [
    "!bat --theme=GitHub -l py ./lab03_assets/cycletype.sage"
   ]
  },
  {
   "cell_type": "code",
   "execution_count": 103,
   "id": "e9937c1b-3552-46c7-95f3-9523c101c47c",
   "metadata": {},
   "outputs": [
    {
     "name": "stdout",
     "output_type": "stream",
     "text": [
      "[*] Starting calculation for #0 worker of 1 total.\n",
      "  0%|                           | 125494/190569292 [00:04<1:43:02, 30801.20it/s]^C\n",
      "  0%|                           | 129925/190569292 [00:04<1:43:02, 30801.42it/s]\n",
      "Traceback (most recent call last):\n",
      "  File \"/Users/davendiy/Documents/work/teaching/group_theory/sage-labs2024/answers/./lab03_assets/cycletype.sage.py\", line 77, in <module>\n",
      "    amount = symmetric_factors(part, _sage_const_100 )\n",
      "             ^^^^^^^^^^^^^^^^^^^^^^^^^^^^^^^^^^^^^^^^^\n",
      "  File \"/Users/davendiy/Documents/work/teaching/group_theory/sage-labs2024/answers/./lab03_assets/cycletype.sage.py\", line -1, in symmetric_factors\n",
      "  File \"src/cysignals/signals.pyx\", line 341, in cysignals.signals.python_check_interrupt\n",
      "KeyboardInterrupt\n"
     ]
    }
   ],
   "source": [
    "# компілюємо як статичну бібліотеку\n",
    "!g++ -shared -o ./lab03_assets/cycletype.so -fPIC ./lab03_assets/cycletype.cpp  &> /dev/null \n",
    "!sage ./lab03_assets/cycletype.sage"
   ]
  },
  {
   "cell_type": "markdown",
   "id": "9fc0feaa-fd31-4f4f-90f3-77ae3b026496",
   "metadata": {},
   "source": [
    "#### Показує ті самі ~1:40 в жупітері і ~1:05 в терміналі. \n",
    "\n",
    "Отже, можна зробити висновок, що сейджовська версі таки дійсно написана оптимально. Можна пробувати поліпшувати ще код, але навіщо, якщо можна запустити в 6 воркерів і отримати нормальні 10 хвилин? "
   ]
  },
  {
   "cell_type": "code",
   "execution_count": 104,
   "id": "658135c9-6e88-48a3-8053-0126b70c7255",
   "metadata": {},
   "outputs": [],
   "source": [
    "# просто запускаємо в 6х різних терміналах команди\n",
    "# (і надіємось, що не вилетить по оперативці)\n",
    "!sage ./lab03_assets/cycletype.sage 6 0 \n",
    "!sage ./lab03_assets/cycletype.sage 6 1\n",
    "!sage ./lab03_assets/cycletype.sage 6 2 \n",
    "!sage ./lab03_assets/cycletype.sage 6 3 \n",
    "!sage ./lab03_assets/cycletype.sage 6 4 \n",
    "!sage ./lab03_assets/cycletype.sage 6 5 \n",
    "\n",
    "\n",
    "# примітка: на макбуку еір м2 після 4-х воркерів починає деградувати \n",
    "# час виконання. На ноуті з Ryzen 7 5800H і убунтою сейджова версія стає \n",
    "# навіть швидшою за с++, але РАПТОМ повільнішою за еір м2. \n",
    "# тим не менш, лінуксовий ноут дозволяє запустити в 12 воркерів і отримати прекрасні 5хв \n",
    "#❯ ./lab03_assets/pure 12 0 | python lab03_assets/product.py 12 0\n",
    "#  0%|▌            | 51041/15880776 [00:01<05:55, 44548.59it/s]"
   ]
  },
  {
   "cell_type": "markdown",
   "id": "aa1ddcec-2a21-46d5-80be-ff32c79d7de8",
   "metadata": {},
   "source": [
    "## Завдання 3. \n",
    "___Для заданих натуральних $n, k$ ($1 <= n \\le 1 000 000, 1 \\le k \\le n!$) визначте чи існує в групі $S_n$ елемент порядку $k$.___\n",
    "\n",
    "----------\n",
    "\n",
    "___Зауваження:___ зверніть увагу на межі, в яких задано $n, k$. "
   ]
  },
  {
   "cell_type": "code",
   "execution_count": null,
   "id": "4a04b16b-4a63-4a64-902b-f07148aad1f7",
   "metadata": {},
   "outputs": [],
   "source": [
    "# ваш код тут"
   ]
  }
 ],
 "metadata": {
  "kernelspec": {
   "display_name": "SageMath 10.3",
   "language": "sage",
   "name": "sagemath-10.3"
  },
  "language_info": {
   "codemirror_mode": {
    "name": "ipython",
    "version": 3
   },
   "file_extension": ".py",
   "mimetype": "text/x-python",
   "name": "python",
   "nbconvert_exporter": "python",
   "pygments_lexer": "ipython3",
   "version": "3.11.8"
  }
 },
 "nbformat": 4,
 "nbformat_minor": 5
}
