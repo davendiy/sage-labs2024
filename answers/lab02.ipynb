{
 "cells": [
  {
   "cell_type": "code",
   "execution_count": 1,
   "id": "fa8ab332-9597-428e-9d6e-0b24b4b95fed",
   "metadata": {},
   "outputs": [
    {
     "name": "stdout",
     "output_type": "stream",
     "text": [
      "Requirement already satisfied: tqdm in /Users/davendiy/.sage/local/lib/python3.11/site-packages (4.66.5)\n",
      "\n",
      "\u001b[1m[\u001b[0m\u001b[34;49mnotice\u001b[0m\u001b[1;39;49m]\u001b[0m\u001b[39;49m A new release of pip is available: \u001b[0m\u001b[31;49m23.3.1\u001b[0m\u001b[39;49m -> \u001b[0m\u001b[32;49m24.2\u001b[0m\n",
      "\u001b[1m[\u001b[0m\u001b[34;49mnotice\u001b[0m\u001b[1;39;49m]\u001b[0m\u001b[39;49m To update, run: \u001b[0m\u001b[32;49mpip install --upgrade pip\u001b[0m\n"
     ]
    }
   ],
   "source": [
    "!pip install tqdm "
   ]
  },
  {
   "cell_type": "markdown",
   "id": "c1b9613b-2bdf-433e-90eb-947b165c5a72",
   "metadata": {},
   "source": [
    "# Лабораторна робота 2. Бінарні дії\n",
    "\n",
    "__Примітка:__ наведений код є лише одним з можливих шаблонів виконання. Можете писати по-своєму, але розділяйте свій код на функції, щоб їх можна було простіше перевіряти. \n",
    "\n",
    "## Завдання 1.\n",
    "\n",
    "__Визначити усіма можливими способами бінарну дію на множині з n=2,3 елементів. Побудувати таблицю Келі для кожної з цих дій.__\n",
    "\n",
    "_Підказка_: використайте класи FiniteSetMaps та OperationTable, як показано в [прикладах](../notebooks/02-binary_actions.ipynb). "
   ]
  },
  {
   "cell_type": "code",
   "execution_count": 2,
   "id": "055dd367-c311-4107-9f4a-5f50bb95cedd",
   "metadata": {},
   "outputs": [],
   "source": [
    "import os \n",
    "from tqdm import tqdm \n",
    "\n",
    "folder = 'lab02_assets/'\n",
    "os.makedirs(folder, exist_ok=True)"
   ]
  },
  {
   "cell_type": "code",
   "execution_count": 3,
   "id": "5e51ce78-0c61-446e-91c3-57075397ea03",
   "metadata": {},
   "outputs": [],
   "source": [
    "from sage.matrix.operation_table import OperationTable"
   ]
  },
  {
   "cell_type": "code",
   "execution_count": 4,
   "id": "6f31f202-7995-4a06-8200-86d856441f8b",
   "metadata": {},
   "outputs": [
    {
     "name": "stderr",
     "output_type": "stream",
     "text": [
      "100%|██████████████████████████████████████████████████████████████████████████████████████████████████████████████████████████████████████████████████████████████████| 19683/19683 [00:00<00:00, 29955.81it/s]"
     ]
    },
    {
     "name": "stdout",
     "output_type": "stream",
     "text": [
      "[*] Done. \n"
     ]
    },
    {
     "name": "stderr",
     "output_type": "stream",
     "text": [
      "\n"
     ]
    }
   ],
   "source": [
    "\n",
    "# needed_set = [1, 2]\n",
    "needed_set = [1, 2, 3]\n",
    "\n",
    "\n",
    "def all_actions(space):\n",
    "    S = cartesian_product([space, space])\n",
    "    D = space\n",
    "    return FiniteSetMaps(S, D)\n",
    "\n",
    "\n",
    "def convert_action(action):\n",
    "    \"\"\"Адаптер, який перетворює дію в комфортний для нас формат.\"\"\"\n",
    "    \n",
    "    def _action(a, b): \n",
    "        return action((a, b))\n",
    "\n",
    "    return _action\n",
    "\n",
    "\n",
    "with open(folder + f\"task1_{len(needed_set)}.txt\", 'w') as file: \n",
    "    for f in tqdm(all_actions(needed_set)):\n",
    "        print(f, file=file)\n",
    "        print(OperationTable(needed_set, convert_action(f)), file=file)\n",
    "print('[*] Done. ')"
   ]
  },
  {
   "cell_type": "code",
   "execution_count": 5,
   "id": "1dabb57c-063e-4df1-b538-856cb0cb4bc2",
   "metadata": {},
   "outputs": [
    {
     "name": "stdout",
     "output_type": "stream",
     "text": [
      "map: (1, 1) -> 1, (1, 2) -> 1, (1, 3) -> 1, (2, 1) -> 1, (2, 2) -> 1, (2, 3) -> 1, (3, 1) -> 1, (3, 2) -> 1, (3, 3) -> 1\n",
      ".  a b c\n",
      " +------\n",
      "a| a a a\n",
      "b| a a a\n",
      "c| a a a\n",
      "\n",
      "map: (1, 1) -> 1, (1, 2) -> 1, (1, 3) -> 1, (2, 1) -> 1, (2, 2) -> 1, (2, 3) -> 1, (3, 1) -> 1, (3, 2) -> 1, (3, 3) -> 2\n",
      ".  a b c\n",
      " +------\n",
      "\n",
      "\n",
      "...\n",
      "\n",
      "\n",
      "b| c c c\n",
      "c| c c b\n",
      "\n",
      "map: (1, 1) -> 3, (1, 2) -> 3, (1, 3) -> 3, (2, 1) -> 3, (2, 2) -> 3, (2, 3) -> 3, (3, 1) -> 3, (3, 2) -> 3, (3, 3) -> 3\n",
      ".  a b c\n",
      " +------\n",
      "a| c c c\n",
      "b| c c c\n",
      "c| c c c\n",
      "\n"
     ]
    }
   ],
   "source": [
    "!head 'lab02_assets/task1_3.txt'\n",
    "!echo '\\n\\n...\\n\\n'\n",
    "!tail 'lab02_assets/task1_3.txt'"
   ]
  },
  {
   "cell_type": "markdown",
   "id": "c5354f64-79db-41b1-8307-82cc2e7a56a5",
   "metadata": {},
   "source": [
    "## Завдання 2. \n",
    "__Для кожної з визначених дій перевірити чи буде дія асоціативною. Якщо дія не асоціативна, то вивести трійку, для якої ця умова порушується.__"
   ]
  },
  {
   "cell_type": "code",
   "execution_count": 9,
   "id": "29ff592c-1ddf-4bc4-a4d5-7b4d14fecb61",
   "metadata": {},
   "outputs": [
    {
     "name": "stderr",
     "output_type": "stream",
     "text": [
      "100%|████████████████████████████████████████████████████████████████████████████████████████████████████████████████████████████████████████████████████████████████████████| 16/16 [00:00<00:00, 25801.18it/s]\n"
     ]
    }
   ],
   "source": [
    "def is_associative(space, action): \n",
    "    for a in space: \n",
    "        for b in space: \n",
    "            for c in space: \n",
    "                if action(a, action(b, c)) != action(action(a, b), c): \n",
    "                    return False, (a, b, c)\n",
    "    return True, None \n",
    "\n",
    "\n",
    "needed_set = [1, 2]\n",
    "# needed_set = [1, 2, 3]\n",
    "\n",
    "\n",
    "associative_actions = []\n",
    "\n",
    "with open(folder + f'task2_{len(needed_set)}.txt', 'w') as file: \n",
    "    for f in tqdm(all_actions(needed_set)): \n",
    "        result, counter = is_associative(needed_set, convert_action(f))\n",
    "        if not result: \n",
    "            print(\"Дія не асоціативна, контрприклад:\", counter, file=file)\n",
    "        else: \n",
    "            associative_actions.append(f)\n",
    "            \n",
    "    print(f'К-ть асоціативних дій для {len(needed_set)}-елементної множини:', len(associative_actions), file=file)"
   ]
  },
  {
   "cell_type": "code",
   "execution_count": 11,
   "id": "aee0d19f-9ced-4361-b562-9f0f5e740d66",
   "metadata": {},
   "outputs": [
    {
     "name": "stdout",
     "output_type": "stream",
     "text": [
      "Дія не асоціативна, контрприклад: (2, 1, 2)\n",
      "Дія не асоціативна, контрприклад: (2, 1, 2)\n",
      "Дія не асоціативна, контрприклад: (1, 1, 2)\n",
      "Дія не асоціативна, контрприклад: (1, 1, 1)\n",
      "Дія не асоціативна, контрприклад: (1, 1, 1)\n",
      "Дія не асоціативна, контрприклад: (1, 1, 1)\n",
      "Дія не асоціативна, контрприклад: (1, 1, 1)\n",
      "Дія не асоціативна, контрприклад: (1, 1, 2)\n",
      "К-ть асоціативних дій для 2-елементної множини: 8\n",
      "\n",
      "\n",
      "...\n",
      "\n",
      "\n",
      "Дія не асоціативна, контрприклад: (2, 1, 2)\n",
      "Дія не асоціативна, контрприклад: (2, 1, 2)\n",
      "Дія не асоціативна, контрприклад: (1, 1, 2)\n",
      "Дія не асоціативна, контрприклад: (1, 1, 1)\n",
      "Дія не асоціативна, контрприклад: (1, 1, 1)\n",
      "Дія не асоціативна, контрприклад: (1, 1, 1)\n",
      "Дія не асоціативна, контрприклад: (1, 1, 1)\n",
      "Дія не асоціативна, контрприклад: (1, 1, 2)\n",
      "К-ть асоціативних дій для 2-елементної множини: 8\n"
     ]
    }
   ],
   "source": [
    "!head 'lab02_assets/task2_2.txt'\n",
    "!echo '\\n\\n...\\n\\n'\n",
    "!tail 'lab02_assets/task2_2.txt'"
   ]
  },
  {
   "cell_type": "markdown",
   "id": "ab7093b0-a376-4ade-bdda-06612fad28ec",
   "metadata": {},
   "source": [
    "## Завдання 3. \n",
    "\n",
    "__Перевірити, які з визначених множин з асоціативними бінарними діями будуть ізоморфними між собою і знайти кількість класів попарно ізоморфних між собою множин.__"
   ]
  },
  {
   "cell_type": "code",
   "execution_count": 12,
   "id": "61c4c69b-b6f4-4411-96d7-e6783f0a24d8",
   "metadata": {},
   "outputs": [
    {
     "name": "stderr",
     "output_type": "stream",
     "text": [
      "100%|████████████████████████████████████████████████████████████████████████████████████████████████████████████████████████████████████████████████████████████████████████████| 8/8 [00:00<00:00, 218.67it/s]"
     ]
    },
    {
     "name": "stdout",
     "output_type": "stream",
     "text": [
      "К-ть класів ізоморфності: 5\n",
      "К-ть дій в кожному класі:\n",
      "2 : map: (1, 1) -> 1, (1, 2) -> 1, (2, 1) -> 1, (2, 2) -> 1\n",
      "2 : map: (1, 1) -> 1, (1, 2) -> 1, (2, 1) -> 1, (2, 2) -> 2\n",
      "2 : map: (1, 1) -> 1, (1, 2) -> 2, (2, 1) -> 2, (2, 2) -> 1\n",
      "1 : map: (1, 1) -> 1, (1, 2) -> 1, (2, 1) -> 2, (2, 2) -> 2\n",
      "1 : map: (1, 1) -> 1, (1, 2) -> 2, (2, 1) -> 1, (2, 2) -> 2\n"
     ]
    },
    {
     "name": "stderr",
     "output_type": "stream",
     "text": [
      "\n"
     ]
    }
   ],
   "source": [
    "\n",
    "def _is_isomorphic(space1, action1, space2, action2, phi: dict): \n",
    "    for a in space1: \n",
    "        for b in space1: \n",
    "            left = phi[action1(a, b)]\n",
    "            right = action2(phi[a], phi[b])\n",
    "            if left != right: \n",
    "                return False \n",
    "    return True \n",
    "    \n",
    "\n",
    "def is_isomorphic(space1, action1, space2, action2): \n",
    "    assert len(space1) == len(space2)\n",
    "\n",
    "    for phi in Bijectionist(space1, space2).solutions_iterator(): \n",
    "        if _is_isomorphic(space1, action1, space2, action2, phi): \n",
    "            return True \n",
    "    return False\n",
    "\n",
    "\n",
    "# список представників класів ізоморфності \n",
    "isomorph_classes = []\n",
    "\n",
    "for f1 in tqdm(associative_actions): \n",
    "    for iso_class in isomorph_classes: \n",
    "        f2 = iso_class[0]\n",
    "        if is_isomorphic(needed_set, convert_action(f1), needed_set, convert_action(f2)): \n",
    "            iso_class[1] += 1\n",
    "            break \n",
    "    # якщо жоден з представників не ізоморфний \n",
    "    else:    \n",
    "        isomorph_classes.append([f1, 1])\n",
    "\n",
    "print('К-ть класів ізоморфності:', len(isomorph_classes))\n",
    "print('К-ть дій в кожному класі:')\n",
    "for iso_class in sorted(isomorph_classes, key=lambda _x: _x[1], reverse=True): \n",
    "    print(iso_class[1], ':', iso_class[0])"
   ]
  }
 ],
 "metadata": {
  "kernelspec": {
   "display_name": "SageMath 10.3",
   "language": "sage",
   "name": "sagemath-10.3"
  },
  "language_info": {
   "codemirror_mode": {
    "name": "ipython",
    "version": 3
   },
   "file_extension": ".py",
   "mimetype": "text/x-python",
   "name": "python",
   "nbconvert_exporter": "python",
   "pygments_lexer": "ipython3",
   "version": "3.11.8"
  }
 },
 "nbformat": 4,
 "nbformat_minor": 5
}
